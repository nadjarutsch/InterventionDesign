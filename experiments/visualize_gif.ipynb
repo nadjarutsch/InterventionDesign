{
 "cells": [
  {
   "cell_type": "markdown",
   "metadata": {},
   "source": [
    "# Visualizing learning process as GIF"
   ]
  },
  {
   "cell_type": "code",
   "execution_count": 13,
   "metadata": {},
   "outputs": [],
   "source": [
    "import os\n",
    "import torch\n",
    "import numpy as np\n",
    "import matplotlib.pyplot as plt \n",
    "import imageio\n",
    "import networkx as nx  "
   ]
  },
  {
   "cell_type": "code",
   "execution_count": 80,
   "metadata": {},
   "outputs": [],
   "source": [
    "import sys\n",
    "sys.path.append(\"../\")\n",
    "from causal_graphs.graph_definition import CausalDAG\n",
    "from causal_graphs.graph_visualization import visualize_graph"
   ]
  },
  {
   "cell_type": "code",
   "execution_count": 82,
   "metadata": {},
   "outputs": [],
   "source": [
    "# BASE_PATH = \"checkpoints/2021_04_29__15_39_17/\"\n",
    "BASE_PATH = \"checkpoints/2021_04_29__15_50_42/\""
   ]
  },
  {
   "cell_type": "code",
   "execution_count": 83,
   "metadata": {},
   "outputs": [],
   "source": [
    "vis_folder = BASE_PATH + \"visualizations/\"\n",
    "os.makedirs(vis_folder, exist_ok=True)"
   ]
  },
  {
   "cell_type": "code",
   "execution_count": 84,
   "metadata": {},
   "outputs": [],
   "source": [
    "graph = CausalDAG.load_from_file(BASE_PATH + \"graph_1.pt\")\n",
    "visualize_graph(graph, filename=vis_folder + \"graph_1.pdf\", layout=\"circular\", figsize=(5,5))"
   ]
  },
  {
   "cell_type": "code",
   "execution_count": 85,
   "metadata": {},
   "outputs": [],
   "source": [
    "gamma = np.load(BASE_PATH + \"gamma_log_1_GraphDiscoveryMatrix.npz\")[\"arr_0\"].astype(np.float32)\n",
    "theta = np.load(BASE_PATH + \"theta_matrix_log_1_GraphDiscoveryMatrix.npz\")[\"arr_0\"].astype(np.float32)"
   ]
  },
  {
   "cell_type": "code",
   "execution_count": 86,
   "metadata": {},
   "outputs": [],
   "source": [
    "probs = 1/((1 + np.exp(-gamma))*(1 + np.exp(-theta)))"
   ]
  },
  {
   "cell_type": "code",
   "execution_count": 87,
   "metadata": {},
   "outputs": [],
   "source": [
    "G = nx.DiGraph()\n",
    "G.add_nodes_from([v.name for v in graph.variables])\n",
    "G.add_edges_from([(graph.variables[i].name,graph.variables[j].name) for j in range(graph.num_vars) for i in range(graph.num_vars) if i!=j])"
   ]
  },
  {
   "cell_type": "code",
   "execution_count": 88,
   "metadata": {},
   "outputs": [],
   "source": [
    "filenames = []\n",
    "for i in range(0, probs.shape[0], 20):\n",
    "    edge_colors = probs[i].reshape(-1)\n",
    "    edge_colors = edge_colors[(np.arange(edge_colors.shape[0])%probs.shape[1])!=(np.arange(edge_colors.shape[0])//probs.shape[2])]\n",
    "    edge_colors = np.concatenate([np.zeros((edge_colors.shape[0],3), dtype=np.float32), edge_colors[...,None]], axis=-1)\n",
    "    \n",
    "    fig = plt.figure(figsize=(5,5), dpi=100)\n",
    "    nx.draw(G, pos=nx.circular_layout(G),\n",
    "            arrows=True, with_labels=True, font_weight='bold', node_color='lightgrey', \n",
    "            edge_color=edge_colors, edgecolors='black', node_size=600, arrowstyle='-|>', arrowsize=16)\n",
    "    filenames.append(vis_folder + \"figure_%s.png\" % (str(i).zfill(5)))\n",
    "    plt.savefig(filenames[-1])\n",
    "    plt.close()"
   ]
  },
  {
   "cell_type": "code",
   "execution_count": 89,
   "metadata": {},
   "outputs": [],
   "source": [
    "with imageio.get_writer(vis_folder + 'learning_process.gif', mode='I') as writer:\n",
    "    for filename in filenames:\n",
    "        image = imageio.imread(filename)\n",
    "        writer.append_data(image)"
   ]
  },
  {
   "cell_type": "code",
   "execution_count": 90,
   "metadata": {},
   "outputs": [],
   "source": [
    "for filename in set(filenames):\n",
    "    os.remove(filename)"
   ]
  },
  {
   "cell_type": "code",
   "execution_count": null,
   "metadata": {},
   "outputs": [],
   "source": []
  }
 ],
 "metadata": {
  "kernelspec": {
   "display_name": "Python 3",
   "language": "python",
   "name": "python3"
  },
  "language_info": {
   "codemirror_mode": {
    "name": "ipython",
    "version": 3
   },
   "file_extension": ".py",
   "mimetype": "text/x-python",
   "name": "python",
   "nbconvert_exporter": "python",
   "pygments_lexer": "ipython3",
   "version": "3.7.3"
  }
 },
 "nbformat": 4,
 "nbformat_minor": 4
}
