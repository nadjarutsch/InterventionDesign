{
 "cells": [
  {
   "cell_type": "markdown",
   "metadata": {},
   "source": [
    "# Showing limitations of our approach"
   ]
  },
  {
   "cell_type": "code",
   "execution_count": 53,
   "metadata": {},
   "outputs": [
    {
     "name": "stderr",
     "output_type": "stream",
     "text": [
      "Global seed set to 42\n"
     ]
    }
   ],
   "source": [
    "import numpy as np\n",
    "import random\n",
    "from tqdm.notebook import tqdm\n",
    "from copy import deepcopy\n",
    "import time\n",
    "import torch\n",
    "import torch.nn as nn \n",
    "import torch.nn.functional as F\n",
    "import pytorch_lightning as pl\n",
    "pl.seed_everything(42)\n",
    "\n",
    "## Imports for plotting\n",
    "import matplotlib.pyplot as plt\n",
    "%matplotlib inline\n",
    "from matplotlib import cm\n",
    "from IPython.display import set_matplotlib_formats\n",
    "set_matplotlib_formats('svg', 'pdf') # For export\n",
    "from matplotlib.colors import to_rgba\n",
    "import seaborn as sns\n",
    "sns.reset_orig()"
   ]
  },
  {
   "cell_type": "code",
   "execution_count": 54,
   "metadata": {},
   "outputs": [],
   "source": [
    "from graph_discovery import GraphDiscoveryMatrix\n",
    "from utils import matrix_to_order\n",
    "from causal_graphs.graph_real_world import load_graph_file\n",
    "from causal_graphs.graph_generation import generate_categorical_graph, generate_chain, generate_random_graph, generate_jungle\n",
    "from causal_graphs.graph_visualization import visualize_graph\n",
    "from causal_graphs.graph_utils import adj_matrix_to_edges"
   ]
  },
  {
   "cell_type": "code",
   "execution_count": 116,
   "metadata": {},
   "outputs": [
    {
     "data": {
      "application/pdf": "[encoded data removed]",
      "image/svg+xml": [
       "<?xml version=\"1.0\" encoding=\"utf-8\" standalone=\"no\"?>\n",
       "<!DOCTYPE svg PUBLIC \"-//W3C//DTD SVG 1.1//EN\"\n",
       "  \"http://www.w3.org/Graphics/SVG/1.1/DTD/svg11.dtd\">\n",
       "<!-- Created with matplotlib (https://matplotlib.org/) -->\n",
       "<svg height=\"230.4pt\" version=\"1.1\" viewBox=\"0 0 230.4 230.4\" width=\"230.4pt\" xmlns=\"http://www.w3.org/2000/svg\" xmlns:xlink=\"http://www.w3.org/1999/xlink\">\n",
       " <metadata>\n",
       "  <rdf:RDF xmlns:cc=\"http://creativecommons.org/ns#\" xmlns:dc=\"http://purl.org/dc/elements/1.1/\" xmlns:rdf=\"http://www.w3.org/1999/02/22-rdf-syntax-ns#\">\n",
       "   <cc:Work>\n",
       "    <dc:type rdf:resource=\"http://purl.org/dc/dcmitype/StillImage\"/>\n",
       "    <dc:date>2021-04-12T13:51:37.317796</dc:date>\n",
       "    <dc:format>image/svg+xml</dc:format>\n",
       "    <dc:creator>\n",
       "     <cc:Agent>\n",
       "      <dc:title>Matplotlib v3.3.3, https://matplotlib.org/</dc:title>\n",
       "     </cc:Agent>\n",
       "    </dc:creator>\n",
       "   </cc:Work>\n",
       "  </rdf:RDF>\n",
       " </metadata>\n",
       " <defs>\n",
       "  <style type=\"text/css\">*{stroke-linecap:butt;stroke-linejoin:round;}</style>\n",
       " </defs>\n",
       " <g id=\"figure_1\">\n",
       "  <g id=\"patch_1\">\n",
       "   <path d=\"M 0 230.4 \n",
       "L 230.4 230.4 \n",
       "L 230.4 0 \n",
       "L 0 0 \n",
       "z\n",
       "\" style=\"fill:#ffffff;\"/>\n",
       "  </g>\n",
       "  <g id=\"axes_1\">\n",
       "   <g id=\"patch_2\">\n",
       "    <path clip-path=\"url(#p170e0170a1)\" d=\"M 106.540776 34.603026 \n",
       "Q 70.572458 70.571344 35.394709 105.749093 \n",
       "\" style=\"fill:none;stroke:#000000;stroke-linecap:round;\"/>\n",
       "    <path clip-path=\"url(#p170e0170a1)\" d=\"M 42.182934 103.486351 \n",
       "L 35.394709 105.749093 \n",
       "L 37.65745 98.960868 \n",
       "L 42.182934 103.486351 \n",
       "z\n",
       "\" style=\"stroke:#000000;stroke-linecap:round;\"/>\n",
       "   </g>\n",
       "   <g id=\"patch_3\">\n",
       "    <path clip-path=\"url(#p170e0170a1)\" d=\"M 123.859224 34.603026 \n",
       "Q 159.827542 70.571344 195.005291 105.749093 \n",
       "\" style=\"fill:none;stroke:#000000;stroke-linecap:round;\"/>\n",
       "    <path clip-path=\"url(#p170e0170a1)\" d=\"M 192.74255 98.960868 \n",
       "L 195.005291 105.749093 \n",
       "L 188.217066 103.486351 \n",
       "L 192.74255 98.960868 \n",
       "z\n",
       "\" style=\"stroke:#000000;stroke-linecap:round;\"/>\n",
       "   </g>\n",
       "   <g id=\"patch_4\">\n",
       "    <path clip-path=\"url(#p170e0170a1)\" d=\"M 34.603026 123.859224 \n",
       "Q 70.571344 159.827542 105.749093 195.005291 \n",
       "\" style=\"fill:none;stroke:#000000;stroke-linecap:round;\"/>\n",
       "    <path clip-path=\"url(#p170e0170a1)\" d=\"M 103.486351 188.217066 \n",
       "L 105.749093 195.005291 \n",
       "L 98.960868 192.74255 \n",
       "L 103.486351 188.217066 \n",
       "z\n",
       "\" style=\"stroke:#000000;stroke-linecap:round;\"/>\n",
       "   </g>\n",
       "   <g id=\"patch_5\">\n",
       "    <path clip-path=\"url(#p170e0170a1)\" d=\"M 195.796974 123.859224 \n",
       "Q 159.828656 159.827542 124.650907 195.005291 \n",
       "\" style=\"fill:none;stroke:#000000;stroke-linecap:round;\"/>\n",
       "    <path clip-path=\"url(#p170e0170a1)\" d=\"M 131.439132 192.74255 \n",
       "L 124.650907 195.005291 \n",
       "L 126.913649 188.217066 \n",
       "L 131.439132 192.74255 \n",
       "z\n",
       "\" style=\"stroke:#000000;stroke-linecap:round;\"/>\n",
       "   </g>\n",
       "   <g id=\"PathCollection_1\">\n",
       "    <defs>\n",
       "     <path d=\"M 0 12.247449 \n",
       "C 3.248061 12.247449 6.363528 10.95698 8.660254 8.660254 \n",
       "C 10.95698 6.363528 12.247449 3.248061 12.247449 0 \n",
       "C 12.247449 -3.248061 10.95698 -6.363528 8.660254 -8.660254 \n",
       "C 6.363528 -10.95698 3.248061 -12.247449 0 -12.247449 \n",
       "C -3.248061 -12.247449 -6.363528 -10.95698 -8.660254 -8.660254 \n",
       "C -10.95698 -6.363528 -12.247449 -3.248061 -12.247449 0 \n",
       "C -12.247449 3.248061 -10.95698 6.363528 -8.660254 8.660254 \n",
       "C -6.363528 10.95698 -3.248061 12.247449 0 12.247449 \n",
       "z\n",
       "\" id=\"m27c2dd44f4\" style=\"stroke:#000000;\"/>\n",
       "    </defs>\n",
       "    <g clip-path=\"url(#p170e0170a1)\">\n",
       "     <use style=\"fill:#d3d3d3;stroke:#000000;\" x=\"115.2\" xlink:href=\"#m27c2dd44f4\" y=\"25.943802\"/>\n",
       "     <use style=\"fill:#d3d3d3;stroke:#000000;\" x=\"25.943802\" xlink:href=\"#m27c2dd44f4\" y=\"115.2\"/>\n",
       "     <use style=\"fill:#d3d3d3;stroke:#000000;\" x=\"204.456198\" xlink:href=\"#m27c2dd44f4\" y=\"115.2\"/>\n",
       "     <use style=\"fill:#d3d3d3;stroke:#000000;\" x=\"115.2\" xlink:href=\"#m27c2dd44f4\" y=\"204.456198\"/>\n",
       "    </g>\n",
       "   </g>\n",
       "   <g id=\"text_1\">\n",
       "    <g clip-path=\"url(#p170e0170a1)\">\n",
       "     <!-- x1 -->\n",
       "     <g transform=\"translate(107.155313 29.255052)scale(0.12 -0.12)\">\n",
       "      <defs>\n",
       "       <path d=\"M 22.21875 27.984375 \n",
       "L 2.484375 54.6875 \n",
       "L 21 54.6875 \n",
       "L 32.171875 38.484375 \n",
       "L 43.5 54.6875 \n",
       "L 62.015625 54.6875 \n",
       "L 42.28125 28.078125 \n",
       "L 62.984375 0 \n",
       "L 44.484375 0 \n",
       "L 32.171875 17.28125 \n",
       "L 20.015625 0 \n",
       "L 1.515625 0 \n",
       "z\n",
       "\" id=\"DejaVuSans-Bold-120\"/>\n",
       "       <path d=\"M 11.71875 12.984375 \n",
       "L 28.328125 12.984375 \n",
       "L 28.328125 60.109375 \n",
       "L 11.28125 56.59375 \n",
       "L 11.28125 69.390625 \n",
       "L 28.21875 72.90625 \n",
       "L 46.09375 72.90625 \n",
       "L 46.09375 12.984375 \n",
       "L 62.703125 12.984375 \n",
       "L 62.703125 0 \n",
       "L 11.71875 0 \n",
       "z\n",
       "\" id=\"DejaVuSans-Bold-49\"/>\n",
       "      </defs>\n",
       "      <use xlink:href=\"#DejaVuSans-Bold-120\"/>\n",
       "      <use x=\"64.501953\" xlink:href=\"#DejaVuSans-Bold-49\"/>\n",
       "     </g>\n",
       "    </g>\n",
       "   </g>\n",
       "   <g id=\"text_2\">\n",
       "    <g clip-path=\"url(#p170e0170a1)\">\n",
       "     <!-- x2 -->\n",
       "     <g transform=\"translate(17.899114 118.51125)scale(0.12 -0.12)\">\n",
       "      <defs>\n",
       "       <path d=\"M 28.8125 13.8125 \n",
       "L 60.890625 13.8125 \n",
       "L 60.890625 0 \n",
       "L 7.90625 0 \n",
       "L 7.90625 13.8125 \n",
       "L 34.515625 37.3125 \n",
       "Q 38.09375 40.53125 39.796875 43.609375 \n",
       "Q 41.5 46.6875 41.5 50 \n",
       "Q 41.5 55.125 38.0625 58.25 \n",
       "Q 34.625 61.375 28.90625 61.375 \n",
       "Q 24.515625 61.375 19.28125 59.5 \n",
       "Q 14.0625 57.625 8.109375 53.90625 \n",
       "L 8.109375 69.921875 \n",
       "Q 14.453125 72.015625 20.65625 73.109375 \n",
       "Q 26.859375 74.21875 32.8125 74.21875 \n",
       "Q 45.90625 74.21875 53.15625 68.453125 \n",
       "Q 60.40625 62.703125 60.40625 52.390625 \n",
       "Q 60.40625 46.4375 57.328125 41.28125 \n",
       "Q 54.25 36.140625 44.390625 27.484375 \n",
       "z\n",
       "\" id=\"DejaVuSans-Bold-50\"/>\n",
       "      </defs>\n",
       "      <use xlink:href=\"#DejaVuSans-Bold-120\"/>\n",
       "      <use x=\"64.501953\" xlink:href=\"#DejaVuSans-Bold-50\"/>\n",
       "     </g>\n",
       "    </g>\n",
       "   </g>\n",
       "   <g id=\"text_3\">\n",
       "    <g clip-path=\"url(#p170e0170a1)\">\n",
       "     <!-- x3 -->\n",
       "     <g transform=\"translate(196.411511 118.51125)scale(0.12 -0.12)\">\n",
       "      <defs>\n",
       "       <path d=\"M 46.578125 39.3125 \n",
       "Q 53.953125 37.40625 57.78125 32.6875 \n",
       "Q 61.625 27.984375 61.625 20.703125 \n",
       "Q 61.625 9.859375 53.3125 4.21875 \n",
       "Q 45.015625 -1.421875 29.109375 -1.421875 \n",
       "Q 23.484375 -1.421875 17.84375 -0.515625 \n",
       "Q 12.203125 0.390625 6.6875 2.203125 \n",
       "L 6.6875 16.703125 \n",
       "Q 11.96875 14.0625 17.15625 12.71875 \n",
       "Q 22.359375 11.375 27.390625 11.375 \n",
       "Q 34.859375 11.375 38.84375 13.953125 \n",
       "Q 42.828125 16.546875 42.828125 21.390625 \n",
       "Q 42.828125 26.375 38.75 28.9375 \n",
       "Q 34.671875 31.5 26.703125 31.5 \n",
       "L 19.1875 31.5 \n",
       "L 19.1875 43.609375 \n",
       "L 27.09375 43.609375 \n",
       "Q 34.1875 43.609375 37.640625 45.828125 \n",
       "Q 41.109375 48.046875 41.109375 52.59375 \n",
       "Q 41.109375 56.78125 37.734375 59.078125 \n",
       "Q 34.375 61.375 28.21875 61.375 \n",
       "Q 23.6875 61.375 19.046875 60.34375 \n",
       "Q 14.40625 59.328125 9.8125 57.328125 \n",
       "L 9.8125 71.09375 \n",
       "Q 15.375 72.65625 20.84375 73.4375 \n",
       "Q 26.3125 74.21875 31.59375 74.21875 \n",
       "Q 45.796875 74.21875 52.84375 69.546875 \n",
       "Q 59.90625 64.890625 59.90625 55.515625 \n",
       "Q 59.90625 49.125 56.53125 45.046875 \n",
       "Q 53.171875 40.96875 46.578125 39.3125 \n",
       "z\n",
       "\" id=\"DejaVuSans-Bold-51\"/>\n",
       "      </defs>\n",
       "      <use xlink:href=\"#DejaVuSans-Bold-120\"/>\n",
       "      <use x=\"64.501953\" xlink:href=\"#DejaVuSans-Bold-51\"/>\n",
       "     </g>\n",
       "    </g>\n",
       "   </g>\n",
       "   <g id=\"text_4\">\n",
       "    <g clip-path=\"url(#p170e0170a1)\">\n",
       "     <!-- x4 -->\n",
       "     <g transform=\"translate(107.155313 207.767448)scale(0.12 -0.12)\">\n",
       "      <defs>\n",
       "       <path d=\"M 36.8125 57.421875 \n",
       "L 16.21875 26.90625 \n",
       "L 36.8125 26.90625 \n",
       "z\n",
       "M 33.6875 72.90625 \n",
       "L 54.59375 72.90625 \n",
       "L 54.59375 26.90625 \n",
       "L 64.984375 26.90625 \n",
       "L 64.984375 13.28125 \n",
       "L 54.59375 13.28125 \n",
       "L 54.59375 0 \n",
       "L 36.8125 0 \n",
       "L 36.8125 13.28125 \n",
       "L 4.5 13.28125 \n",
       "L 4.5 29.390625 \n",
       "z\n",
       "\" id=\"DejaVuSans-Bold-52\"/>\n",
       "      </defs>\n",
       "      <use xlink:href=\"#DejaVuSans-Bold-120\"/>\n",
       "      <use x=\"64.501953\" xlink:href=\"#DejaVuSans-Bold-52\"/>\n",
       "     </g>\n",
       "    </g>\n",
       "   </g>\n",
       "  </g>\n",
       " </g>\n",
       " <defs>\n",
       "  <clipPath id=\"p170e0170a1\">\n",
       "   <rect height=\"216\" width=\"216\" x=\"7.2\" y=\"7.2\"/>\n",
       "  </clipPath>\n",
       " </defs>\n",
       "</svg>\n"
      ],
      "text/plain": [
       "<Figure size 216x216 with 1 Axes>"
      ]
     },
     "metadata": {},
     "output_type": "display_data"
    },
    {
     "name": "stdout",
     "output_type": "stream",
     "text": [
      "CausalDAG with 4 variables [x1,x2,x3,x4] and 4 edges:\n",
      "x1 => x2,x3\n",
      "x2 => x4\n",
      "x3 => x4\n",
      "\n"
     ]
    }
   ],
   "source": [
    "graph = load_graph_file('../causal_graphs/real_data/test_diamond_2.bif')\n",
    "visualize_graph(graph, show_plot=True, figsize=(3,3))\n",
    "print(graph)"
   ]
  },
  {
   "cell_type": "markdown",
   "metadata": {},
   "source": [
    "## Theoretical analysis"
   ]
  },
  {
   "cell_type": "code",
   "execution_count": 117,
   "metadata": {},
   "outputs": [],
   "source": [
    "p_x1 = graph.variables[0].prob_dist.prob_func.val_grid\n",
    "p_x2_x1 = graph.variables[1].prob_dist.prob_func.val_grid\n",
    "p_x3_x1 = graph.variables[2].prob_dist.prob_func.val_grid\n",
    "p_x4_x2_x3 = graph.variables[3].prob_dist.prob_func.val_grid"
   ]
  },
  {
   "cell_type": "code",
   "execution_count": 118,
   "metadata": {},
   "outputs": [
    {
     "name": "stdout",
     "output_type": "stream",
     "text": [
      "p(X_2): [0.5 0.5]\n",
      "p(X_3): [0.5 0.5]\n"
     ]
    }
   ],
   "source": [
    "p_x2 = (p_x2_x1 * p_x1[:,None]).sum(axis=0)\n",
    "p_x3 = (p_x3_x1 * p_x1[:,None]).sum(axis=0)\n",
    "print(\"p(X_2):\", p_x2)\n",
    "print(\"p(X_3):\", p_x3)"
   ]
  },
  {
   "cell_type": "code",
   "execution_count": 119,
   "metadata": {},
   "outputs": [
    {
     "name": "stdout",
     "output_type": "stream",
     "text": [
      "p(X_1|X_2): [[0.5 0.5]\n",
      " [0.5 0.5]]\n"
     ]
    }
   ],
   "source": [
    "p_x1_x2 = (p_x2_x1 * p_x1[:,None] / p_x2[None,:]).T\n",
    "print(\"p(X_1|X_2):\", p_x1_x2)"
   ]
  },
  {
   "cell_type": "code",
   "execution_count": 120,
   "metadata": {},
   "outputs": [
    {
     "name": "stdout",
     "output_type": "stream",
     "text": [
      "p(X_3|X_2): [[0.5 0.5]\n",
      " [0.5 0.5]]\n"
     ]
    }
   ],
   "source": [
    "p_x3_x2 = (p_x3_x1[None] * p_x1_x2[...,None]).sum(axis=1)\n",
    "print(\"p(X_3|X_2):\", p_x3_x2)"
   ]
  },
  {
   "cell_type": "code",
   "execution_count": 121,
   "metadata": {},
   "outputs": [
    {
     "name": "stdout",
     "output_type": "stream",
     "text": [
      "p(X_4): [0.5 0.5]\n"
     ]
    }
   ],
   "source": [
    "p_x4 = (p_x4_x2_x3 * p_x2[:,None,None] * p_x3_x2[:,:,None]).sum(axis=(0,1))\n",
    "print(\"p(X_4):\", p_x4)"
   ]
  },
  {
   "cell_type": "code",
   "execution_count": 122,
   "metadata": {},
   "outputs": [
    {
     "name": "stdout",
     "output_type": "stream",
     "text": [
      "[0.49932 0.50075 0.50054 0.50191]\n",
      "0.5024463305042436\n"
     ]
    }
   ],
   "source": [
    "# Verify that the marginals are correct\n",
    "v = graph.sample(batch_size=100000, as_array=True)\n",
    "print(v.mean(axis=0))\n",
    "print(v[v[:,1]==1,3].mean())"
   ]
  },
  {
   "cell_type": "code",
   "execution_count": 123,
   "metadata": {},
   "outputs": [
    {
     "name": "stdout",
     "output_type": "stream",
     "text": [
      "p(X_4|X_2): [[0.5 0.5]\n",
      " [0.5 0.5]]\n"
     ]
    }
   ],
   "source": [
    "p_x4_x2 = (p_x4_x2_x3 * p_x3_x2[:,:,None]).sum(axis=(1))\n",
    "print(\"p(X_4|X_2):\", p_x4_x2)"
   ]
  },
  {
   "cell_type": "code",
   "execution_count": 124,
   "metadata": {},
   "outputs": [
    {
     "name": "stdout",
     "output_type": "stream",
     "text": [
      "p(X_4|do(X_2)): [[0.5 0.5]\n",
      " [0.5 0.5]]\n"
     ]
    }
   ],
   "source": [
    "p_x4_dox2 = (p_x4_x2_x3 * p_x3[None,:,None]).sum(axis=(1))\n",
    "print(\"p(X_4|do(X_2)):\", p_x4_dox2)"
   ]
  },
  {
   "cell_type": "code",
   "execution_count": 125,
   "metadata": {},
   "outputs": [],
   "source": [
    "def entropy(p1, p2):\n",
    "    ent = -(p1 * np.log(p2)).sum()\n",
    "    return ent"
   ]
  },
  {
   "cell_type": "code",
   "execution_count": 126,
   "metadata": {},
   "outputs": [],
   "source": [
    "p_dox2 = np.array([0.5, 0.5])\n",
    "p_obs = (p_x4_dox2 * p_dox2[:,None])"
   ]
  },
  {
   "cell_type": "code",
   "execution_count": 127,
   "metadata": {},
   "outputs": [
    {
     "name": "stdout",
     "output_type": "stream",
     "text": [
      "Lowest entropy: 0.6931471805599453\n"
     ]
    }
   ],
   "source": [
    "print(\"Lowest entropy:\", entropy(p_obs, p_x4_dox2))"
   ]
  },
  {
   "cell_type": "code",
   "execution_count": 128,
   "metadata": {},
   "outputs": [
    {
     "name": "stdout",
     "output_type": "stream",
     "text": [
      "Entropy p(X_4|X_2): 0.6931471805599453\n"
     ]
    }
   ],
   "source": [
    "print(\"Entropy p(X_4|X_2):\", entropy(p_obs, p_x4_x2))"
   ]
  },
  {
   "cell_type": "code",
   "execution_count": 129,
   "metadata": {},
   "outputs": [
    {
     "name": "stdout",
     "output_type": "stream",
     "text": [
      "Entropy p(X_4): 0.6931471805599453\n"
     ]
    }
   ],
   "source": [
    "print(\"Entropy p(X_4):\", entropy(p_obs, p_x4[None]))"
   ]
  },
  {
   "cell_type": "markdown",
   "metadata": {},
   "source": [
    "## Training"
   ]
  },
  {
   "cell_type": "code",
   "execution_count": 81,
   "metadata": {},
   "outputs": [
    {
     "name": "stdout",
     "output_type": "stream",
     "text": [
      "Parameter containing:\n",
      "tensor([[-9.0000e+15,  0.0000e+00,  0.0000e+00,  0.0000e+00],\n",
      "        [ 0.0000e+00, -9.0000e+15,  0.0000e+00,  0.0000e+00],\n",
      "        [ 0.0000e+00,  0.0000e+00, -9.0000e+15,  0.0000e+00],\n",
      "        [ 0.0000e+00,  0.0000e+00,  0.0000e+00, -9.0000e+15]],\n",
      "       requires_grad=True)\n"
     ]
    }
   ],
   "source": [
    "discovery_module = GraphDiscoveryMatrix(graph=graph, model_iters=1000, lambda_sparse=0.1, batch_size=128, lr_permut=5e-3, lr_gamma=5e-3,\n",
    "                                        N_s=1, C_s=200, gamma_iters=100,\n",
    "                                        order_grads_opt='weight_expect_no_denom_weight_intervention', edge_grads_opt='weight_expect')\n",
    "discovery_module.to(torch.device(\"cuda:0\"))\n",
    "print(discovery_module.gamma)"
   ]
  },
  {
   "cell_type": "code",
   "execution_count": 28,
   "metadata": {},
   "outputs": [
    {
     "data": {
      "text/plain": [
       "'\\ndiscovery_module.gamma.data = torch.FloatTensor([\\n    [-9e+15, 5.0, -5.0, -5.0, -5.0, -5.0],\\n    [-5.0, -9e+15, 5.0, -5.0, -5.0, -5.0],\\n    [5.0, -5.0, -9e+15, 5.0, -5.0, -5.0],\\n    [-5.0, -5.0, -5.0, -9e+15, 5.0, -5.0],\\n    [-5.0, -5.0, -5.0, -5.0, -9e+15, 5.0],\\n    [-5.0, -5.0, -5.0, -5.0, -5.0, -9e+15],\\n])\\ndiscovery_module.theta_matrix.data = torch.FloatTensor([\\n    [0.0, 5.0, 0.0, 0.0, 0.0, 0.0],\\n    [-5.0, 0.0, 5.0, 0.0, 0.0, 0.0],\\n    [0.0, -5.0, 0.0, 5.0, 0.0, 0.0],\\n    [0.0, 0.0, -5.0, 0.0, 5.0, 0.0],\\n    [0.0, 0.0, 0.0, -5.0, 0.0, 5.0],\\n    [0.0, 0.0, 0.0, 0.0, -5.0, 0.0]\\n])\\n'"
      ]
     },
     "execution_count": 28,
     "metadata": {},
     "output_type": "execute_result"
    }
   ],
   "source": [
    "\"\"\"\n",
    "discovery_module.gamma.data = torch.FloatTensor([\n",
    "    [-9e+15, 5.0, -5.0, -5.0, -5.0, -5.0],\n",
    "    [-5.0, -9e+15, 5.0, -5.0, -5.0, -5.0],\n",
    "    [5.0, -5.0, -9e+15, 5.0, -5.0, -5.0],\n",
    "    [-5.0, -5.0, -5.0, -9e+15, 5.0, -5.0],\n",
    "    [-5.0, -5.0, -5.0, -5.0, -9e+15, 5.0],\n",
    "    [-5.0, -5.0, -5.0, -5.0, -5.0, -9e+15],\n",
    "])\n",
    "discovery_module.theta_matrix.data = torch.FloatTensor([\n",
    "    [0.0, 5.0, 0.0, 0.0, 0.0, 0.0],\n",
    "    [-5.0, 0.0, 5.0, 0.0, 0.0, 0.0],\n",
    "    [0.0, -5.0, 0.0, 5.0, 0.0, 0.0],\n",
    "    [0.0, 0.0, -5.0, 0.0, 5.0, 0.0],\n",
    "    [0.0, 0.0, 0.0, -5.0, 0.0, 5.0],\n",
    "    [0.0, 0.0, 0.0, 0.0, -5.0, 0.0]\n",
    "])\n",
    "\"\"\""
   ]
  },
  {
   "cell_type": "code",
   "execution_count": 82,
   "metadata": {},
   "outputs": [],
   "source": [
    "discovery_module.gamma.data = torch.FloatTensor([\n",
    "    [-9e+15, 5.0, 5.0, -5.0],\n",
    "    [0.0, -9e+15, 0.0, -5.0],\n",
    "    [0.0, 0.0, -9e+15, -5.0],\n",
    "    [-5.0, -5.0, -5.0, -9e+15]\n",
    "])"
   ]
  },
  {
   "cell_type": "code",
   "execution_count": 83,
   "metadata": {},
   "outputs": [
    {
     "data": {
      "application/vnd.jupyter.widget-view+json": {
       "model_id": "2564b5bd06d64e90b5e4ee7d1b255240",
       "version_major": 2,
       "version_minor": 0
      },
      "text/plain": [
       "HBox(children=(FloatProgress(value=0.0, description='Epoch loop', max=20.0, style=ProgressStyle(description_wi…"
      ]
     },
     "metadata": {},
     "output_type": "display_data"
    },
    {
     "data": {
      "application/vnd.jupyter.widget-view+json": {
       "model_id": "",
       "version_major": 2,
       "version_minor": 0
      },
      "text/plain": [
       "HBox(children=(FloatProgress(value=0.0, description='Model update loop', max=1000.0, style=ProgressStyle(descr…"
      ]
     },
     "metadata": {},
     "output_type": "display_data"
    },
    {
     "data": {
      "application/vnd.jupyter.widget-view+json": {
       "model_id": "",
       "version_major": 2,
       "version_minor": 0
      },
      "text/plain": [
       "HBox(children=(FloatProgress(value=0.0, description='Gamma update loop', style=ProgressStyle(description_width…"
      ]
     },
     "metadata": {},
     "output_type": "display_data"
    },
    {
     "name": "stdout",
     "output_type": "stream",
     "text": [
      "Gamma - Recall: 50.00%, Precision: 66.67% (TP=2,FP=1,FN=2,TN=7)\n",
      "Theta - Direction accuracy: 75.00% (TP=3,FN=1) / Soft accuracy: 75.00% (TP=3,FN=1)\n"
     ]
    },
    {
     "data": {
      "application/vnd.jupyter.widget-view+json": {
       "model_id": "",
       "version_major": 2,
       "version_minor": 0
      },
      "text/plain": [
       "HBox(children=(FloatProgress(value=0.0, description='Model update loop', max=1000.0, style=ProgressStyle(descr…"
      ]
     },
     "metadata": {},
     "output_type": "display_data"
    },
    {
     "data": {
      "application/vnd.jupyter.widget-view+json": {
       "model_id": "",
       "version_major": 2,
       "version_minor": 0
      },
      "text/plain": [
       "HBox(children=(FloatProgress(value=0.0, description='Gamma update loop', style=ProgressStyle(description_width…"
      ]
     },
     "metadata": {},
     "output_type": "display_data"
    },
    {
     "name": "stdout",
     "output_type": "stream",
     "text": [
      "Gamma - Recall: 50.00%, Precision: 66.67% (TP=2,FP=1,FN=2,TN=7)\n",
      "Theta - Direction accuracy: 75.00% (TP=3,FN=1) / Soft accuracy: 75.00% (TP=3,FN=1)\n"
     ]
    },
    {
     "data": {
      "application/vnd.jupyter.widget-view+json": {
       "model_id": "",
       "version_major": 2,
       "version_minor": 0
      },
      "text/plain": [
       "HBox(children=(FloatProgress(value=0.0, description='Model update loop', max=1000.0, style=ProgressStyle(descr…"
      ]
     },
     "metadata": {},
     "output_type": "display_data"
    },
    {
     "data": {
      "application/vnd.jupyter.widget-view+json": {
       "model_id": "",
       "version_major": 2,
       "version_minor": 0
      },
      "text/plain": [
       "HBox(children=(FloatProgress(value=0.0, description='Gamma update loop', style=ProgressStyle(description_width…"
      ]
     },
     "metadata": {},
     "output_type": "display_data"
    },
    {
     "name": "stdout",
     "output_type": "stream",
     "text": [
      "Gamma - Recall: 50.00%, Precision: 66.67% (TP=2,FP=1,FN=2,TN=7)\n",
      "Theta - Direction accuracy: 75.00% (TP=3,FN=1) / Soft accuracy: 75.00% (TP=3,FN=1)\n"
     ]
    },
    {
     "data": {
      "application/vnd.jupyter.widget-view+json": {
       "model_id": "",
       "version_major": 2,
       "version_minor": 0
      },
      "text/plain": [
       "HBox(children=(FloatProgress(value=0.0, description='Model update loop', max=1000.0, style=ProgressStyle(descr…"
      ]
     },
     "metadata": {},
     "output_type": "display_data"
    },
    {
     "data": {
      "application/vnd.jupyter.widget-view+json": {
       "model_id": "",
       "version_major": 2,
       "version_minor": 0
      },
      "text/plain": [
       "HBox(children=(FloatProgress(value=0.0, description='Gamma update loop', style=ProgressStyle(description_width…"
      ]
     },
     "metadata": {},
     "output_type": "display_data"
    },
    {
     "name": "stdout",
     "output_type": "stream",
     "text": [
      "Gamma - Recall: 50.00%, Precision: 100.00% (TP=2,FP=0,FN=2,TN=8)\n",
      "Theta - Direction accuracy: 75.00% (TP=3,FN=1) / Soft accuracy: 75.00% (TP=3,FN=1)\n"
     ]
    },
    {
     "data": {
      "application/vnd.jupyter.widget-view+json": {
       "model_id": "7c8ee5b590f24b0db919c55a50bdbaeb",
       "version_major": 2,
       "version_minor": 0
      },
      "text/plain": [
       "HBox(children=(FloatProgress(value=0.0, description='Model update loop', max=1000.0, style=ProgressStyle(descr…"
      ]
     },
     "metadata": {},
     "output_type": "display_data"
    },
    {
     "ename": "KeyboardInterrupt",
     "evalue": "",
     "output_type": "error",
     "traceback": [
      "\u001b[0;31m---------------------------------------------------------------------------\u001b[0m",
      "\u001b[0;31mKeyboardInterrupt\u001b[0m                         Traceback (most recent call last)",
      "\u001b[0;32m<ipython-input-83-a93b19fcbfb6>\u001b[0m in \u001b[0;36m<module>\u001b[0;34m\u001b[0m\n\u001b[0;32m----> 1\u001b[0;31m \u001b[0mdiscovery_module\u001b[0m\u001b[0;34m.\u001b[0m\u001b[0mdiscover_graph\u001b[0m\u001b[0;34m(\u001b[0m\u001b[0mnum_epochs\u001b[0m\u001b[0;34m=\u001b[0m\u001b[0;36m20\u001b[0m\u001b[0;34m)\u001b[0m\u001b[0;34m\u001b[0m\u001b[0;34m\u001b[0m\u001b[0m\n\u001b[0m",
      "\u001b[0;32m~/Documents/QUVA/Causality/CausalGraphDiscovery/causal_discovery/graph_discovery.py\u001b[0m in \u001b[0;36mdiscover_graph\u001b[0;34m(self, num_epochs, stop_early)\u001b[0m\n\u001b[1;32m     61\u001b[0m                 \u001b[0;32mfor\u001b[0m \u001b[0mepoch\u001b[0m \u001b[0;32min\u001b[0m \u001b[0mtrack\u001b[0m\u001b[0;34m(\u001b[0m\u001b[0mrange\u001b[0m\u001b[0;34m(\u001b[0m\u001b[0mnum_epochs\u001b[0m\u001b[0;34m)\u001b[0m\u001b[0;34m,\u001b[0m \u001b[0mleave\u001b[0m\u001b[0;34m=\u001b[0m\u001b[0;32mFalse\u001b[0m\u001b[0;34m,\u001b[0m \u001b[0mdesc\u001b[0m\u001b[0;34m=\u001b[0m\u001b[0;34m\"Epoch loop\"\u001b[0m\u001b[0;34m)\u001b[0m\u001b[0;34m:\u001b[0m\u001b[0;34m\u001b[0m\u001b[0;34m\u001b[0m\u001b[0m\n\u001b[1;32m     62\u001b[0m                         \u001b[0;31m# Update Model\u001b[0m\u001b[0;34m\u001b[0m\u001b[0;34m\u001b[0m\u001b[0;34m\u001b[0m\u001b[0m\n\u001b[0;32m---> 63\u001b[0;31m                         \u001b[0mself\u001b[0m\u001b[0;34m.\u001b[0m\u001b[0mmodel_fitting_step\u001b[0m\u001b[0;34m(\u001b[0m\u001b[0;34m)\u001b[0m\u001b[0;34m\u001b[0m\u001b[0;34m\u001b[0m\u001b[0m\n\u001b[0m\u001b[1;32m     64\u001b[0m \u001b[0;34m\u001b[0m\u001b[0m\n\u001b[1;32m     65\u001b[0m                         \u001b[0;31m# Update gamma\u001b[0m\u001b[0;34m\u001b[0m\u001b[0;34m\u001b[0m\u001b[0;34m\u001b[0m\u001b[0m\n",
      "\u001b[0;32m~/Documents/QUVA/Causality/CausalGraphDiscovery/DAG_matrix/graph_discovery.py\u001b[0m in \u001b[0;36mmodel_fitting_step\u001b[0;34m(self)\u001b[0m\n\u001b[1;32m     54\u001b[0m         \u001b[0mt\u001b[0m \u001b[0;34m=\u001b[0m \u001b[0mtrack\u001b[0m\u001b[0;34m(\u001b[0m\u001b[0mrange\u001b[0m\u001b[0;34m(\u001b[0m\u001b[0mself\u001b[0m\u001b[0;34m.\u001b[0m\u001b[0mmodel_iters\u001b[0m\u001b[0;34m)\u001b[0m\u001b[0;34m,\u001b[0m \u001b[0mleave\u001b[0m\u001b[0;34m=\u001b[0m\u001b[0;32mFalse\u001b[0m\u001b[0;34m,\u001b[0m \u001b[0mdesc\u001b[0m\u001b[0;34m=\u001b[0m\u001b[0;34m\"Model update loop\"\u001b[0m\u001b[0;34m)\u001b[0m\u001b[0;34m\u001b[0m\u001b[0;34m\u001b[0m\u001b[0m\n\u001b[1;32m     55\u001b[0m         \u001b[0;32mfor\u001b[0m \u001b[0m_\u001b[0m \u001b[0;32min\u001b[0m \u001b[0mt\u001b[0m\u001b[0;34m:\u001b[0m\u001b[0;34m\u001b[0m\u001b[0;34m\u001b[0m\u001b[0m\n\u001b[0;32m---> 56\u001b[0;31m             \u001b[0mloss\u001b[0m \u001b[0;34m=\u001b[0m \u001b[0mself\u001b[0m\u001b[0;34m.\u001b[0m\u001b[0mfittingModule\u001b[0m\u001b[0;34m.\u001b[0m\u001b[0mfit_step\u001b[0m\u001b[0;34m(\u001b[0m\u001b[0msample_func\u001b[0m\u001b[0;34m=\u001b[0m\u001b[0msfunc\u001b[0m\u001b[0;34m)\u001b[0m\u001b[0;34m\u001b[0m\u001b[0;34m\u001b[0m\u001b[0m\n\u001b[0m\u001b[1;32m     57\u001b[0m             \u001b[0mavg_loss\u001b[0m \u001b[0;34m+=\u001b[0m \u001b[0mloss\u001b[0m\u001b[0;34m\u001b[0m\u001b[0;34m\u001b[0m\u001b[0m\n\u001b[1;32m     58\u001b[0m             \u001b[0;32mif\u001b[0m \u001b[0mhasattr\u001b[0m\u001b[0;34m(\u001b[0m\u001b[0mt\u001b[0m\u001b[0;34m,\u001b[0m \u001b[0;34m\"set_description\"\u001b[0m\u001b[0;34m)\u001b[0m\u001b[0;34m:\u001b[0m\u001b[0;34m\u001b[0m\u001b[0;34m\u001b[0m\u001b[0m\n",
      "\u001b[0;32m~/Documents/QUVA/Causality/CausalGraphDiscovery/causal_discovery/graph_fitting.py\u001b[0m in \u001b[0;36mfit_step\u001b[0;34m(self, sample_matrix, sample_func)\u001b[0m\n\u001b[1;32m     35\u001b[0m                 \u001b[0;32melse\u001b[0m\u001b[0;34m:\u001b[0m\u001b[0;34m\u001b[0m\u001b[0;34m\u001b[0m\u001b[0m\n\u001b[1;32m     36\u001b[0m                         \u001b[0madj_matrices\u001b[0m \u001b[0;34m=\u001b[0m \u001b[0msample_func\u001b[0m\u001b[0;34m(\u001b[0m\u001b[0mbatch_size\u001b[0m\u001b[0;34m=\u001b[0m\u001b[0mbatch\u001b[0m\u001b[0;34m.\u001b[0m\u001b[0mshape\u001b[0m\u001b[0;34m[\u001b[0m\u001b[0;36m0\u001b[0m\u001b[0;34m]\u001b[0m\u001b[0;34m)\u001b[0m\u001b[0;34m\u001b[0m\u001b[0;34m\u001b[0m\u001b[0m\n\u001b[0;32m---> 37\u001b[0;31m                 \u001b[0mloss\u001b[0m \u001b[0;34m=\u001b[0m \u001b[0mself\u001b[0m\u001b[0;34m.\u001b[0m\u001b[0mtrain_step\u001b[0m\u001b[0;34m(\u001b[0m\u001b[0mbatch\u001b[0m\u001b[0;34m,\u001b[0m \u001b[0madj_matrices\u001b[0m\u001b[0;34m)\u001b[0m\u001b[0;34m\u001b[0m\u001b[0;34m\u001b[0m\u001b[0m\n\u001b[0m\u001b[1;32m     38\u001b[0m                 \u001b[0;32mreturn\u001b[0m \u001b[0mloss\u001b[0m\u001b[0;34m\u001b[0m\u001b[0;34m\u001b[0m\u001b[0m\n\u001b[1;32m     39\u001b[0m \u001b[0;34m\u001b[0m\u001b[0m\n",
      "\u001b[0;32m~/Documents/QUVA/Causality/CausalGraphDiscovery/causal_discovery/graph_fitting.py\u001b[0m in \u001b[0;36mtrain_step\u001b[0;34m(self, inputs, adj_matrices)\u001b[0m\n\u001b[1;32m     56\u001b[0m                 \u001b[0mloss\u001b[0m \u001b[0;34m=\u001b[0m \u001b[0mself\u001b[0m\u001b[0;34m.\u001b[0m\u001b[0mloss_module\u001b[0m\u001b[0;34m(\u001b[0m\u001b[0mpreds\u001b[0m\u001b[0;34m.\u001b[0m\u001b[0mflatten\u001b[0m\u001b[0;34m(\u001b[0m\u001b[0;36m0\u001b[0m\u001b[0;34m,\u001b[0m\u001b[0;34m-\u001b[0m\u001b[0;36m2\u001b[0m\u001b[0;34m)\u001b[0m\u001b[0;34m,\u001b[0m \u001b[0minputs\u001b[0m\u001b[0;34m.\u001b[0m\u001b[0mreshape\u001b[0m\u001b[0;34m(\u001b[0m\u001b[0;34m-\u001b[0m\u001b[0;36m1\u001b[0m\u001b[0;34m)\u001b[0m\u001b[0;34m)\u001b[0m\u001b[0;34m\u001b[0m\u001b[0;34m\u001b[0m\u001b[0m\n\u001b[1;32m     57\u001b[0m                 \u001b[0mself\u001b[0m\u001b[0;34m.\u001b[0m\u001b[0moptimizer\u001b[0m\u001b[0;34m.\u001b[0m\u001b[0mzero_grad\u001b[0m\u001b[0;34m(\u001b[0m\u001b[0;34m)\u001b[0m\u001b[0;34m\u001b[0m\u001b[0;34m\u001b[0m\u001b[0m\n\u001b[0;32m---> 58\u001b[0;31m                 \u001b[0mloss\u001b[0m\u001b[0;34m.\u001b[0m\u001b[0mbackward\u001b[0m\u001b[0;34m(\u001b[0m\u001b[0;34m)\u001b[0m\u001b[0;34m\u001b[0m\u001b[0;34m\u001b[0m\u001b[0m\n\u001b[0m\u001b[1;32m     59\u001b[0m                 \u001b[0mself\u001b[0m\u001b[0;34m.\u001b[0m\u001b[0moptimizer\u001b[0m\u001b[0;34m.\u001b[0m\u001b[0mstep\u001b[0m\u001b[0;34m(\u001b[0m\u001b[0;34m)\u001b[0m\u001b[0;34m\u001b[0m\u001b[0;34m\u001b[0m\u001b[0m\n\u001b[1;32m     60\u001b[0m                 \u001b[0;32mreturn\u001b[0m \u001b[0mloss\u001b[0m\u001b[0;34m.\u001b[0m\u001b[0mitem\u001b[0m\u001b[0;34m(\u001b[0m\u001b[0;34m)\u001b[0m\u001b[0;34m\u001b[0m\u001b[0;34m\u001b[0m\u001b[0m\n",
      "\u001b[0;32m~/anaconda3/envs/nlp1/lib/python3.7/site-packages/torch/tensor.py\u001b[0m in \u001b[0;36mbackward\u001b[0;34m(self, gradient, retain_graph, create_graph)\u001b[0m\n\u001b[1;32m    183\u001b[0m                 \u001b[0mproducts\u001b[0m\u001b[0;34m.\u001b[0m \u001b[0mDefaults\u001b[0m \u001b[0mto\u001b[0m\u001b[0;31m \u001b[0m\u001b[0;31m`\u001b[0m\u001b[0;31m`\u001b[0m\u001b[0;32mFalse\u001b[0m\u001b[0;31m`\u001b[0m\u001b[0;31m`\u001b[0m\u001b[0;34m.\u001b[0m\u001b[0;34m\u001b[0m\u001b[0;34m\u001b[0m\u001b[0m\n\u001b[1;32m    184\u001b[0m         \"\"\"\n\u001b[0;32m--> 185\u001b[0;31m         \u001b[0mtorch\u001b[0m\u001b[0;34m.\u001b[0m\u001b[0mautograd\u001b[0m\u001b[0;34m.\u001b[0m\u001b[0mbackward\u001b[0m\u001b[0;34m(\u001b[0m\u001b[0mself\u001b[0m\u001b[0;34m,\u001b[0m \u001b[0mgradient\u001b[0m\u001b[0;34m,\u001b[0m \u001b[0mretain_graph\u001b[0m\u001b[0;34m,\u001b[0m \u001b[0mcreate_graph\u001b[0m\u001b[0;34m)\u001b[0m\u001b[0;34m\u001b[0m\u001b[0;34m\u001b[0m\u001b[0m\n\u001b[0m\u001b[1;32m    186\u001b[0m \u001b[0;34m\u001b[0m\u001b[0m\n\u001b[1;32m    187\u001b[0m     \u001b[0;32mdef\u001b[0m \u001b[0mregister_hook\u001b[0m\u001b[0;34m(\u001b[0m\u001b[0mself\u001b[0m\u001b[0;34m,\u001b[0m \u001b[0mhook\u001b[0m\u001b[0;34m)\u001b[0m\u001b[0;34m:\u001b[0m\u001b[0;34m\u001b[0m\u001b[0;34m\u001b[0m\u001b[0m\n",
      "\u001b[0;32m~/anaconda3/envs/nlp1/lib/python3.7/site-packages/torch/autograd/__init__.py\u001b[0m in \u001b[0;36mbackward\u001b[0;34m(tensors, grad_tensors, retain_graph, create_graph, grad_variables)\u001b[0m\n\u001b[1;32m    125\u001b[0m     Variable._execution_engine.run_backward(\n\u001b[1;32m    126\u001b[0m         \u001b[0mtensors\u001b[0m\u001b[0;34m,\u001b[0m \u001b[0mgrad_tensors\u001b[0m\u001b[0;34m,\u001b[0m \u001b[0mretain_graph\u001b[0m\u001b[0;34m,\u001b[0m \u001b[0mcreate_graph\u001b[0m\u001b[0;34m,\u001b[0m\u001b[0;34m\u001b[0m\u001b[0;34m\u001b[0m\u001b[0m\n\u001b[0;32m--> 127\u001b[0;31m         allow_unreachable=True)  # allow_unreachable flag\n\u001b[0m\u001b[1;32m    128\u001b[0m \u001b[0;34m\u001b[0m\u001b[0m\n\u001b[1;32m    129\u001b[0m \u001b[0;34m\u001b[0m\u001b[0m\n",
      "\u001b[0;31mKeyboardInterrupt\u001b[0m: "
     ]
    }
   ],
   "source": [
    "discovery_module.discover_graph(num_epochs=20)"
   ]
  },
  {
   "cell_type": "code",
   "execution_count": null,
   "metadata": {},
   "outputs": [],
   "source": [
    "discovery_module.theta_matrix"
   ]
  },
  {
   "cell_type": "code",
   "execution_count": null,
   "metadata": {},
   "outputs": [],
   "source": [
    "discovery_module.gamma.grad"
   ]
  },
  {
   "cell_type": "code",
   "execution_count": null,
   "metadata": {},
   "outputs": [],
   "source": [
    "torch.round(torch.sigmoid(discovery_module.theta_matrix)*100)"
   ]
  },
  {
   "cell_type": "code",
   "execution_count": null,
   "metadata": {},
   "outputs": [],
   "source": []
  }
 ],
 "metadata": {
  "kernelspec": {
   "display_name": "Python 3",
   "language": "python",
   "name": "python3"
  },
  "language_info": {
   "codemirror_mode": {
    "name": "ipython",
    "version": 3
   },
   "file_extension": ".py",
   "mimetype": "text/x-python",
   "name": "python",
   "nbconvert_exporter": "python",
   "pygments_lexer": "ipython3",
   "version": "3.7.3"
  }
 },
 "nbformat": 4,
 "nbformat_minor": 4
}
