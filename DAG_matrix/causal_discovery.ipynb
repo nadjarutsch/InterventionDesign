{
 "cells": [
  {
   "cell_type": "markdown",
   "metadata": {},
   "source": [
    "# Testing causal discovery"
   ]
  },
  {
   "cell_type": "code",
   "execution_count": 1,
   "metadata": {},
   "outputs": [
    {
     "name": "stderr",
     "output_type": "stream",
     "text": [
      "Global seed set to 42\n"
     ]
    }
   ],
   "source": [
    "import numpy as np\n",
    "import random\n",
    "from tqdm.notebook import tqdm\n",
    "from copy import deepcopy\n",
    "import time\n",
    "import torch\n",
    "import torch.nn as nn \n",
    "import torch.nn.functional as F\n",
    "import pytorch_lightning as pl\n",
    "pl.seed_everything(42)\n",
    "\n",
    "## Imports for plotting\n",
    "import matplotlib.pyplot as plt\n",
    "%matplotlib inline\n",
    "from matplotlib import cm\n",
    "from IPython.display import set_matplotlib_formats\n",
    "set_matplotlib_formats('svg', 'pdf') # For export\n",
    "from matplotlib.colors import to_rgba\n",
    "import seaborn as sns\n",
    "sns.reset_orig()"
   ]
  },
  {
   "cell_type": "code",
   "execution_count": 2,
   "metadata": {},
   "outputs": [],
   "source": [
    "from graph_discovery import GraphDiscoveryMatrix\n",
    "from utils import matrix_to_order\n",
    "from causal_graphs.graph_real_world import load_graph_file\n",
    "from causal_graphs.graph_generation import generate_categorical_graph, generate_chain, generate_random_graph, generate_jungle\n",
    "from causal_graphs.graph_visualization import visualize_graph\n",
    "from causal_graphs.graph_utils import adj_matrix_to_edges"
   ]
  },
  {
   "cell_type": "markdown",
   "metadata": {},
   "source": [
    "## Graph setup"
   ]
  },
  {
   "cell_type": "code",
   "execution_count": 3,
   "metadata": {},
   "outputs": [],
   "source": [
    "NUM_VARS = 10\n",
    "NUM_CATEGS = 10"
   ]
  },
  {
   "cell_type": "code",
   "execution_count": 17,
   "metadata": {},
   "outputs": [
    {
     "data": {
      "application/pdf": "[encoded data removed]",
      "image/svg+xml": [
       "<?xml version=\"1.0\" encoding=\"utf-8\" standalone=\"no\"?>\n",
       "<!DOCTYPE svg PUBLIC \"-//W3C//DTD SVG 1.1//EN\"\n",
       "  \"http://www.w3.org/Graphics/SVG/1.1/DTD/svg11.dtd\">\n",
       "<!-- Created with matplotlib (https://matplotlib.org/) -->\n",
       "<svg height=\"302.4pt\" version=\"1.1\" viewBox=\"0 0 302.4 302.4\" width=\"302.4pt\" xmlns=\"http://www.w3.org/2000/svg\" xmlns:xlink=\"http://www.w3.org/1999/xlink\">\n",
       " <metadata>\n",
       "  <rdf:RDF xmlns:cc=\"http://creativecommons.org/ns#\" xmlns:dc=\"http://purl.org/dc/elements/1.1/\" xmlns:rdf=\"http://www.w3.org/1999/02/22-rdf-syntax-ns#\">\n",
       "   <cc:Work>\n",
       "    <dc:type rdf:resource=\"http://purl.org/dc/dcmitype/StillImage\"/>\n",
       "    <dc:date>2021-04-05T17:35:05.360077</dc:date>\n",
       "    <dc:format>image/svg+xml</dc:format>\n",
       "    <dc:creator>\n",
       "     <cc:Agent>\n",
       "      <dc:title>Matplotlib v3.3.3, https://matplotlib.org/</dc:title>\n",
       "     </cc:Agent>\n",
       "    </dc:creator>\n",
       "   </cc:Work>\n",
       "  </rdf:RDF>\n",
       " </metadata>\n",
       " <defs>\n",
       "  <style type=\"text/css\">*{stroke-linecap:butt;stroke-linejoin:round;}</style>\n",
       " </defs>\n",
       " <g id=\"figure_1\">\n",
       "  <g id=\"patch_1\">\n",
       "   <path d=\"M 0 302.4 \n",
       "L 302.4 302.4 \n",
       "L 302.4 0 \n",
       "L 0 0 \n",
       "z\n",
       "\" style=\"fill:#ffffff;\"/>\n",
       "  </g>\n",
       "  <g id=\"axes_1\">\n",
       "   <g id=\"patch_2\">\n",
       "    <path clip-path=\"url(#p5a95710f7c)\" d=\"M 86.217231 43.149009 \n",
       "Q 61.943844 91.695784 38.170456 139.242558 \n",
       "\" style=\"fill:none;stroke:#000000;stroke-linecap:round;\"/>\n",
       "    <path clip-path=\"url(#p5a95710f7c)\" d=\"M 43.89479 134.949308 \n",
       "L 38.170456 139.242558 \n",
       "L 38.170456 132.087141 \n",
       "L 43.89479 134.949308 \n",
       "z\n",
       "\" style=\"stroke:#000000;stroke-linecap:round;\"/>\n",
       "   </g>\n",
       "   <g id=\"patch_3\">\n",
       "    <path clip-path=\"url(#p5a95710f7c)\" d=\"M 91.695868 44.441945 \n",
       "Q 91.695868 91.697567 91.695868 137.835154 \n",
       "\" style=\"fill:none;stroke:#000000;stroke-linecap:round;\"/>\n",
       "    <path clip-path=\"url(#p5a95710f7c)\" d=\"M 94.895868 131.435154 \n",
       "L 91.695868 137.835154 \n",
       "L 88.495868 131.435154 \n",
       "L 94.895868 131.435154 \n",
       "z\n",
       "\" style=\"stroke:#000000;stroke-linecap:round;\"/>\n",
       "   </g>\n",
       "   <g id=\"patch_4\">\n",
       "    <path clip-path=\"url(#p5a95710f7c)\" d=\"M 97.174504 43.149009 \n",
       "Q 121.447892 91.695784 145.221279 139.242558 \n",
       "\" style=\"fill:none;stroke:#000000;stroke-linecap:round;\"/>\n",
       "    <path clip-path=\"url(#p5a95710f7c)\" d=\"M 145.221279 132.087141 \n",
       "L 145.221279 139.242558 \n",
       "L 139.496945 134.949308 \n",
       "L 145.221279 132.087141 \n",
       "z\n",
       "\" style=\"stroke:#000000;stroke-linecap:round;\"/>\n",
       "   </g>\n",
       "   <g id=\"patch_5\">\n",
       "    <path clip-path=\"url(#p5a95710f7c)\" d=\"M 32.191736 163.45021 \n",
       "Q 32.191736 210.705831 32.191736 256.843419 \n",
       "\" style=\"fill:none;stroke:#000000;stroke-linecap:round;\"/>\n",
       "    <path clip-path=\"url(#p5a95710f7c)\" d=\"M 35.391736 250.443419 \n",
       "L 32.191736 256.843419 \n",
       "L 28.991736 250.443419 \n",
       "L 35.391736 250.443419 \n",
       "z\n",
       "\" style=\"stroke:#000000;stroke-linecap:round;\"/>\n",
       "   </g>\n",
       "   <g id=\"patch_6\">\n",
       "    <path clip-path=\"url(#p5a95710f7c)\" d=\"M 91.695868 163.45021 \n",
       "Q 91.695868 210.705831 91.695868 256.843419 \n",
       "\" style=\"fill:none;stroke:#000000;stroke-linecap:round;\"/>\n",
       "    <path clip-path=\"url(#p5a95710f7c)\" d=\"M 94.895868 250.443419 \n",
       "L 91.695868 256.843419 \n",
       "L 88.495868 250.443419 \n",
       "L 94.895868 250.443419 \n",
       "z\n",
       "\" style=\"stroke:#000000;stroke-linecap:round;\"/>\n",
       "   </g>\n",
       "   <g id=\"patch_7\">\n",
       "    <path clip-path=\"url(#p5a95710f7c)\" d=\"M 97.174504 162.157273 \n",
       "Q 121.447892 210.704048 145.221279 258.250823 \n",
       "\" style=\"fill:none;stroke:#000000;stroke-linecap:round;\"/>\n",
       "    <path clip-path=\"url(#p5a95710f7c)\" d=\"M 145.221279 251.095405 \n",
       "L 145.221279 258.250823 \n",
       "L 139.496945 253.957572 \n",
       "L 145.221279 251.095405 \n",
       "z\n",
       "\" style=\"stroke:#000000;stroke-linecap:round;\"/>\n",
       "   </g>\n",
       "   <g id=\"patch_8\">\n",
       "    <path clip-path=\"url(#p5a95710f7c)\" d=\"M 205.225496 43.149009 \n",
       "Q 180.952108 91.695784 157.178721 139.242558 \n",
       "\" style=\"fill:none;stroke:#000000;stroke-linecap:round;\"/>\n",
       "    <path clip-path=\"url(#p5a95710f7c)\" d=\"M 162.903055 134.949308 \n",
       "L 157.178721 139.242558 \n",
       "L 157.178721 132.087141 \n",
       "L 162.903055 134.949308 \n",
       "z\n",
       "\" style=\"stroke:#000000;stroke-linecap:round;\"/>\n",
       "   </g>\n",
       "   <g id=\"patch_9\">\n",
       "    <path clip-path=\"url(#p5a95710f7c)\" d=\"M 210.704132 44.441945 \n",
       "Q 210.704132 91.697567 210.704132 137.835154 \n",
       "\" style=\"fill:none;stroke:#000000;stroke-linecap:round;\"/>\n",
       "    <path clip-path=\"url(#p5a95710f7c)\" d=\"M 213.904132 131.435154 \n",
       "L 210.704132 137.835154 \n",
       "L 207.504132 131.435154 \n",
       "L 213.904132 131.435154 \n",
       "z\n",
       "\" style=\"stroke:#000000;stroke-linecap:round;\"/>\n",
       "   </g>\n",
       "   <g id=\"patch_10\">\n",
       "    <path clip-path=\"url(#p5a95710f7c)\" d=\"M 216.182769 43.149009 \n",
       "Q 240.456156 91.695784 264.229544 139.242558 \n",
       "\" style=\"fill:none;stroke:#000000;stroke-linecap:round;\"/>\n",
       "    <path clip-path=\"url(#p5a95710f7c)\" d=\"M 264.229544 132.087141 \n",
       "L 264.229544 139.242558 \n",
       "L 258.50521 134.949308 \n",
       "L 264.229544 132.087141 \n",
       "z\n",
       "\" style=\"stroke:#000000;stroke-linecap:round;\"/>\n",
       "   </g>\n",
       "   <g id=\"PathCollection_1\">\n",
       "    <defs>\n",
       "     <path d=\"M 0 12.247449 \n",
       "C 3.248061 12.247449 6.363528 10.95698 8.660254 8.660254 \n",
       "C 10.95698 6.363528 12.247449 3.248061 12.247449 0 \n",
       "C 12.247449 -3.248061 10.95698 -6.363528 8.660254 -8.660254 \n",
       "C 6.363528 -10.95698 3.248061 -12.247449 0 -12.247449 \n",
       "C -3.248061 -12.247449 -6.363528 -10.95698 -8.660254 -8.660254 \n",
       "C -10.95698 -6.363528 -12.247449 -3.248061 -12.247449 0 \n",
       "C -12.247449 3.248061 -10.95698 6.363528 -8.660254 8.660254 \n",
       "C -6.363528 10.95698 -3.248061 12.247449 0 12.247449 \n",
       "z\n",
       "\" id=\"mdb134b8503\" style=\"stroke:#000000;\"/>\n",
       "    </defs>\n",
       "    <g clip-path=\"url(#p5a95710f7c)\">\n",
       "     <use style=\"fill:#d3d3d3;stroke:#000000;\" x=\"91.695868\" xlink:href=\"#mdb134b8503\" y=\"32.191736\"/>\n",
       "     <use style=\"fill:#d3d3d3;stroke:#000000;\" x=\"32.191736\" xlink:href=\"#mdb134b8503\" y=\"151.2\"/>\n",
       "     <use style=\"fill:#d3d3d3;stroke:#000000;\" x=\"32.191736\" xlink:href=\"#mdb134b8503\" y=\"270.208264\"/>\n",
       "     <use style=\"fill:#d3d3d3;stroke:#000000;\" x=\"91.695868\" xlink:href=\"#mdb134b8503\" y=\"151.2\"/>\n",
       "     <use style=\"fill:#d3d3d3;stroke:#000000;\" x=\"91.695868\" xlink:href=\"#mdb134b8503\" y=\"270.208264\"/>\n",
       "     <use style=\"fill:#d3d3d3;stroke:#000000;\" x=\"151.2\" xlink:href=\"#mdb134b8503\" y=\"270.208264\"/>\n",
       "     <use style=\"fill:#d3d3d3;stroke:#000000;\" x=\"210.704132\" xlink:href=\"#mdb134b8503\" y=\"32.191736\"/>\n",
       "     <use style=\"fill:#d3d3d3;stroke:#000000;\" x=\"151.2\" xlink:href=\"#mdb134b8503\" y=\"151.2\"/>\n",
       "     <use style=\"fill:#d3d3d3;stroke:#000000;\" x=\"210.704132\" xlink:href=\"#mdb134b8503\" y=\"151.2\"/>\n",
       "     <use style=\"fill:#d3d3d3;stroke:#000000;\" x=\"270.208264\" xlink:href=\"#mdb134b8503\" y=\"151.2\"/>\n",
       "    </g>\n",
       "   </g>\n",
       "   <g id=\"text_1\">\n",
       "    <g clip-path=\"url(#p5a95710f7c)\">\n",
       "     <!-- H -->\n",
       "     <g transform=\"translate(86.674618 35.502986)scale(0.12 -0.12)\">\n",
       "      <defs>\n",
       "       <path d=\"M 9.1875 72.90625 \n",
       "L 27.984375 72.90625 \n",
       "L 27.984375 45.125 \n",
       "L 55.71875 45.125 \n",
       "L 55.71875 72.90625 \n",
       "L 74.515625 72.90625 \n",
       "L 74.515625 0 \n",
       "L 55.71875 0 \n",
       "L 55.71875 30.90625 \n",
       "L 27.984375 30.90625 \n",
       "L 27.984375 0 \n",
       "L 9.1875 0 \n",
       "z\n",
       "\" id=\"DejaVuSans-Bold-72\"/>\n",
       "      </defs>\n",
       "      <use xlink:href=\"#DejaVuSans-Bold-72\"/>\n",
       "     </g>\n",
       "    </g>\n",
       "   </g>\n",
       "   <g id=\"text_2\">\n",
       "    <g clip-path=\"url(#p5a95710f7c)\">\n",
       "     <!-- D -->\n",
       "     <g transform=\"translate(27.210798 154.51125)scale(0.12 -0.12)\">\n",
       "      <defs>\n",
       "       <path d=\"M 27.984375 58.6875 \n",
       "L 27.984375 14.203125 \n",
       "L 34.71875 14.203125 \n",
       "Q 46.234375 14.203125 52.3125 19.921875 \n",
       "Q 58.40625 25.640625 58.40625 36.53125 \n",
       "Q 58.40625 47.359375 52.34375 53.015625 \n",
       "Q 46.296875 58.6875 34.71875 58.6875 \n",
       "z\n",
       "M 9.1875 72.90625 \n",
       "L 29 72.90625 \n",
       "Q 45.609375 72.90625 53.734375 70.53125 \n",
       "Q 61.859375 68.171875 67.671875 62.5 \n",
       "Q 72.796875 57.5625 75.28125 51.109375 \n",
       "Q 77.78125 44.671875 77.78125 36.53125 \n",
       "Q 77.78125 28.265625 75.28125 21.796875 \n",
       "Q 72.796875 15.328125 67.671875 10.40625 \n",
       "Q 61.8125 4.734375 53.609375 2.359375 \n",
       "Q 45.40625 0 29 0 \n",
       "L 9.1875 0 \n",
       "z\n",
       "\" id=\"DejaVuSans-Bold-68\"/>\n",
       "      </defs>\n",
       "      <use xlink:href=\"#DejaVuSans-Bold-68\"/>\n",
       "     </g>\n",
       "    </g>\n",
       "   </g>\n",
       "   <g id=\"text_3\">\n",
       "    <g clip-path=\"url(#p5a95710f7c)\">\n",
       "     <!-- C -->\n",
       "     <g transform=\"translate(27.788298 273.519514)scale(0.12 -0.12)\">\n",
       "      <defs>\n",
       "       <path d=\"M 67 4 \n",
       "Q 61.8125 1.3125 56.203125 -0.046875 \n",
       "Q 50.59375 -1.421875 44.484375 -1.421875 \n",
       "Q 26.265625 -1.421875 15.625 8.765625 \n",
       "Q 4.984375 18.953125 4.984375 36.375 \n",
       "Q 4.984375 53.859375 15.625 64.03125 \n",
       "Q 26.265625 74.21875 44.484375 74.21875 \n",
       "Q 50.59375 74.21875 56.203125 72.84375 \n",
       "Q 61.8125 71.484375 67 68.796875 \n",
       "L 67 53.71875 \n",
       "Q 61.765625 57.28125 56.6875 58.9375 \n",
       "Q 51.609375 60.59375 46 60.59375 \n",
       "Q 35.9375 60.59375 30.171875 54.140625 \n",
       "Q 24.421875 47.703125 24.421875 36.375 \n",
       "Q 24.421875 25.09375 30.171875 18.640625 \n",
       "Q 35.9375 12.203125 46 12.203125 \n",
       "Q 51.609375 12.203125 56.6875 13.859375 \n",
       "Q 61.765625 15.53125 67 19.09375 \n",
       "z\n",
       "\" id=\"DejaVuSans-Bold-67\"/>\n",
       "      </defs>\n",
       "      <use xlink:href=\"#DejaVuSans-Bold-67\"/>\n",
       "     </g>\n",
       "    </g>\n",
       "   </g>\n",
       "   <g id=\"text_4\">\n",
       "    <g clip-path=\"url(#p5a95710f7c)\">\n",
       "     <!-- I -->\n",
       "     <g transform=\"translate(89.46368 154.51125)scale(0.12 -0.12)\">\n",
       "      <defs>\n",
       "       <path d=\"M 9.1875 72.90625 \n",
       "L 27.984375 72.90625 \n",
       "L 27.984375 0 \n",
       "L 9.1875 0 \n",
       "z\n",
       "\" id=\"DejaVuSans-Bold-73\"/>\n",
       "      </defs>\n",
       "      <use xlink:href=\"#DejaVuSans-Bold-73\"/>\n",
       "     </g>\n",
       "    </g>\n",
       "   </g>\n",
       "   <g id=\"text_5\">\n",
       "    <g clip-path=\"url(#p5a95710f7c)\">\n",
       "     <!-- F -->\n",
       "     <g transform=\"translate(87.597118 273.519514)scale(0.12 -0.12)\">\n",
       "      <defs>\n",
       "       <path d=\"M 9.1875 72.90625 \n",
       "L 59.90625 72.90625 \n",
       "L 59.90625 58.6875 \n",
       "L 27.984375 58.6875 \n",
       "L 27.984375 45.125 \n",
       "L 58.015625 45.125 \n",
       "L 58.015625 30.90625 \n",
       "L 27.984375 30.90625 \n",
       "L 27.984375 0 \n",
       "L 9.1875 0 \n",
       "z\n",
       "\" id=\"DejaVuSans-Bold-70\"/>\n",
       "      </defs>\n",
       "      <use xlink:href=\"#DejaVuSans-Bold-70\"/>\n",
       "     </g>\n",
       "    </g>\n",
       "   </g>\n",
       "   <g id=\"text_6\">\n",
       "    <g clip-path=\"url(#p5a95710f7c)\">\n",
       "     <!-- G -->\n",
       "     <g transform=\"translate(146.275313 273.519514)scale(0.12 -0.12)\">\n",
       "      <defs>\n",
       "       <path d=\"M 74.703125 5.421875 \n",
       "Q 67.671875 2 60.109375 0.28125 \n",
       "Q 52.546875 -1.421875 44.484375 -1.421875 \n",
       "Q 26.265625 -1.421875 15.625 8.765625 \n",
       "Q 4.984375 18.953125 4.984375 36.375 \n",
       "Q 4.984375 54 15.8125 64.109375 \n",
       "Q 26.65625 74.21875 45.515625 74.21875 \n",
       "Q 52.78125 74.21875 59.4375 72.84375 \n",
       "Q 66.109375 71.484375 72.015625 68.796875 \n",
       "L 72.015625 53.71875 \n",
       "Q 65.921875 57.171875 59.890625 58.875 \n",
       "Q 53.859375 60.59375 47.796875 60.59375 \n",
       "Q 36.578125 60.59375 30.5 54.3125 \n",
       "Q 24.421875 48.046875 24.421875 36.375 \n",
       "Q 24.421875 24.8125 30.28125 18.5 \n",
       "Q 36.140625 12.203125 46.921875 12.203125 \n",
       "Q 49.859375 12.203125 52.375 12.5625 \n",
       "Q 54.890625 12.9375 56.890625 13.71875 \n",
       "L 56.890625 27.875 \n",
       "L 45.40625 27.875 \n",
       "L 45.40625 40.484375 \n",
       "L 74.703125 40.484375 \n",
       "z\n",
       "\" id=\"DejaVuSans-Bold-71\"/>\n",
       "      </defs>\n",
       "      <use xlink:href=\"#DejaVuSans-Bold-71\"/>\n",
       "     </g>\n",
       "    </g>\n",
       "   </g>\n",
       "   <g id=\"text_7\">\n",
       "    <g clip-path=\"url(#p5a95710f7c)\">\n",
       "     <!-- J -->\n",
       "     <g transform=\"translate(208.471945 35.502986)scale(0.12 -0.12)\">\n",
       "      <defs>\n",
       "       <path d=\"M 9.1875 72.90625 \n",
       "L 27.984375 72.90625 \n",
       "L 27.984375 7.078125 \n",
       "Q 27.984375 -6.546875 20.578125 -13.28125 \n",
       "Q 13.1875 -20.015625 -1.8125 -20.015625 \n",
       "L -5.609375 -20.015625 \n",
       "L -5.609375 -5.8125 \n",
       "L -2.6875 -5.8125 \n",
       "Q 3.171875 -5.8125 6.171875 -2.53125 \n",
       "Q 9.1875 0.734375 9.1875 7.078125 \n",
       "z\n",
       "\" id=\"DejaVuSans-Bold-74\"/>\n",
       "      </defs>\n",
       "      <use xlink:href=\"#DejaVuSans-Bold-74\"/>\n",
       "     </g>\n",
       "    </g>\n",
       "   </g>\n",
       "   <g id=\"text_8\">\n",
       "    <g clip-path=\"url(#p5a95710f7c)\">\n",
       "     <!-- E -->\n",
       "     <g transform=\"translate(147.10125 154.51125)scale(0.12 -0.12)\">\n",
       "      <defs>\n",
       "       <path d=\"M 9.1875 72.90625 \n",
       "L 59.90625 72.90625 \n",
       "L 59.90625 58.6875 \n",
       "L 27.984375 58.6875 \n",
       "L 27.984375 45.125 \n",
       "L 58.015625 45.125 \n",
       "L 58.015625 30.90625 \n",
       "L 27.984375 30.90625 \n",
       "L 27.984375 14.203125 \n",
       "L 60.984375 14.203125 \n",
       "L 60.984375 0 \n",
       "L 9.1875 0 \n",
       "z\n",
       "\" id=\"DejaVuSans-Bold-69\"/>\n",
       "      </defs>\n",
       "      <use xlink:href=\"#DejaVuSans-Bold-69\"/>\n",
       "     </g>\n",
       "    </g>\n",
       "   </g>\n",
       "   <g id=\"text_9\">\n",
       "    <g clip-path=\"url(#p5a95710f7c)\">\n",
       "     <!-- A -->\n",
       "     <g transform=\"translate(206.060695 154.51125)scale(0.12 -0.12)\">\n",
       "      <defs>\n",
       "       <path d=\"M 53.421875 13.28125 \n",
       "L 24.03125 13.28125 \n",
       "L 19.390625 0 \n",
       "L 0.484375 0 \n",
       "L 27.484375 72.90625 \n",
       "L 49.90625 72.90625 \n",
       "L 76.90625 0 \n",
       "L 58.015625 0 \n",
       "z\n",
       "M 28.71875 26.8125 \n",
       "L 48.6875 26.8125 \n",
       "L 38.71875 55.8125 \n",
       "z\n",
       "\" id=\"DejaVuSans-Bold-65\"/>\n",
       "      </defs>\n",
       "      <use xlink:href=\"#DejaVuSans-Bold-65\"/>\n",
       "     </g>\n",
       "    </g>\n",
       "   </g>\n",
       "   <g id=\"text_10\">\n",
       "    <g clip-path=\"url(#p5a95710f7c)\">\n",
       "     <!-- B -->\n",
       "     <g transform=\"translate(265.635139 154.51125)scale(0.12 -0.12)\">\n",
       "      <defs>\n",
       "       <path d=\"M 38.375 44.671875 \n",
       "Q 42.828125 44.671875 45.109375 46.625 \n",
       "Q 47.40625 48.578125 47.40625 52.390625 \n",
       "Q 47.40625 56.15625 45.109375 58.125 \n",
       "Q 42.828125 60.109375 38.375 60.109375 \n",
       "L 27.984375 60.109375 \n",
       "L 27.984375 44.671875 \n",
       "z\n",
       "M 39.015625 12.796875 \n",
       "Q 44.671875 12.796875 47.53125 15.1875 \n",
       "Q 50.390625 17.578125 50.390625 22.40625 \n",
       "Q 50.390625 27.15625 47.5625 29.515625 \n",
       "Q 44.734375 31.890625 39.015625 31.890625 \n",
       "L 27.984375 31.890625 \n",
       "L 27.984375 12.796875 \n",
       "z\n",
       "M 56.5 39.015625 \n",
       "Q 62.546875 37.25 65.859375 32.515625 \n",
       "Q 69.1875 27.78125 69.1875 20.90625 \n",
       "Q 69.1875 10.359375 62.0625 5.171875 \n",
       "Q 54.9375 0 40.375 0 \n",
       "L 9.1875 0 \n",
       "L 9.1875 72.90625 \n",
       "L 37.40625 72.90625 \n",
       "Q 52.59375 72.90625 59.40625 68.3125 \n",
       "Q 66.21875 63.71875 66.21875 53.609375 \n",
       "Q 66.21875 48.296875 63.71875 44.5625 \n",
       "Q 61.234375 40.828125 56.5 39.015625 \n",
       "z\n",
       "\" id=\"DejaVuSans-Bold-66\"/>\n",
       "      </defs>\n",
       "      <use xlink:href=\"#DejaVuSans-Bold-66\"/>\n",
       "     </g>\n",
       "    </g>\n",
       "   </g>\n",
       "  </g>\n",
       " </g>\n",
       " <defs>\n",
       "  <clipPath id=\"p5a95710f7c\">\n",
       "   <rect height=\"288\" width=\"288\" x=\"7.2\" y=\"7.2\"/>\n",
       "  </clipPath>\n",
       " </defs>\n",
       "</svg>\n"
      ],
      "text/plain": [
       "<Figure size 288x288 with 1 Axes>"
      ]
     },
     "metadata": {},
     "output_type": "display_data"
    },
    {
     "name": "stdout",
     "output_type": "stream",
     "text": [
      "CausalDAG with 10 variables [H,D,C,I,F,G,J,E,A,B] and 9 edges:\n",
      "H => D,I,E\n",
      "D => C\n",
      "I => F,G\n",
      "J => E,A,B\n",
      "\n"
     ]
    }
   ],
   "source": [
    "graph = generate_categorical_graph(num_vars=NUM_VARS,\n",
    "                                   min_categs=NUM_CATEGS,\n",
    "                                   max_categs=NUM_CATEGS,\n",
    "                                   edge_prob=0.2,\n",
    "                                   connected=True,\n",
    "                                   seed=42)\n",
    "visualize_graph(graph, show_plot=True, figsize=(4, 4), layout=\"graphviz\")\n",
    "print(graph)"
   ]
  },
  {
   "cell_type": "markdown",
   "metadata": {},
   "source": [
    "## Checking matrix to order"
   ]
  },
  {
   "cell_type": "code",
   "execution_count": 5,
   "metadata": {},
   "outputs": [
    {
     "data": {
      "text/plain": [
       "tensor([1, 2, 0])"
      ]
     },
     "execution_count": 5,
     "metadata": {},
     "output_type": "execute_result"
    }
   ],
   "source": [
    "theta_matrix = torch.FloatTensor([[ 0.0, -1.0, -2.0],\n",
    "                                  [ 1.0,  0.0,  3.0],\n",
    "                                  [ 2.0, -3.0,  0.0]])\n",
    "matrix_to_order(theta_matrix)"
   ]
  },
  {
   "cell_type": "markdown",
   "metadata": {},
   "source": [
    "## Fitting"
   ]
  },
  {
   "cell_type": "code",
   "execution_count": 6,
   "metadata": {},
   "outputs": [
    {
     "name": "stdout",
     "output_type": "stream",
     "text": [
      "Parameter containing:\n",
      "tensor([[-9.0000e+15,  0.0000e+00,  0.0000e+00,  0.0000e+00,  0.0000e+00,\n",
      "          0.0000e+00,  0.0000e+00,  0.0000e+00,  0.0000e+00,  0.0000e+00],\n",
      "        [ 0.0000e+00, -9.0000e+15,  0.0000e+00,  0.0000e+00,  0.0000e+00,\n",
      "          0.0000e+00,  0.0000e+00,  0.0000e+00,  0.0000e+00,  0.0000e+00],\n",
      "        [ 0.0000e+00,  0.0000e+00, -9.0000e+15,  0.0000e+00,  0.0000e+00,\n",
      "          0.0000e+00,  0.0000e+00,  0.0000e+00,  0.0000e+00,  0.0000e+00],\n",
      "        [ 0.0000e+00,  0.0000e+00,  0.0000e+00, -9.0000e+15,  0.0000e+00,\n",
      "          0.0000e+00,  0.0000e+00,  0.0000e+00,  0.0000e+00,  0.0000e+00],\n",
      "        [ 0.0000e+00,  0.0000e+00,  0.0000e+00,  0.0000e+00, -9.0000e+15,\n",
      "          0.0000e+00,  0.0000e+00,  0.0000e+00,  0.0000e+00,  0.0000e+00],\n",
      "        [ 0.0000e+00,  0.0000e+00,  0.0000e+00,  0.0000e+00,  0.0000e+00,\n",
      "         -9.0000e+15,  0.0000e+00,  0.0000e+00,  0.0000e+00,  0.0000e+00],\n",
      "        [ 0.0000e+00,  0.0000e+00,  0.0000e+00,  0.0000e+00,  0.0000e+00,\n",
      "          0.0000e+00, -9.0000e+15,  0.0000e+00,  0.0000e+00,  0.0000e+00],\n",
      "        [ 0.0000e+00,  0.0000e+00,  0.0000e+00,  0.0000e+00,  0.0000e+00,\n",
      "          0.0000e+00,  0.0000e+00, -9.0000e+15,  0.0000e+00,  0.0000e+00],\n",
      "        [ 0.0000e+00,  0.0000e+00,  0.0000e+00,  0.0000e+00,  0.0000e+00,\n",
      "          0.0000e+00,  0.0000e+00,  0.0000e+00, -9.0000e+15,  0.0000e+00],\n",
      "        [ 0.0000e+00,  0.0000e+00,  0.0000e+00,  0.0000e+00,  0.0000e+00,\n",
      "          0.0000e+00,  0.0000e+00,  0.0000e+00,  0.0000e+00, -9.0000e+15]],\n",
      "       requires_grad=True)\n"
     ]
    }
   ],
   "source": [
    "discovery_module = GraphDiscoveryMatrix(graph=graph, model_iters=1000, lambda_sparse=0.001, batch_size=128, lr_permut=5e-3, lr_gamma=0.0,\n",
    "                                        N_s=1, C_s=200,\n",
    "                                        order_grads_opt='weight_expect_no_denom_weight_intervention', edge_grads_opt='weight_expect')\n",
    "discovery_module.to(torch.device(\"cuda:0\"))\n",
    "print(discovery_module.gamma)"
   ]
  },
  {
   "cell_type": "code",
   "execution_count": 7,
   "metadata": {},
   "outputs": [],
   "source": [
    "# true_gamma = torch.from_numpy(graph.adj_matrix).float()\n",
    "# true_gamma = true_gamma + true_gamma.T\n",
    "# true_gamma.masked_fill_(true_gamma == 0, -9e15)\n",
    "# true_gamma.masked_fill_(true_gamma == 1, 9e15)\n",
    "# discovery_module.gamma.data = true_gamma.contiguous()"
   ]
  },
  {
   "cell_type": "code",
   "execution_count": 18,
   "metadata": {},
   "outputs": [
    {
     "data": {
      "application/vnd.jupyter.widget-view+json": {
       "model_id": "",
       "version_major": 2,
       "version_minor": 0
      },
      "text/plain": [
       "HBox(children=(FloatProgress(value=0.0, description='Epoch loop', max=50.0, style=ProgressStyle(description_wi…"
      ]
     },
     "metadata": {},
     "output_type": "display_data"
    },
    {
     "data": {
      "application/vnd.jupyter.widget-view+json": {
       "model_id": "",
       "version_major": 2,
       "version_minor": 0
      },
      "text/plain": [
       "HBox(children=(FloatProgress(value=0.0, description='Model update loop', max=1000.0, style=ProgressStyle(descr…"
      ]
     },
     "metadata": {},
     "output_type": "display_data"
    },
    {
     "data": {
      "application/vnd.jupyter.widget-view+json": {
       "model_id": "",
       "version_major": 2,
       "version_minor": 0
      },
      "text/plain": [
       "HBox(children=(FloatProgress(value=0.0, description='Gamma update loop', style=ProgressStyle(description_width…"
      ]
     },
     "metadata": {},
     "output_type": "display_data"
    },
    {
     "name": "stdout",
     "output_type": "stream",
     "text": [
      "Gamma - Recall: 0.00%, Precision: 0.00% (TP=0,FP=0,FN=9,TN=81)\n",
      "Theta - Direction accuracy: 100.00% (TP=9,FN=0) / Soft accuracy: 100.00% (TP=9,FN=0)\n"
     ]
    },
    {
     "data": {
      "application/vnd.jupyter.widget-view+json": {
       "model_id": "",
       "version_major": 2,
       "version_minor": 0
      },
      "text/plain": [
       "HBox(children=(FloatProgress(value=0.0, description='Model update loop', max=1000.0, style=ProgressStyle(descr…"
      ]
     },
     "metadata": {},
     "output_type": "display_data"
    },
    {
     "data": {
      "application/vnd.jupyter.widget-view+json": {
       "model_id": "",
       "version_major": 2,
       "version_minor": 0
      },
      "text/plain": [
       "HBox(children=(FloatProgress(value=0.0, description='Gamma update loop', style=ProgressStyle(description_width…"
      ]
     },
     "metadata": {},
     "output_type": "display_data"
    },
    {
     "name": "stdout",
     "output_type": "stream",
     "text": [
      "Gamma - Recall: 0.00%, Precision: 0.00% (TP=0,FP=0,FN=9,TN=81)\n",
      "Theta - Direction accuracy: 100.00% (TP=9,FN=0) / Soft accuracy: 100.00% (TP=9,FN=0)\n"
     ]
    },
    {
     "data": {
      "application/vnd.jupyter.widget-view+json": {
       "model_id": "",
       "version_major": 2,
       "version_minor": 0
      },
      "text/plain": [
       "HBox(children=(FloatProgress(value=0.0, description='Model update loop', max=1000.0, style=ProgressStyle(descr…"
      ]
     },
     "metadata": {},
     "output_type": "display_data"
    },
    {
     "data": {
      "application/vnd.jupyter.widget-view+json": {
       "model_id": "",
       "version_major": 2,
       "version_minor": 0
      },
      "text/plain": [
       "HBox(children=(FloatProgress(value=0.0, description='Gamma update loop', style=ProgressStyle(description_width…"
      ]
     },
     "metadata": {},
     "output_type": "display_data"
    },
    {
     "name": "stdout",
     "output_type": "stream",
     "text": [
      "Gamma - Recall: 0.00%, Precision: 0.00% (TP=0,FP=0,FN=9,TN=81)\n",
      "Theta - Direction accuracy: 100.00% (TP=9,FN=0) / Soft accuracy: 100.00% (TP=9,FN=0)\n"
     ]
    },
    {
     "data": {
      "application/vnd.jupyter.widget-view+json": {
       "model_id": "",
       "version_major": 2,
       "version_minor": 0
      },
      "text/plain": [
       "HBox(children=(FloatProgress(value=0.0, description='Model update loop', max=1000.0, style=ProgressStyle(descr…"
      ]
     },
     "metadata": {},
     "output_type": "display_data"
    },
    {
     "data": {
      "application/vnd.jupyter.widget-view+json": {
       "model_id": "",
       "version_major": 2,
       "version_minor": 0
      },
      "text/plain": [
       "HBox(children=(FloatProgress(value=0.0, description='Gamma update loop', style=ProgressStyle(description_width…"
      ]
     },
     "metadata": {},
     "output_type": "display_data"
    },
    {
     "name": "stdout",
     "output_type": "stream",
     "text": [
      "Gamma - Recall: 0.00%, Precision: 0.00% (TP=0,FP=0,FN=9,TN=81)\n",
      "Theta - Direction accuracy: 100.00% (TP=9,FN=0) / Soft accuracy: 100.00% (TP=9,FN=0)\n"
     ]
    },
    {
     "data": {
      "application/vnd.jupyter.widget-view+json": {
       "model_id": "",
       "version_major": 2,
       "version_minor": 0
      },
      "text/plain": [
       "HBox(children=(FloatProgress(value=0.0, description='Model update loop', max=1000.0, style=ProgressStyle(descr…"
      ]
     },
     "metadata": {},
     "output_type": "display_data"
    },
    {
     "data": {
      "application/vnd.jupyter.widget-view+json": {
       "model_id": "",
       "version_major": 2,
       "version_minor": 0
      },
      "text/plain": [
       "HBox(children=(FloatProgress(value=0.0, description='Gamma update loop', style=ProgressStyle(description_width…"
      ]
     },
     "metadata": {},
     "output_type": "display_data"
    },
    {
     "name": "stdout",
     "output_type": "stream",
     "text": [
      "Gamma - Recall: 0.00%, Precision: 0.00% (TP=0,FP=0,FN=9,TN=81)\n",
      "Theta - Direction accuracy: 100.00% (TP=9,FN=0) / Soft accuracy: 100.00% (TP=9,FN=0)\n"
     ]
    },
    {
     "data": {
      "application/vnd.jupyter.widget-view+json": {
       "model_id": "",
       "version_major": 2,
       "version_minor": 0
      },
      "text/plain": [
       "HBox(children=(FloatProgress(value=0.0, description='Model update loop', max=1000.0, style=ProgressStyle(descr…"
      ]
     },
     "metadata": {},
     "output_type": "display_data"
    },
    {
     "data": {
      "application/vnd.jupyter.widget-view+json": {
       "model_id": "",
       "version_major": 2,
       "version_minor": 0
      },
      "text/plain": [
       "HBox(children=(FloatProgress(value=0.0, description='Gamma update loop', style=ProgressStyle(description_width…"
      ]
     },
     "metadata": {},
     "output_type": "display_data"
    },
    {
     "name": "stdout",
     "output_type": "stream",
     "text": [
      "Gamma - Recall: 0.00%, Precision: 0.00% (TP=0,FP=0,FN=9,TN=81)\n",
      "Theta - Direction accuracy: 100.00% (TP=9,FN=0) / Soft accuracy: 100.00% (TP=9,FN=0)\n"
     ]
    },
    {
     "data": {
      "application/vnd.jupyter.widget-view+json": {
       "model_id": "",
       "version_major": 2,
       "version_minor": 0
      },
      "text/plain": [
       "HBox(children=(FloatProgress(value=0.0, description='Model update loop', max=1000.0, style=ProgressStyle(descr…"
      ]
     },
     "metadata": {},
     "output_type": "display_data"
    },
    {
     "data": {
      "application/vnd.jupyter.widget-view+json": {
       "model_id": "",
       "version_major": 2,
       "version_minor": 0
      },
      "text/plain": [
       "HBox(children=(FloatProgress(value=0.0, description='Gamma update loop', style=ProgressStyle(description_width…"
      ]
     },
     "metadata": {},
     "output_type": "display_data"
    },
    {
     "name": "stdout",
     "output_type": "stream",
     "text": [
      "Gamma - Recall: 0.00%, Precision: 0.00% (TP=0,FP=0,FN=9,TN=81)\n",
      "Theta - Direction accuracy: 100.00% (TP=9,FN=0) / Soft accuracy: 100.00% (TP=9,FN=0)\n"
     ]
    },
    {
     "data": {
      "application/vnd.jupyter.widget-view+json": {
       "model_id": "",
       "version_major": 2,
       "version_minor": 0
      },
      "text/plain": [
       "HBox(children=(FloatProgress(value=0.0, description='Model update loop', max=1000.0, style=ProgressStyle(descr…"
      ]
     },
     "metadata": {},
     "output_type": "display_data"
    },
    {
     "data": {
      "application/vnd.jupyter.widget-view+json": {
       "model_id": "",
       "version_major": 2,
       "version_minor": 0
      },
      "text/plain": [
       "HBox(children=(FloatProgress(value=0.0, description='Gamma update loop', style=ProgressStyle(description_width…"
      ]
     },
     "metadata": {},
     "output_type": "display_data"
    },
    {
     "name": "stdout",
     "output_type": "stream",
     "text": [
      "Gamma - Recall: 0.00%, Precision: 0.00% (TP=0,FP=0,FN=9,TN=81)\n",
      "Theta - Direction accuracy: 100.00% (TP=9,FN=0) / Soft accuracy: 100.00% (TP=9,FN=0)\n"
     ]
    },
    {
     "data": {
      "application/vnd.jupyter.widget-view+json": {
       "model_id": "",
       "version_major": 2,
       "version_minor": 0
      },
      "text/plain": [
       "HBox(children=(FloatProgress(value=0.0, description='Model update loop', max=1000.0, style=ProgressStyle(descr…"
      ]
     },
     "metadata": {},
     "output_type": "display_data"
    },
    {
     "data": {
      "application/vnd.jupyter.widget-view+json": {
       "model_id": "",
       "version_major": 2,
       "version_minor": 0
      },
      "text/plain": [
       "HBox(children=(FloatProgress(value=0.0, description='Gamma update loop', style=ProgressStyle(description_width…"
      ]
     },
     "metadata": {},
     "output_type": "display_data"
    },
    {
     "name": "stdout",
     "output_type": "stream",
     "text": [
      "Gamma - Recall: 0.00%, Precision: 0.00% (TP=0,FP=0,FN=9,TN=81)\n",
      "Theta - Direction accuracy: 100.00% (TP=9,FN=0) / Soft accuracy: 100.00% (TP=9,FN=0)\n"
     ]
    },
    {
     "data": {
      "application/vnd.jupyter.widget-view+json": {
       "model_id": "",
       "version_major": 2,
       "version_minor": 0
      },
      "text/plain": [
       "HBox(children=(FloatProgress(value=0.0, description='Model update loop', max=1000.0, style=ProgressStyle(descr…"
      ]
     },
     "metadata": {},
     "output_type": "display_data"
    },
    {
     "data": {
      "application/vnd.jupyter.widget-view+json": {
       "model_id": "",
       "version_major": 2,
       "version_minor": 0
      },
      "text/plain": [
       "HBox(children=(FloatProgress(value=0.0, description='Gamma update loop', style=ProgressStyle(description_width…"
      ]
     },
     "metadata": {},
     "output_type": "display_data"
    },
    {
     "name": "stdout",
     "output_type": "stream",
     "text": [
      "Gamma - Recall: 0.00%, Precision: 0.00% (TP=0,FP=0,FN=9,TN=81)\n",
      "Theta - Direction accuracy: 100.00% (TP=9,FN=0) / Soft accuracy: 100.00% (TP=9,FN=0)\n"
     ]
    },
    {
     "data": {
      "application/vnd.jupyter.widget-view+json": {
       "model_id": "",
       "version_major": 2,
       "version_minor": 0
      },
      "text/plain": [
       "HBox(children=(FloatProgress(value=0.0, description='Model update loop', max=1000.0, style=ProgressStyle(descr…"
      ]
     },
     "metadata": {},
     "output_type": "display_data"
    },
    {
     "data": {
      "application/vnd.jupyter.widget-view+json": {
       "model_id": "",
       "version_major": 2,
       "version_minor": 0
      },
      "text/plain": [
       "HBox(children=(FloatProgress(value=0.0, description='Gamma update loop', style=ProgressStyle(description_width…"
      ]
     },
     "metadata": {},
     "output_type": "display_data"
    },
    {
     "name": "stdout",
     "output_type": "stream",
     "text": [
      "Gamma - Recall: 0.00%, Precision: 0.00% (TP=0,FP=0,FN=9,TN=81)\n",
      "Theta - Direction accuracy: 100.00% (TP=9,FN=0) / Soft accuracy: 100.00% (TP=9,FN=0)\n"
     ]
    },
    {
     "data": {
      "application/vnd.jupyter.widget-view+json": {
       "model_id": "",
       "version_major": 2,
       "version_minor": 0
      },
      "text/plain": [
       "HBox(children=(FloatProgress(value=0.0, description='Model update loop', max=1000.0, style=ProgressStyle(descr…"
      ]
     },
     "metadata": {},
     "output_type": "display_data"
    },
    {
     "data": {
      "application/vnd.jupyter.widget-view+json": {
       "model_id": "",
       "version_major": 2,
       "version_minor": 0
      },
      "text/plain": [
       "HBox(children=(FloatProgress(value=0.0, description='Gamma update loop', style=ProgressStyle(description_width…"
      ]
     },
     "metadata": {},
     "output_type": "display_data"
    },
    {
     "name": "stdout",
     "output_type": "stream",
     "text": [
      "Gamma - Recall: 0.00%, Precision: 0.00% (TP=0,FP=0,FN=9,TN=81)\n",
      "Theta - Direction accuracy: 100.00% (TP=9,FN=0) / Soft accuracy: 100.00% (TP=9,FN=0)\n"
     ]
    },
    {
     "data": {
      "application/vnd.jupyter.widget-view+json": {
       "model_id": "",
       "version_major": 2,
       "version_minor": 0
      },
      "text/plain": [
       "HBox(children=(FloatProgress(value=0.0, description='Model update loop', max=1000.0, style=ProgressStyle(descr…"
      ]
     },
     "metadata": {},
     "output_type": "display_data"
    },
    {
     "data": {
      "application/vnd.jupyter.widget-view+json": {
       "model_id": "",
       "version_major": 2,
       "version_minor": 0
      },
      "text/plain": [
       "HBox(children=(FloatProgress(value=0.0, description='Gamma update loop', style=ProgressStyle(description_width…"
      ]
     },
     "metadata": {},
     "output_type": "display_data"
    },
    {
     "name": "stdout",
     "output_type": "stream",
     "text": [
      "Gamma - Recall: 0.00%, Precision: 0.00% (TP=0,FP=0,FN=9,TN=81)\n",
      "Theta - Direction accuracy: 100.00% (TP=9,FN=0) / Soft accuracy: 100.00% (TP=9,FN=0)\n"
     ]
    },
    {
     "data": {
      "application/vnd.jupyter.widget-view+json": {
       "model_id": "",
       "version_major": 2,
       "version_minor": 0
      },
      "text/plain": [
       "HBox(children=(FloatProgress(value=0.0, description='Model update loop', max=1000.0, style=ProgressStyle(descr…"
      ]
     },
     "metadata": {},
     "output_type": "display_data"
    },
    {
     "data": {
      "application/vnd.jupyter.widget-view+json": {
       "model_id": "",
       "version_major": 2,
       "version_minor": 0
      },
      "text/plain": [
       "HBox(children=(FloatProgress(value=0.0, description='Gamma update loop', style=ProgressStyle(description_width…"
      ]
     },
     "metadata": {},
     "output_type": "display_data"
    },
    {
     "name": "stdout",
     "output_type": "stream",
     "text": [
      "Gamma - Recall: 0.00%, Precision: 0.00% (TP=0,FP=0,FN=9,TN=81)\n",
      "Theta - Direction accuracy: 100.00% (TP=9,FN=0) / Soft accuracy: 100.00% (TP=9,FN=0)\n"
     ]
    },
    {
     "data": {
      "application/vnd.jupyter.widget-view+json": {
       "model_id": "",
       "version_major": 2,
       "version_minor": 0
      },
      "text/plain": [
       "HBox(children=(FloatProgress(value=0.0, description='Model update loop', max=1000.0, style=ProgressStyle(descr…"
      ]
     },
     "metadata": {},
     "output_type": "display_data"
    },
    {
     "data": {
      "application/vnd.jupyter.widget-view+json": {
       "model_id": "",
       "version_major": 2,
       "version_minor": 0
      },
      "text/plain": [
       "HBox(children=(FloatProgress(value=0.0, description='Gamma update loop', style=ProgressStyle(description_width…"
      ]
     },
     "metadata": {},
     "output_type": "display_data"
    },
    {
     "name": "stdout",
     "output_type": "stream",
     "text": [
      "Gamma - Recall: 0.00%, Precision: 0.00% (TP=0,FP=0,FN=9,TN=81)\n",
      "Theta - Direction accuracy: 100.00% (TP=9,FN=0) / Soft accuracy: 100.00% (TP=9,FN=0)\n"
     ]
    },
    {
     "data": {
      "application/vnd.jupyter.widget-view+json": {
       "model_id": "",
       "version_major": 2,
       "version_minor": 0
      },
      "text/plain": [
       "HBox(children=(FloatProgress(value=0.0, description='Model update loop', max=1000.0, style=ProgressStyle(descr…"
      ]
     },
     "metadata": {},
     "output_type": "display_data"
    },
    {
     "data": {
      "application/vnd.jupyter.widget-view+json": {
       "model_id": "",
       "version_major": 2,
       "version_minor": 0
      },
      "text/plain": [
       "HBox(children=(FloatProgress(value=0.0, description='Gamma update loop', style=ProgressStyle(description_width…"
      ]
     },
     "metadata": {},
     "output_type": "display_data"
    },
    {
     "name": "stdout",
     "output_type": "stream",
     "text": [
      "Gamma - Recall: 0.00%, Precision: 0.00% (TP=0,FP=0,FN=9,TN=81)\n",
      "Theta - Direction accuracy: 100.00% (TP=9,FN=0) / Soft accuracy: 100.00% (TP=9,FN=0)\n"
     ]
    },
    {
     "data": {
      "application/vnd.jupyter.widget-view+json": {
       "model_id": "",
       "version_major": 2,
       "version_minor": 0
      },
      "text/plain": [
       "HBox(children=(FloatProgress(value=0.0, description='Model update loop', max=1000.0, style=ProgressStyle(descr…"
      ]
     },
     "metadata": {},
     "output_type": "display_data"
    },
    {
     "data": {
      "application/vnd.jupyter.widget-view+json": {
       "model_id": "",
       "version_major": 2,
       "version_minor": 0
      },
      "text/plain": [
       "HBox(children=(FloatProgress(value=0.0, description='Gamma update loop', style=ProgressStyle(description_width…"
      ]
     },
     "metadata": {},
     "output_type": "display_data"
    },
    {
     "name": "stdout",
     "output_type": "stream",
     "text": [
      "Gamma - Recall: 0.00%, Precision: 0.00% (TP=0,FP=0,FN=9,TN=81)\n",
      "Theta - Direction accuracy: 100.00% (TP=9,FN=0) / Soft accuracy: 100.00% (TP=9,FN=0)\n"
     ]
    },
    {
     "data": {
      "application/vnd.jupyter.widget-view+json": {
       "model_id": "",
       "version_major": 2,
       "version_minor": 0
      },
      "text/plain": [
       "HBox(children=(FloatProgress(value=0.0, description='Model update loop', max=1000.0, style=ProgressStyle(descr…"
      ]
     },
     "metadata": {},
     "output_type": "display_data"
    },
    {
     "data": {
      "application/vnd.jupyter.widget-view+json": {
       "model_id": "",
       "version_major": 2,
       "version_minor": 0
      },
      "text/plain": [
       "HBox(children=(FloatProgress(value=0.0, description='Gamma update loop', style=ProgressStyle(description_width…"
      ]
     },
     "metadata": {},
     "output_type": "display_data"
    },
    {
     "name": "stdout",
     "output_type": "stream",
     "text": [
      "Gamma - Recall: 0.00%, Precision: 0.00% (TP=0,FP=0,FN=9,TN=81)\n",
      "Theta - Direction accuracy: 100.00% (TP=9,FN=0) / Soft accuracy: 100.00% (TP=9,FN=0)\n"
     ]
    },
    {
     "data": {
      "application/vnd.jupyter.widget-view+json": {
       "model_id": "",
       "version_major": 2,
       "version_minor": 0
      },
      "text/plain": [
       "HBox(children=(FloatProgress(value=0.0, description='Model update loop', max=1000.0, style=ProgressStyle(descr…"
      ]
     },
     "metadata": {},
     "output_type": "display_data"
    },
    {
     "data": {
      "application/vnd.jupyter.widget-view+json": {
       "model_id": "",
       "version_major": 2,
       "version_minor": 0
      },
      "text/plain": [
       "HBox(children=(FloatProgress(value=0.0, description='Gamma update loop', style=ProgressStyle(description_width…"
      ]
     },
     "metadata": {},
     "output_type": "display_data"
    },
    {
     "name": "stdout",
     "output_type": "stream",
     "text": [
      "Gamma - Recall: 0.00%, Precision: 0.00% (TP=0,FP=0,FN=9,TN=81)\n",
      "Theta - Direction accuracy: 100.00% (TP=9,FN=0) / Soft accuracy: 100.00% (TP=9,FN=0)\n"
     ]
    },
    {
     "data": {
      "application/vnd.jupyter.widget-view+json": {
       "model_id": "",
       "version_major": 2,
       "version_minor": 0
      },
      "text/plain": [
       "HBox(children=(FloatProgress(value=0.0, description='Model update loop', max=1000.0, style=ProgressStyle(descr…"
      ]
     },
     "metadata": {},
     "output_type": "display_data"
    },
    {
     "data": {
      "application/vnd.jupyter.widget-view+json": {
       "model_id": "",
       "version_major": 2,
       "version_minor": 0
      },
      "text/plain": [
       "HBox(children=(FloatProgress(value=0.0, description='Gamma update loop', style=ProgressStyle(description_width…"
      ]
     },
     "metadata": {},
     "output_type": "display_data"
    },
    {
     "name": "stdout",
     "output_type": "stream",
     "text": [
      "Gamma - Recall: 0.00%, Precision: 0.00% (TP=0,FP=0,FN=9,TN=81)\n",
      "Theta - Direction accuracy: 100.00% (TP=9,FN=0) / Soft accuracy: 100.00% (TP=9,FN=0)\n"
     ]
    },
    {
     "data": {
      "application/vnd.jupyter.widget-view+json": {
       "model_id": "",
       "version_major": 2,
       "version_minor": 0
      },
      "text/plain": [
       "HBox(children=(FloatProgress(value=0.0, description='Model update loop', max=1000.0, style=ProgressStyle(descr…"
      ]
     },
     "metadata": {},
     "output_type": "display_data"
    },
    {
     "data": {
      "application/vnd.jupyter.widget-view+json": {
       "model_id": "",
       "version_major": 2,
       "version_minor": 0
      },
      "text/plain": [
       "HBox(children=(FloatProgress(value=0.0, description='Gamma update loop', style=ProgressStyle(description_width…"
      ]
     },
     "metadata": {},
     "output_type": "display_data"
    },
    {
     "name": "stdout",
     "output_type": "stream",
     "text": [
      "Gamma - Recall: 0.00%, Precision: 0.00% (TP=0,FP=0,FN=9,TN=81)\n",
      "Theta - Direction accuracy: 100.00% (TP=9,FN=0) / Soft accuracy: 100.00% (TP=9,FN=0)\n"
     ]
    },
    {
     "data": {
      "application/vnd.jupyter.widget-view+json": {
       "model_id": "",
       "version_major": 2,
       "version_minor": 0
      },
      "text/plain": [
       "HBox(children=(FloatProgress(value=0.0, description='Model update loop', max=1000.0, style=ProgressStyle(descr…"
      ]
     },
     "metadata": {},
     "output_type": "display_data"
    },
    {
     "data": {
      "application/vnd.jupyter.widget-view+json": {
       "model_id": "",
       "version_major": 2,
       "version_minor": 0
      },
      "text/plain": [
       "HBox(children=(FloatProgress(value=0.0, description='Gamma update loop', style=ProgressStyle(description_width…"
      ]
     },
     "metadata": {},
     "output_type": "display_data"
    },
    {
     "name": "stdout",
     "output_type": "stream",
     "text": [
      "Gamma - Recall: 0.00%, Precision: 0.00% (TP=0,FP=0,FN=9,TN=81)\n",
      "Theta - Direction accuracy: 100.00% (TP=9,FN=0) / Soft accuracy: 100.00% (TP=9,FN=0)\n"
     ]
    },
    {
     "data": {
      "application/vnd.jupyter.widget-view+json": {
       "model_id": "",
       "version_major": 2,
       "version_minor": 0
      },
      "text/plain": [
       "HBox(children=(FloatProgress(value=0.0, description='Model update loop', max=1000.0, style=ProgressStyle(descr…"
      ]
     },
     "metadata": {},
     "output_type": "display_data"
    },
    {
     "data": {
      "application/vnd.jupyter.widget-view+json": {
       "model_id": "",
       "version_major": 2,
       "version_minor": 0
      },
      "text/plain": [
       "HBox(children=(FloatProgress(value=0.0, description='Gamma update loop', style=ProgressStyle(description_width…"
      ]
     },
     "metadata": {},
     "output_type": "display_data"
    },
    {
     "name": "stdout",
     "output_type": "stream",
     "text": [
      "Gamma - Recall: 0.00%, Precision: 0.00% (TP=0,FP=0,FN=9,TN=81)\n",
      "Theta - Direction accuracy: 100.00% (TP=9,FN=0) / Soft accuracy: 100.00% (TP=9,FN=0)\n"
     ]
    },
    {
     "data": {
      "application/vnd.jupyter.widget-view+json": {
       "model_id": "",
       "version_major": 2,
       "version_minor": 0
      },
      "text/plain": [
       "HBox(children=(FloatProgress(value=0.0, description='Model update loop', max=1000.0, style=ProgressStyle(descr…"
      ]
     },
     "metadata": {},
     "output_type": "display_data"
    },
    {
     "data": {
      "application/vnd.jupyter.widget-view+json": {
       "model_id": "",
       "version_major": 2,
       "version_minor": 0
      },
      "text/plain": [
       "HBox(children=(FloatProgress(value=0.0, description='Gamma update loop', style=ProgressStyle(description_width…"
      ]
     },
     "metadata": {},
     "output_type": "display_data"
    },
    {
     "name": "stdout",
     "output_type": "stream",
     "text": [
      "Gamma - Recall: 0.00%, Precision: 0.00% (TP=0,FP=0,FN=9,TN=81)\n",
      "Theta - Direction accuracy: 100.00% (TP=9,FN=0) / Soft accuracy: 100.00% (TP=9,FN=0)\n"
     ]
    },
    {
     "data": {
      "application/vnd.jupyter.widget-view+json": {
       "model_id": "",
       "version_major": 2,
       "version_minor": 0
      },
      "text/plain": [
       "HBox(children=(FloatProgress(value=0.0, description='Model update loop', max=1000.0, style=ProgressStyle(descr…"
      ]
     },
     "metadata": {},
     "output_type": "display_data"
    },
    {
     "data": {
      "application/vnd.jupyter.widget-view+json": {
       "model_id": "",
       "version_major": 2,
       "version_minor": 0
      },
      "text/plain": [
       "HBox(children=(FloatProgress(value=0.0, description='Gamma update loop', style=ProgressStyle(description_width…"
      ]
     },
     "metadata": {},
     "output_type": "display_data"
    },
    {
     "name": "stdout",
     "output_type": "stream",
     "text": [
      "Gamma - Recall: 0.00%, Precision: 0.00% (TP=0,FP=0,FN=9,TN=81)\n",
      "Theta - Direction accuracy: 100.00% (TP=9,FN=0) / Soft accuracy: 100.00% (TP=9,FN=0)\n"
     ]
    },
    {
     "data": {
      "application/vnd.jupyter.widget-view+json": {
       "model_id": "",
       "version_major": 2,
       "version_minor": 0
      },
      "text/plain": [
       "HBox(children=(FloatProgress(value=0.0, description='Model update loop', max=1000.0, style=ProgressStyle(descr…"
      ]
     },
     "metadata": {},
     "output_type": "display_data"
    },
    {
     "data": {
      "application/vnd.jupyter.widget-view+json": {
       "model_id": "",
       "version_major": 2,
       "version_minor": 0
      },
      "text/plain": [
       "HBox(children=(FloatProgress(value=0.0, description='Gamma update loop', style=ProgressStyle(description_width…"
      ]
     },
     "metadata": {},
     "output_type": "display_data"
    },
    {
     "name": "stdout",
     "output_type": "stream",
     "text": [
      "Gamma - Recall: 0.00%, Precision: 0.00% (TP=0,FP=0,FN=9,TN=81)\n",
      "Theta - Direction accuracy: 100.00% (TP=9,FN=0) / Soft accuracy: 100.00% (TP=9,FN=0)\n"
     ]
    },
    {
     "data": {
      "application/vnd.jupyter.widget-view+json": {
       "model_id": "",
       "version_major": 2,
       "version_minor": 0
      },
      "text/plain": [
       "HBox(children=(FloatProgress(value=0.0, description='Model update loop', max=1000.0, style=ProgressStyle(descr…"
      ]
     },
     "metadata": {},
     "output_type": "display_data"
    },
    {
     "data": {
      "application/vnd.jupyter.widget-view+json": {
       "model_id": "",
       "version_major": 2,
       "version_minor": 0
      },
      "text/plain": [
       "HBox(children=(FloatProgress(value=0.0, description='Gamma update loop', style=ProgressStyle(description_width…"
      ]
     },
     "metadata": {},
     "output_type": "display_data"
    },
    {
     "name": "stdout",
     "output_type": "stream",
     "text": [
      "Gamma - Recall: 0.00%, Precision: 0.00% (TP=0,FP=0,FN=9,TN=81)\n",
      "Theta - Direction accuracy: 100.00% (TP=9,FN=0) / Soft accuracy: 100.00% (TP=9,FN=0)\n"
     ]
    },
    {
     "data": {
      "application/vnd.jupyter.widget-view+json": {
       "model_id": "",
       "version_major": 2,
       "version_minor": 0
      },
      "text/plain": [
       "HBox(children=(FloatProgress(value=0.0, description='Model update loop', max=1000.0, style=ProgressStyle(descr…"
      ]
     },
     "metadata": {},
     "output_type": "display_data"
    },
    {
     "data": {
      "application/vnd.jupyter.widget-view+json": {
       "model_id": "",
       "version_major": 2,
       "version_minor": 0
      },
      "text/plain": [
       "HBox(children=(FloatProgress(value=0.0, description='Gamma update loop', style=ProgressStyle(description_width…"
      ]
     },
     "metadata": {},
     "output_type": "display_data"
    },
    {
     "name": "stdout",
     "output_type": "stream",
     "text": [
      "Gamma - Recall: 0.00%, Precision: 0.00% (TP=0,FP=0,FN=9,TN=81)\n",
      "Theta - Direction accuracy: 100.00% (TP=9,FN=0) / Soft accuracy: 100.00% (TP=9,FN=0)\n"
     ]
    },
    {
     "data": {
      "application/vnd.jupyter.widget-view+json": {
       "model_id": "",
       "version_major": 2,
       "version_minor": 0
      },
      "text/plain": [
       "HBox(children=(FloatProgress(value=0.0, description='Model update loop', max=1000.0, style=ProgressStyle(descr…"
      ]
     },
     "metadata": {},
     "output_type": "display_data"
    },
    {
     "data": {
      "application/vnd.jupyter.widget-view+json": {
       "model_id": "",
       "version_major": 2,
       "version_minor": 0
      },
      "text/plain": [
       "HBox(children=(FloatProgress(value=0.0, description='Gamma update loop', style=ProgressStyle(description_width…"
      ]
     },
     "metadata": {},
     "output_type": "display_data"
    },
    {
     "name": "stdout",
     "output_type": "stream",
     "text": [
      "Gamma - Recall: 0.00%, Precision: 0.00% (TP=0,FP=0,FN=9,TN=81)\n",
      "Theta - Direction accuracy: 100.00% (TP=9,FN=0) / Soft accuracy: 100.00% (TP=9,FN=0)\n"
     ]
    },
    {
     "data": {
      "application/vnd.jupyter.widget-view+json": {
       "model_id": "",
       "version_major": 2,
       "version_minor": 0
      },
      "text/plain": [
       "HBox(children=(FloatProgress(value=0.0, description='Model update loop', max=1000.0, style=ProgressStyle(descr…"
      ]
     },
     "metadata": {},
     "output_type": "display_data"
    },
    {
     "data": {
      "application/vnd.jupyter.widget-view+json": {
       "model_id": "",
       "version_major": 2,
       "version_minor": 0
      },
      "text/plain": [
       "HBox(children=(FloatProgress(value=0.0, description='Gamma update loop', style=ProgressStyle(description_width…"
      ]
     },
     "metadata": {},
     "output_type": "display_data"
    },
    {
     "name": "stdout",
     "output_type": "stream",
     "text": [
      "Gamma - Recall: 0.00%, Precision: 0.00% (TP=0,FP=0,FN=9,TN=81)\n",
      "Theta - Direction accuracy: 100.00% (TP=9,FN=0) / Soft accuracy: 100.00% (TP=9,FN=0)\n"
     ]
    },
    {
     "data": {
      "application/vnd.jupyter.widget-view+json": {
       "model_id": "",
       "version_major": 2,
       "version_minor": 0
      },
      "text/plain": [
       "HBox(children=(FloatProgress(value=0.0, description='Model update loop', max=1000.0, style=ProgressStyle(descr…"
      ]
     },
     "metadata": {},
     "output_type": "display_data"
    },
    {
     "data": {
      "application/vnd.jupyter.widget-view+json": {
       "model_id": "",
       "version_major": 2,
       "version_minor": 0
      },
      "text/plain": [
       "HBox(children=(FloatProgress(value=0.0, description='Gamma update loop', style=ProgressStyle(description_width…"
      ]
     },
     "metadata": {},
     "output_type": "display_data"
    },
    {
     "name": "stdout",
     "output_type": "stream",
     "text": [
      "Gamma - Recall: 0.00%, Precision: 0.00% (TP=0,FP=0,FN=9,TN=81)\n",
      "Theta - Direction accuracy: 100.00% (TP=9,FN=0) / Soft accuracy: 100.00% (TP=9,FN=0)\n"
     ]
    },
    {
     "data": {
      "application/vnd.jupyter.widget-view+json": {
       "model_id": "",
       "version_major": 2,
       "version_minor": 0
      },
      "text/plain": [
       "HBox(children=(FloatProgress(value=0.0, description='Model update loop', max=1000.0, style=ProgressStyle(descr…"
      ]
     },
     "metadata": {},
     "output_type": "display_data"
    },
    {
     "data": {
      "application/vnd.jupyter.widget-view+json": {
       "model_id": "",
       "version_major": 2,
       "version_minor": 0
      },
      "text/plain": [
       "HBox(children=(FloatProgress(value=0.0, description='Gamma update loop', style=ProgressStyle(description_width…"
      ]
     },
     "metadata": {},
     "output_type": "display_data"
    },
    {
     "name": "stdout",
     "output_type": "stream",
     "text": [
      "Gamma - Recall: 0.00%, Precision: 0.00% (TP=0,FP=0,FN=9,TN=81)\n",
      "Theta - Direction accuracy: 100.00% (TP=9,FN=0) / Soft accuracy: 100.00% (TP=9,FN=0)\n"
     ]
    },
    {
     "data": {
      "application/vnd.jupyter.widget-view+json": {
       "model_id": "",
       "version_major": 2,
       "version_minor": 0
      },
      "text/plain": [
       "HBox(children=(FloatProgress(value=0.0, description='Model update loop', max=1000.0, style=ProgressStyle(descr…"
      ]
     },
     "metadata": {},
     "output_type": "display_data"
    },
    {
     "data": {
      "application/vnd.jupyter.widget-view+json": {
       "model_id": "",
       "version_major": 2,
       "version_minor": 0
      },
      "text/plain": [
       "HBox(children=(FloatProgress(value=0.0, description='Gamma update loop', style=ProgressStyle(description_width…"
      ]
     },
     "metadata": {},
     "output_type": "display_data"
    },
    {
     "name": "stdout",
     "output_type": "stream",
     "text": [
      "Gamma - Recall: 0.00%, Precision: 0.00% (TP=0,FP=0,FN=9,TN=81)\n",
      "Theta - Direction accuracy: 100.00% (TP=9,FN=0) / Soft accuracy: 100.00% (TP=9,FN=0)\n"
     ]
    },
    {
     "data": {
      "application/vnd.jupyter.widget-view+json": {
       "model_id": "",
       "version_major": 2,
       "version_minor": 0
      },
      "text/plain": [
       "HBox(children=(FloatProgress(value=0.0, description='Model update loop', max=1000.0, style=ProgressStyle(descr…"
      ]
     },
     "metadata": {},
     "output_type": "display_data"
    },
    {
     "data": {
      "application/vnd.jupyter.widget-view+json": {
       "model_id": "",
       "version_major": 2,
       "version_minor": 0
      },
      "text/plain": [
       "HBox(children=(FloatProgress(value=0.0, description='Gamma update loop', style=ProgressStyle(description_width…"
      ]
     },
     "metadata": {},
     "output_type": "display_data"
    },
    {
     "name": "stdout",
     "output_type": "stream",
     "text": [
      "Gamma - Recall: 0.00%, Precision: 0.00% (TP=0,FP=0,FN=9,TN=81)\n",
      "Theta - Direction accuracy: 100.00% (TP=9,FN=0) / Soft accuracy: 100.00% (TP=9,FN=0)\n"
     ]
    },
    {
     "data": {
      "application/vnd.jupyter.widget-view+json": {
       "model_id": "",
       "version_major": 2,
       "version_minor": 0
      },
      "text/plain": [
       "HBox(children=(FloatProgress(value=0.0, description='Model update loop', max=1000.0, style=ProgressStyle(descr…"
      ]
     },
     "metadata": {},
     "output_type": "display_data"
    },
    {
     "data": {
      "application/vnd.jupyter.widget-view+json": {
       "model_id": "",
       "version_major": 2,
       "version_minor": 0
      },
      "text/plain": [
       "HBox(children=(FloatProgress(value=0.0, description='Gamma update loop', style=ProgressStyle(description_width…"
      ]
     },
     "metadata": {},
     "output_type": "display_data"
    },
    {
     "name": "stdout",
     "output_type": "stream",
     "text": [
      "Gamma - Recall: 0.00%, Precision: 0.00% (TP=0,FP=0,FN=9,TN=81)\n",
      "Theta - Direction accuracy: 100.00% (TP=9,FN=0) / Soft accuracy: 100.00% (TP=9,FN=0)\n"
     ]
    },
    {
     "data": {
      "application/vnd.jupyter.widget-view+json": {
       "model_id": "",
       "version_major": 2,
       "version_minor": 0
      },
      "text/plain": [
       "HBox(children=(FloatProgress(value=0.0, description='Model update loop', max=1000.0, style=ProgressStyle(descr…"
      ]
     },
     "metadata": {},
     "output_type": "display_data"
    },
    {
     "data": {
      "application/vnd.jupyter.widget-view+json": {
       "model_id": "",
       "version_major": 2,
       "version_minor": 0
      },
      "text/plain": [
       "HBox(children=(FloatProgress(value=0.0, description='Gamma update loop', style=ProgressStyle(description_width…"
      ]
     },
     "metadata": {},
     "output_type": "display_data"
    },
    {
     "name": "stdout",
     "output_type": "stream",
     "text": [
      "Gamma - Recall: 0.00%, Precision: 0.00% (TP=0,FP=0,FN=9,TN=81)\n",
      "Theta - Direction accuracy: 100.00% (TP=9,FN=0) / Soft accuracy: 100.00% (TP=9,FN=0)\n"
     ]
    },
    {
     "data": {
      "application/vnd.jupyter.widget-view+json": {
       "model_id": "",
       "version_major": 2,
       "version_minor": 0
      },
      "text/plain": [
       "HBox(children=(FloatProgress(value=0.0, description='Model update loop', max=1000.0, style=ProgressStyle(descr…"
      ]
     },
     "metadata": {},
     "output_type": "display_data"
    },
    {
     "data": {
      "application/vnd.jupyter.widget-view+json": {
       "model_id": "",
       "version_major": 2,
       "version_minor": 0
      },
      "text/plain": [
       "HBox(children=(FloatProgress(value=0.0, description='Gamma update loop', style=ProgressStyle(description_width…"
      ]
     },
     "metadata": {},
     "output_type": "display_data"
    },
    {
     "name": "stdout",
     "output_type": "stream",
     "text": [
      "Gamma - Recall: 0.00%, Precision: 0.00% (TP=0,FP=0,FN=9,TN=81)\n",
      "Theta - Direction accuracy: 100.00% (TP=9,FN=0) / Soft accuracy: 100.00% (TP=9,FN=0)\n"
     ]
    },
    {
     "data": {
      "application/vnd.jupyter.widget-view+json": {
       "model_id": "",
       "version_major": 2,
       "version_minor": 0
      },
      "text/plain": [
       "HBox(children=(FloatProgress(value=0.0, description='Model update loop', max=1000.0, style=ProgressStyle(descr…"
      ]
     },
     "metadata": {},
     "output_type": "display_data"
    },
    {
     "data": {
      "application/vnd.jupyter.widget-view+json": {
       "model_id": "",
       "version_major": 2,
       "version_minor": 0
      },
      "text/plain": [
       "HBox(children=(FloatProgress(value=0.0, description='Gamma update loop', style=ProgressStyle(description_width…"
      ]
     },
     "metadata": {},
     "output_type": "display_data"
    },
    {
     "name": "stdout",
     "output_type": "stream",
     "text": [
      "Gamma - Recall: 0.00%, Precision: 0.00% (TP=0,FP=0,FN=9,TN=81)\n",
      "Theta - Direction accuracy: 100.00% (TP=9,FN=0) / Soft accuracy: 100.00% (TP=9,FN=0)\n"
     ]
    },
    {
     "data": {
      "application/vnd.jupyter.widget-view+json": {
       "model_id": "",
       "version_major": 2,
       "version_minor": 0
      },
      "text/plain": [
       "HBox(children=(FloatProgress(value=0.0, description='Model update loop', max=1000.0, style=ProgressStyle(descr…"
      ]
     },
     "metadata": {},
     "output_type": "display_data"
    },
    {
     "data": {
      "application/vnd.jupyter.widget-view+json": {
       "model_id": "",
       "version_major": 2,
       "version_minor": 0
      },
      "text/plain": [
       "HBox(children=(FloatProgress(value=0.0, description='Gamma update loop', style=ProgressStyle(description_width…"
      ]
     },
     "metadata": {},
     "output_type": "display_data"
    },
    {
     "name": "stdout",
     "output_type": "stream",
     "text": [
      "Gamma - Recall: 0.00%, Precision: 0.00% (TP=0,FP=0,FN=9,TN=81)\n",
      "Theta - Direction accuracy: 100.00% (TP=9,FN=0) / Soft accuracy: 100.00% (TP=9,FN=0)\n"
     ]
    },
    {
     "data": {
      "application/vnd.jupyter.widget-view+json": {
       "model_id": "",
       "version_major": 2,
       "version_minor": 0
      },
      "text/plain": [
       "HBox(children=(FloatProgress(value=0.0, description='Model update loop', max=1000.0, style=ProgressStyle(descr…"
      ]
     },
     "metadata": {},
     "output_type": "display_data"
    },
    {
     "data": {
      "application/vnd.jupyter.widget-view+json": {
       "model_id": "",
       "version_major": 2,
       "version_minor": 0
      },
      "text/plain": [
       "HBox(children=(FloatProgress(value=0.0, description='Gamma update loop', style=ProgressStyle(description_width…"
      ]
     },
     "metadata": {},
     "output_type": "display_data"
    },
    {
     "name": "stdout",
     "output_type": "stream",
     "text": [
      "Gamma - Recall: 0.00%, Precision: 0.00% (TP=0,FP=0,FN=9,TN=81)\n",
      "Theta - Direction accuracy: 100.00% (TP=9,FN=0) / Soft accuracy: 100.00% (TP=9,FN=0)\n"
     ]
    },
    {
     "data": {
      "application/vnd.jupyter.widget-view+json": {
       "model_id": "",
       "version_major": 2,
       "version_minor": 0
      },
      "text/plain": [
       "HBox(children=(FloatProgress(value=0.0, description='Model update loop', max=1000.0, style=ProgressStyle(descr…"
      ]
     },
     "metadata": {},
     "output_type": "display_data"
    },
    {
     "data": {
      "application/vnd.jupyter.widget-view+json": {
       "model_id": "",
       "version_major": 2,
       "version_minor": 0
      },
      "text/plain": [
       "HBox(children=(FloatProgress(value=0.0, description='Gamma update loop', style=ProgressStyle(description_width…"
      ]
     },
     "metadata": {},
     "output_type": "display_data"
    },
    {
     "name": "stdout",
     "output_type": "stream",
     "text": [
      "Gamma - Recall: 0.00%, Precision: 0.00% (TP=0,FP=0,FN=9,TN=81)\n",
      "Theta - Direction accuracy: 100.00% (TP=9,FN=0) / Soft accuracy: 100.00% (TP=9,FN=0)\n"
     ]
    },
    {
     "data": {
      "application/vnd.jupyter.widget-view+json": {
       "model_id": "",
       "version_major": 2,
       "version_minor": 0
      },
      "text/plain": [
       "HBox(children=(FloatProgress(value=0.0, description='Model update loop', max=1000.0, style=ProgressStyle(descr…"
      ]
     },
     "metadata": {},
     "output_type": "display_data"
    },
    {
     "data": {
      "application/vnd.jupyter.widget-view+json": {
       "model_id": "",
       "version_major": 2,
       "version_minor": 0
      },
      "text/plain": [
       "HBox(children=(FloatProgress(value=0.0, description='Gamma update loop', style=ProgressStyle(description_width…"
      ]
     },
     "metadata": {},
     "output_type": "display_data"
    },
    {
     "name": "stdout",
     "output_type": "stream",
     "text": [
      "Gamma - Recall: 0.00%, Precision: 0.00% (TP=0,FP=0,FN=9,TN=81)\n",
      "Theta - Direction accuracy: 100.00% (TP=9,FN=0) / Soft accuracy: 100.00% (TP=9,FN=0)\n"
     ]
    },
    {
     "data": {
      "application/vnd.jupyter.widget-view+json": {
       "model_id": "",
       "version_major": 2,
       "version_minor": 0
      },
      "text/plain": [
       "HBox(children=(FloatProgress(value=0.0, description='Model update loop', max=1000.0, style=ProgressStyle(descr…"
      ]
     },
     "metadata": {},
     "output_type": "display_data"
    },
    {
     "data": {
      "application/vnd.jupyter.widget-view+json": {
       "model_id": "",
       "version_major": 2,
       "version_minor": 0
      },
      "text/plain": [
       "HBox(children=(FloatProgress(value=0.0, description='Gamma update loop', style=ProgressStyle(description_width…"
      ]
     },
     "metadata": {},
     "output_type": "display_data"
    },
    {
     "name": "stdout",
     "output_type": "stream",
     "text": [
      "Gamma - Recall: 0.00%, Precision: 0.00% (TP=0,FP=0,FN=9,TN=81)\n",
      "Theta - Direction accuracy: 100.00% (TP=9,FN=0) / Soft accuracy: 100.00% (TP=9,FN=0)\n"
     ]
    },
    {
     "data": {
      "application/vnd.jupyter.widget-view+json": {
       "model_id": "",
       "version_major": 2,
       "version_minor": 0
      },
      "text/plain": [
       "HBox(children=(FloatProgress(value=0.0, description='Model update loop', max=1000.0, style=ProgressStyle(descr…"
      ]
     },
     "metadata": {},
     "output_type": "display_data"
    },
    {
     "data": {
      "application/vnd.jupyter.widget-view+json": {
       "model_id": "",
       "version_major": 2,
       "version_minor": 0
      },
      "text/plain": [
       "HBox(children=(FloatProgress(value=0.0, description='Gamma update loop', style=ProgressStyle(description_width…"
      ]
     },
     "metadata": {},
     "output_type": "display_data"
    },
    {
     "name": "stdout",
     "output_type": "stream",
     "text": [
      "Gamma - Recall: 0.00%, Precision: 0.00% (TP=0,FP=0,FN=9,TN=81)\n",
      "Theta - Direction accuracy: 100.00% (TP=9,FN=0) / Soft accuracy: 100.00% (TP=9,FN=0)\n"
     ]
    },
    {
     "data": {
      "application/vnd.jupyter.widget-view+json": {
       "model_id": "",
       "version_major": 2,
       "version_minor": 0
      },
      "text/plain": [
       "HBox(children=(FloatProgress(value=0.0, description='Model update loop', max=1000.0, style=ProgressStyle(descr…"
      ]
     },
     "metadata": {},
     "output_type": "display_data"
    },
    {
     "data": {
      "application/vnd.jupyter.widget-view+json": {
       "model_id": "",
       "version_major": 2,
       "version_minor": 0
      },
      "text/plain": [
       "HBox(children=(FloatProgress(value=0.0, description='Gamma update loop', style=ProgressStyle(description_width…"
      ]
     },
     "metadata": {},
     "output_type": "display_data"
    },
    {
     "name": "stdout",
     "output_type": "stream",
     "text": [
      "Gamma - Recall: 0.00%, Precision: 0.00% (TP=0,FP=0,FN=9,TN=81)\n",
      "Theta - Direction accuracy: 100.00% (TP=9,FN=0) / Soft accuracy: 100.00% (TP=9,FN=0)\n"
     ]
    },
    {
     "data": {
      "application/vnd.jupyter.widget-view+json": {
       "model_id": "",
       "version_major": 2,
       "version_minor": 0
      },
      "text/plain": [
       "HBox(children=(FloatProgress(value=0.0, description='Model update loop', max=1000.0, style=ProgressStyle(descr…"
      ]
     },
     "metadata": {},
     "output_type": "display_data"
    },
    {
     "data": {
      "application/vnd.jupyter.widget-view+json": {
       "model_id": "",
       "version_major": 2,
       "version_minor": 0
      },
      "text/plain": [
       "HBox(children=(FloatProgress(value=0.0, description='Gamma update loop', style=ProgressStyle(description_width…"
      ]
     },
     "metadata": {},
     "output_type": "display_data"
    },
    {
     "name": "stdout",
     "output_type": "stream",
     "text": [
      "Gamma - Recall: 0.00%, Precision: 0.00% (TP=0,FP=0,FN=9,TN=81)\n",
      "Theta - Direction accuracy: 100.00% (TP=9,FN=0) / Soft accuracy: 100.00% (TP=9,FN=0)\n"
     ]
    },
    {
     "data": {
      "application/vnd.jupyter.widget-view+json": {
       "model_id": "",
       "version_major": 2,
       "version_minor": 0
      },
      "text/plain": [
       "HBox(children=(FloatProgress(value=0.0, description='Model update loop', max=1000.0, style=ProgressStyle(descr…"
      ]
     },
     "metadata": {},
     "output_type": "display_data"
    },
    {
     "data": {
      "application/vnd.jupyter.widget-view+json": {
       "model_id": "",
       "version_major": 2,
       "version_minor": 0
      },
      "text/plain": [
       "HBox(children=(FloatProgress(value=0.0, description='Gamma update loop', style=ProgressStyle(description_width…"
      ]
     },
     "metadata": {},
     "output_type": "display_data"
    },
    {
     "name": "stdout",
     "output_type": "stream",
     "text": [
      "Gamma - Recall: 0.00%, Precision: 0.00% (TP=0,FP=0,FN=9,TN=81)\n",
      "Theta - Direction accuracy: 100.00% (TP=9,FN=0) / Soft accuracy: 100.00% (TP=9,FN=0)\n"
     ]
    },
    {
     "data": {
      "application/vnd.jupyter.widget-view+json": {
       "model_id": "",
       "version_major": 2,
       "version_minor": 0
      },
      "text/plain": [
       "HBox(children=(FloatProgress(value=0.0, description='Model update loop', max=1000.0, style=ProgressStyle(descr…"
      ]
     },
     "metadata": {},
     "output_type": "display_data"
    },
    {
     "data": {
      "application/vnd.jupyter.widget-view+json": {
       "model_id": "",
       "version_major": 2,
       "version_minor": 0
      },
      "text/plain": [
       "HBox(children=(FloatProgress(value=0.0, description='Gamma update loop', style=ProgressStyle(description_width…"
      ]
     },
     "metadata": {},
     "output_type": "display_data"
    },
    {
     "name": "stdout",
     "output_type": "stream",
     "text": [
      "Gamma - Recall: 0.00%, Precision: 0.00% (TP=0,FP=0,FN=9,TN=81)\n",
      "Theta - Direction accuracy: 100.00% (TP=9,FN=0) / Soft accuracy: 100.00% (TP=9,FN=0)\n"
     ]
    },
    {
     "data": {
      "application/vnd.jupyter.widget-view+json": {
       "model_id": "",
       "version_major": 2,
       "version_minor": 0
      },
      "text/plain": [
       "HBox(children=(FloatProgress(value=0.0, description='Model update loop', max=1000.0, style=ProgressStyle(descr…"
      ]
     },
     "metadata": {},
     "output_type": "display_data"
    },
    {
     "data": {
      "application/vnd.jupyter.widget-view+json": {
       "model_id": "",
       "version_major": 2,
       "version_minor": 0
      },
      "text/plain": [
       "HBox(children=(FloatProgress(value=0.0, description='Gamma update loop', style=ProgressStyle(description_width…"
      ]
     },
     "metadata": {},
     "output_type": "display_data"
    },
    {
     "name": "stdout",
     "output_type": "stream",
     "text": [
      "Gamma - Recall: 0.00%, Precision: 0.00% (TP=0,FP=0,FN=9,TN=81)\n",
      "Theta - Direction accuracy: 100.00% (TP=9,FN=0) / Soft accuracy: 100.00% (TP=9,FN=0)\n"
     ]
    },
    {
     "data": {
      "application/vnd.jupyter.widget-view+json": {
       "model_id": "",
       "version_major": 2,
       "version_minor": 0
      },
      "text/plain": [
       "HBox(children=(FloatProgress(value=0.0, description='Model update loop', max=1000.0, style=ProgressStyle(descr…"
      ]
     },
     "metadata": {},
     "output_type": "display_data"
    },
    {
     "data": {
      "application/vnd.jupyter.widget-view+json": {
       "model_id": "",
       "version_major": 2,
       "version_minor": 0
      },
      "text/plain": [
       "HBox(children=(FloatProgress(value=0.0, description='Gamma update loop', style=ProgressStyle(description_width…"
      ]
     },
     "metadata": {},
     "output_type": "display_data"
    },
    {
     "name": "stdout",
     "output_type": "stream",
     "text": [
      "Gamma - Recall: 0.00%, Precision: 0.00% (TP=0,FP=0,FN=9,TN=81)\n",
      "Theta - Direction accuracy: 100.00% (TP=9,FN=0) / Soft accuracy: 100.00% (TP=9,FN=0)\n"
     ]
    },
    {
     "data": {
      "text/plain": [
       "Parameter containing:\n",
       "tensor([[-9.0000e+15,  0.0000e+00,  0.0000e+00,  0.0000e+00,  0.0000e+00,\n",
       "          0.0000e+00,  0.0000e+00,  0.0000e+00,  0.0000e+00,  0.0000e+00],\n",
       "        [ 0.0000e+00, -9.0000e+15,  0.0000e+00,  0.0000e+00,  0.0000e+00,\n",
       "          0.0000e+00,  0.0000e+00,  0.0000e+00,  0.0000e+00,  0.0000e+00],\n",
       "        [ 0.0000e+00,  0.0000e+00, -9.0000e+15,  0.0000e+00,  0.0000e+00,\n",
       "          0.0000e+00,  0.0000e+00,  0.0000e+00,  0.0000e+00,  0.0000e+00],\n",
       "        [ 0.0000e+00,  0.0000e+00,  0.0000e+00, -9.0000e+15,  0.0000e+00,\n",
       "          0.0000e+00,  0.0000e+00,  0.0000e+00,  0.0000e+00,  0.0000e+00],\n",
       "        [ 0.0000e+00,  0.0000e+00,  0.0000e+00,  0.0000e+00, -9.0000e+15,\n",
       "          0.0000e+00,  0.0000e+00,  0.0000e+00,  0.0000e+00,  0.0000e+00],\n",
       "        [ 0.0000e+00,  0.0000e+00,  0.0000e+00,  0.0000e+00,  0.0000e+00,\n",
       "         -9.0000e+15,  0.0000e+00,  0.0000e+00,  0.0000e+00,  0.0000e+00],\n",
       "        [ 0.0000e+00,  0.0000e+00,  0.0000e+00,  0.0000e+00,  0.0000e+00,\n",
       "          0.0000e+00, -9.0000e+15,  0.0000e+00,  0.0000e+00,  0.0000e+00],\n",
       "        [ 0.0000e+00,  0.0000e+00,  0.0000e+00,  0.0000e+00,  0.0000e+00,\n",
       "          0.0000e+00,  0.0000e+00, -9.0000e+15,  0.0000e+00,  0.0000e+00],\n",
       "        [ 0.0000e+00,  0.0000e+00,  0.0000e+00,  0.0000e+00,  0.0000e+00,\n",
       "          0.0000e+00,  0.0000e+00,  0.0000e+00, -9.0000e+15,  0.0000e+00],\n",
       "        [ 0.0000e+00,  0.0000e+00,  0.0000e+00,  0.0000e+00,  0.0000e+00,\n",
       "          0.0000e+00,  0.0000e+00,  0.0000e+00,  0.0000e+00, -9.0000e+15]],\n",
       "       requires_grad=True)"
      ]
     },
     "execution_count": 18,
     "metadata": {},
     "output_type": "execute_result"
    }
   ],
   "source": [
    "discovery_module.discover_graph(num_epochs=50)"
   ]
  },
  {
   "cell_type": "code",
   "execution_count": 19,
   "metadata": {},
   "outputs": [
    {
     "data": {
      "text/plain": [
       "Parameter containing:\n",
       "tensor([[ 0.0000e+00,  5.7826e+00,  3.8404e+00,  5.7078e+00,  2.7995e+00,\n",
       "          3.5729e+00,  2.8685e-01,  5.7644e+00, -3.9525e-02, -7.5620e-01],\n",
       "        [-5.7826e+00,  0.0000e+00,  5.7292e+00,  3.8353e-01,  1.3013e-01,\n",
       "          7.7250e-02,  7.0172e-01, -1.0917e-01,  1.8461e-02,  2.9012e-01],\n",
       "        [-3.8404e+00, -5.7292e+00,  0.0000e+00, -2.5953e-01,  1.0938e-03,\n",
       "          1.9275e-01,  6.8817e-01,  1.2994e-02, -3.7125e-02, -1.1325e+00],\n",
       "        [-5.7078e+00, -3.8353e-01,  2.5953e-01,  0.0000e+00,  5.7486e+00,\n",
       "          5.6591e+00,  5.2950e-02, -7.5226e-01,  1.6886e-01, -1.1411e-01],\n",
       "        [-2.7995e+00, -1.3013e-01, -1.0938e-03, -5.7486e+00,  0.0000e+00,\n",
       "         -1.5660e-01,  1.4211e-01, -8.5663e-01,  7.0391e-01, -1.7744e-01],\n",
       "        [-3.5729e+00, -7.7250e-02, -1.9275e-01, -5.6591e+00,  1.5660e-01,\n",
       "          0.0000e+00,  5.6953e-02,  1.5240e-01, -6.7314e-01,  8.2954e-01],\n",
       "        [-2.8685e-01, -7.0172e-01, -6.8817e-01, -5.2950e-02, -1.4211e-01,\n",
       "         -5.6953e-02,  0.0000e+00,  5.5132e+00,  5.6067e+00,  5.6199e+00],\n",
       "        [-5.7644e+00,  1.0917e-01, -1.2994e-02,  7.5226e-01,  8.5663e-01,\n",
       "         -1.5240e-01, -5.5132e+00,  0.0000e+00,  2.6656e-01,  6.5641e-01],\n",
       "        [ 3.9525e-02, -1.8461e-02,  3.7125e-02, -1.6886e-01, -7.0391e-01,\n",
       "          6.7314e-01, -5.6067e+00, -2.6656e-01,  0.0000e+00,  2.6689e-01],\n",
       "        [ 7.5620e-01, -2.9012e-01,  1.1325e+00,  1.1411e-01,  1.7744e-01,\n",
       "         -8.2954e-01, -5.6199e+00, -6.5641e-01, -2.6689e-01,  0.0000e+00]],\n",
       "       requires_grad=True)"
      ]
     },
     "execution_count": 19,
     "metadata": {},
     "output_type": "execute_result"
    }
   ],
   "source": [
    "discovery_module.theta_matrix"
   ]
  },
  {
   "cell_type": "code",
   "execution_count": 20,
   "metadata": {},
   "outputs": [
    {
     "data": {
      "text/plain": [
       "Parameter containing:\n",
       "tensor([[-9.0000e+15,  0.0000e+00,  0.0000e+00,  0.0000e+00,  0.0000e+00,\n",
       "          0.0000e+00,  0.0000e+00,  0.0000e+00,  0.0000e+00,  0.0000e+00],\n",
       "        [ 0.0000e+00, -9.0000e+15,  0.0000e+00,  0.0000e+00,  0.0000e+00,\n",
       "          0.0000e+00,  0.0000e+00,  0.0000e+00,  0.0000e+00,  0.0000e+00],\n",
       "        [ 0.0000e+00,  0.0000e+00, -9.0000e+15,  0.0000e+00,  0.0000e+00,\n",
       "          0.0000e+00,  0.0000e+00,  0.0000e+00,  0.0000e+00,  0.0000e+00],\n",
       "        [ 0.0000e+00,  0.0000e+00,  0.0000e+00, -9.0000e+15,  0.0000e+00,\n",
       "          0.0000e+00,  0.0000e+00,  0.0000e+00,  0.0000e+00,  0.0000e+00],\n",
       "        [ 0.0000e+00,  0.0000e+00,  0.0000e+00,  0.0000e+00, -9.0000e+15,\n",
       "          0.0000e+00,  0.0000e+00,  0.0000e+00,  0.0000e+00,  0.0000e+00],\n",
       "        [ 0.0000e+00,  0.0000e+00,  0.0000e+00,  0.0000e+00,  0.0000e+00,\n",
       "         -9.0000e+15,  0.0000e+00,  0.0000e+00,  0.0000e+00,  0.0000e+00],\n",
       "        [ 0.0000e+00,  0.0000e+00,  0.0000e+00,  0.0000e+00,  0.0000e+00,\n",
       "          0.0000e+00, -9.0000e+15,  0.0000e+00,  0.0000e+00,  0.0000e+00],\n",
       "        [ 0.0000e+00,  0.0000e+00,  0.0000e+00,  0.0000e+00,  0.0000e+00,\n",
       "          0.0000e+00,  0.0000e+00, -9.0000e+15,  0.0000e+00,  0.0000e+00],\n",
       "        [ 0.0000e+00,  0.0000e+00,  0.0000e+00,  0.0000e+00,  0.0000e+00,\n",
       "          0.0000e+00,  0.0000e+00,  0.0000e+00, -9.0000e+15,  0.0000e+00],\n",
       "        [ 0.0000e+00,  0.0000e+00,  0.0000e+00,  0.0000e+00,  0.0000e+00,\n",
       "          0.0000e+00,  0.0000e+00,  0.0000e+00,  0.0000e+00, -9.0000e+15]],\n",
       "       requires_grad=True)"
      ]
     },
     "execution_count": 20,
     "metadata": {},
     "output_type": "execute_result"
    }
   ],
   "source": [
    "discovery_module.gamma"
   ]
  },
  {
   "cell_type": "code",
   "execution_count": 21,
   "metadata": {},
   "outputs": [
    {
     "data": {
      "text/plain": [
       "tensor([[ 50., 100.,  98., 100.,  94.,  97.,  57., 100.,  49.,  32.],\n",
       "        [  0.,  50., 100.,  59.,  53.,  52.,  67.,  47.,  50.,  57.],\n",
       "        [  2.,   0.,  50.,  44.,  50.,  55.,  67.,  50.,  49.,  24.],\n",
       "        [  0.,  41.,  56.,  50., 100., 100.,  51.,  32.,  54.,  47.],\n",
       "        [  6.,  47.,  50.,   0.,  50.,  46.,  54.,  30.,  67.,  46.],\n",
       "        [  3.,  48.,  45.,   0.,  54.,  50.,  51.,  54.,  34.,  70.],\n",
       "        [ 43.,  33.,  33.,  49.,  46.,  49.,  50., 100., 100., 100.],\n",
       "        [  0.,  53.,  50.,  68.,  70.,  46.,   0.,  50.,  57.,  66.],\n",
       "        [ 51.,  50.,  51.,  46.,  33.,  66.,   0.,  43.,  50.,  57.],\n",
       "        [ 68.,  43.,  76.,  53.,  54.,  30.,   0.,  34.,  43.,  50.]],\n",
       "       grad_fn=<RoundBackward>)"
      ]
     },
     "execution_count": 21,
     "metadata": {},
     "output_type": "execute_result"
    }
   ],
   "source": [
    "torch.round(torch.sigmoid(discovery_module.theta_matrix)*100)"
   ]
  },
  {
   "cell_type": "markdown",
   "metadata": {},
   "source": [
    "## Testing self-build example"
   ]
  },
  {
   "cell_type": "code",
   "execution_count": 42,
   "metadata": {},
   "outputs": [
    {
     "data": {
      "application/pdf": "[encoded data removed]",
      "image/svg+xml": [
       "<?xml version=\"1.0\" encoding=\"utf-8\" standalone=\"no\"?>\n",
       "<!DOCTYPE svg PUBLIC \"-//W3C//DTD SVG 1.1//EN\"\n",
       "  \"http://www.w3.org/Graphics/SVG/1.1/DTD/svg11.dtd\">\n",
       "<!-- Created with matplotlib (https://matplotlib.org/) -->\n",
       "<svg height=\"230.4pt\" version=\"1.1\" viewBox=\"0 0 230.4 230.4\" width=\"230.4pt\" xmlns=\"http://www.w3.org/2000/svg\" xmlns:xlink=\"http://www.w3.org/1999/xlink\">\n",
       " <metadata>\n",
       "  <rdf:RDF xmlns:cc=\"http://creativecommons.org/ns#\" xmlns:dc=\"http://purl.org/dc/elements/1.1/\" xmlns:rdf=\"http://www.w3.org/1999/02/22-rdf-syntax-ns#\">\n",
       "   <cc:Work>\n",
       "    <dc:type rdf:resource=\"http://purl.org/dc/dcmitype/StillImage\"/>\n",
       "    <dc:date>2021-04-12T12:41:40.092127</dc:date>\n",
       "    <dc:format>image/svg+xml</dc:format>\n",
       "    <dc:creator>\n",
       "     <cc:Agent>\n",
       "      <dc:title>Matplotlib v3.3.3, https://matplotlib.org/</dc:title>\n",
       "     </cc:Agent>\n",
       "    </dc:creator>\n",
       "   </cc:Work>\n",
       "  </rdf:RDF>\n",
       " </metadata>\n",
       " <defs>\n",
       "  <style type=\"text/css\">*{stroke-linecap:butt;stroke-linejoin:round;}</style>\n",
       " </defs>\n",
       " <g id=\"figure_1\">\n",
       "  <g id=\"patch_1\">\n",
       "   <path d=\"M 0 230.4 \n",
       "L 230.4 230.4 \n",
       "L 230.4 0 \n",
       "L 0 0 \n",
       "z\n",
       "\" style=\"fill:#ffffff;\"/>\n",
       "  </g>\n",
       "  <g id=\"axes_1\">\n",
       "   <g id=\"patch_2\">\n",
       "    <path clip-path=\"url(#p6751cc8b06)\" d=\"M 106.540776 34.603026 \n",
       "Q 70.572458 70.571344 35.394709 105.749093 \n",
       "\" style=\"fill:none;stroke:#000000;stroke-linecap:round;\"/>\n",
       "    <path clip-path=\"url(#p6751cc8b06)\" d=\"M 42.182934 103.486351 \n",
       "L 35.394709 105.749093 \n",
       "L 37.65745 98.960868 \n",
       "L 42.182934 103.486351 \n",
       "z\n",
       "\" style=\"stroke:#000000;stroke-linecap:round;\"/>\n",
       "   </g>\n",
       "   <g id=\"patch_3\">\n",
       "    <path clip-path=\"url(#p6751cc8b06)\" d=\"M 123.859224 34.603026 \n",
       "Q 159.827542 70.571344 195.005291 105.749093 \n",
       "\" style=\"fill:none;stroke:#000000;stroke-linecap:round;\"/>\n",
       "    <path clip-path=\"url(#p6751cc8b06)\" d=\"M 192.74255 98.960868 \n",
       "L 195.005291 105.749093 \n",
       "L 188.217066 103.486351 \n",
       "L 192.74255 98.960868 \n",
       "z\n",
       "\" style=\"stroke:#000000;stroke-linecap:round;\"/>\n",
       "   </g>\n",
       "   <g id=\"patch_4\">\n",
       "    <path clip-path=\"url(#p6751cc8b06)\" d=\"M 34.603026 123.859224 \n",
       "Q 70.571344 159.827542 105.749093 195.005291 \n",
       "\" style=\"fill:none;stroke:#000000;stroke-linecap:round;\"/>\n",
       "    <path clip-path=\"url(#p6751cc8b06)\" d=\"M 103.486351 188.217066 \n",
       "L 105.749093 195.005291 \n",
       "L 98.960868 192.74255 \n",
       "L 103.486351 188.217066 \n",
       "z\n",
       "\" style=\"stroke:#000000;stroke-linecap:round;\"/>\n",
       "   </g>\n",
       "   <g id=\"patch_5\">\n",
       "    <path clip-path=\"url(#p6751cc8b06)\" d=\"M 195.796974 123.859224 \n",
       "Q 159.828656 159.827542 124.650907 195.005291 \n",
       "\" style=\"fill:none;stroke:#000000;stroke-linecap:round;\"/>\n",
       "    <path clip-path=\"url(#p6751cc8b06)\" d=\"M 131.439132 192.74255 \n",
       "L 124.650907 195.005291 \n",
       "L 126.913649 188.217066 \n",
       "L 131.439132 192.74255 \n",
       "z\n",
       "\" style=\"stroke:#000000;stroke-linecap:round;\"/>\n",
       "   </g>\n",
       "   <g id=\"PathCollection_1\">\n",
       "    <defs>\n",
       "     <path d=\"M 0 12.247449 \n",
       "C 3.248061 12.247449 6.363528 10.95698 8.660254 8.660254 \n",
       "C 10.95698 6.363528 12.247449 3.248061 12.247449 0 \n",
       "C 12.247449 -3.248061 10.95698 -6.363528 8.660254 -8.660254 \n",
       "C 6.363528 -10.95698 3.248061 -12.247449 0 -12.247449 \n",
       "C -3.248061 -12.247449 -6.363528 -10.95698 -8.660254 -8.660254 \n",
       "C -10.95698 -6.363528 -12.247449 -3.248061 -12.247449 0 \n",
       "C -12.247449 3.248061 -10.95698 6.363528 -8.660254 8.660254 \n",
       "C -6.363528 10.95698 -3.248061 12.247449 0 12.247449 \n",
       "z\n",
       "\" id=\"m885263a0b4\" style=\"stroke:#000000;\"/>\n",
       "    </defs>\n",
       "    <g clip-path=\"url(#p6751cc8b06)\">\n",
       "     <use style=\"fill:#d3d3d3;stroke:#000000;\" x=\"115.2\" xlink:href=\"#m885263a0b4\" y=\"25.943802\"/>\n",
       "     <use style=\"fill:#d3d3d3;stroke:#000000;\" x=\"25.943802\" xlink:href=\"#m885263a0b4\" y=\"115.2\"/>\n",
       "     <use style=\"fill:#d3d3d3;stroke:#000000;\" x=\"204.456198\" xlink:href=\"#m885263a0b4\" y=\"115.2\"/>\n",
       "     <use style=\"fill:#d3d3d3;stroke:#000000;\" x=\"115.2\" xlink:href=\"#m885263a0b4\" y=\"204.456198\"/>\n",
       "    </g>\n",
       "   </g>\n",
       "   <g id=\"text_1\">\n",
       "    <g clip-path=\"url(#p6751cc8b06)\">\n",
       "     <!-- x1 -->\n",
       "     <g transform=\"translate(107.155313 29.255052)scale(0.12 -0.12)\">\n",
       "      <defs>\n",
       "       <path d=\"M 22.21875 27.984375 \n",
       "L 2.484375 54.6875 \n",
       "L 21 54.6875 \n",
       "L 32.171875 38.484375 \n",
       "L 43.5 54.6875 \n",
       "L 62.015625 54.6875 \n",
       "L 42.28125 28.078125 \n",
       "L 62.984375 0 \n",
       "L 44.484375 0 \n",
       "L 32.171875 17.28125 \n",
       "L 20.015625 0 \n",
       "L 1.515625 0 \n",
       "z\n",
       "\" id=\"DejaVuSans-Bold-120\"/>\n",
       "       <path d=\"M 11.71875 12.984375 \n",
       "L 28.328125 12.984375 \n",
       "L 28.328125 60.109375 \n",
       "L 11.28125 56.59375 \n",
       "L 11.28125 69.390625 \n",
       "L 28.21875 72.90625 \n",
       "L 46.09375 72.90625 \n",
       "L 46.09375 12.984375 \n",
       "L 62.703125 12.984375 \n",
       "L 62.703125 0 \n",
       "L 11.71875 0 \n",
       "z\n",
       "\" id=\"DejaVuSans-Bold-49\"/>\n",
       "      </defs>\n",
       "      <use xlink:href=\"#DejaVuSans-Bold-120\"/>\n",
       "      <use x=\"64.501953\" xlink:href=\"#DejaVuSans-Bold-49\"/>\n",
       "     </g>\n",
       "    </g>\n",
       "   </g>\n",
       "   <g id=\"text_2\">\n",
       "    <g clip-path=\"url(#p6751cc8b06)\">\n",
       "     <!-- x2 -->\n",
       "     <g transform=\"translate(17.899114 118.51125)scale(0.12 -0.12)\">\n",
       "      <defs>\n",
       "       <path d=\"M 28.8125 13.8125 \n",
       "L 60.890625 13.8125 \n",
       "L 60.890625 0 \n",
       "L 7.90625 0 \n",
       "L 7.90625 13.8125 \n",
       "L 34.515625 37.3125 \n",
       "Q 38.09375 40.53125 39.796875 43.609375 \n",
       "Q 41.5 46.6875 41.5 50 \n",
       "Q 41.5 55.125 38.0625 58.25 \n",
       "Q 34.625 61.375 28.90625 61.375 \n",
       "Q 24.515625 61.375 19.28125 59.5 \n",
       "Q 14.0625 57.625 8.109375 53.90625 \n",
       "L 8.109375 69.921875 \n",
       "Q 14.453125 72.015625 20.65625 73.109375 \n",
       "Q 26.859375 74.21875 32.8125 74.21875 \n",
       "Q 45.90625 74.21875 53.15625 68.453125 \n",
       "Q 60.40625 62.703125 60.40625 52.390625 \n",
       "Q 60.40625 46.4375 57.328125 41.28125 \n",
       "Q 54.25 36.140625 44.390625 27.484375 \n",
       "z\n",
       "\" id=\"DejaVuSans-Bold-50\"/>\n",
       "      </defs>\n",
       "      <use xlink:href=\"#DejaVuSans-Bold-120\"/>\n",
       "      <use x=\"64.501953\" xlink:href=\"#DejaVuSans-Bold-50\"/>\n",
       "     </g>\n",
       "    </g>\n",
       "   </g>\n",
       "   <g id=\"text_3\">\n",
       "    <g clip-path=\"url(#p6751cc8b06)\">\n",
       "     <!-- x3 -->\n",
       "     <g transform=\"translate(196.411511 118.51125)scale(0.12 -0.12)\">\n",
       "      <defs>\n",
       "       <path d=\"M 46.578125 39.3125 \n",
       "Q 53.953125 37.40625 57.78125 32.6875 \n",
       "Q 61.625 27.984375 61.625 20.703125 \n",
       "Q 61.625 9.859375 53.3125 4.21875 \n",
       "Q 45.015625 -1.421875 29.109375 -1.421875 \n",
       "Q 23.484375 -1.421875 17.84375 -0.515625 \n",
       "Q 12.203125 0.390625 6.6875 2.203125 \n",
       "L 6.6875 16.703125 \n",
       "Q 11.96875 14.0625 17.15625 12.71875 \n",
       "Q 22.359375 11.375 27.390625 11.375 \n",
       "Q 34.859375 11.375 38.84375 13.953125 \n",
       "Q 42.828125 16.546875 42.828125 21.390625 \n",
       "Q 42.828125 26.375 38.75 28.9375 \n",
       "Q 34.671875 31.5 26.703125 31.5 \n",
       "L 19.1875 31.5 \n",
       "L 19.1875 43.609375 \n",
       "L 27.09375 43.609375 \n",
       "Q 34.1875 43.609375 37.640625 45.828125 \n",
       "Q 41.109375 48.046875 41.109375 52.59375 \n",
       "Q 41.109375 56.78125 37.734375 59.078125 \n",
       "Q 34.375 61.375 28.21875 61.375 \n",
       "Q 23.6875 61.375 19.046875 60.34375 \n",
       "Q 14.40625 59.328125 9.8125 57.328125 \n",
       "L 9.8125 71.09375 \n",
       "Q 15.375 72.65625 20.84375 73.4375 \n",
       "Q 26.3125 74.21875 31.59375 74.21875 \n",
       "Q 45.796875 74.21875 52.84375 69.546875 \n",
       "Q 59.90625 64.890625 59.90625 55.515625 \n",
       "Q 59.90625 49.125 56.53125 45.046875 \n",
       "Q 53.171875 40.96875 46.578125 39.3125 \n",
       "z\n",
       "\" id=\"DejaVuSans-Bold-51\"/>\n",
       "      </defs>\n",
       "      <use xlink:href=\"#DejaVuSans-Bold-120\"/>\n",
       "      <use x=\"64.501953\" xlink:href=\"#DejaVuSans-Bold-51\"/>\n",
       "     </g>\n",
       "    </g>\n",
       "   </g>\n",
       "   <g id=\"text_4\">\n",
       "    <g clip-path=\"url(#p6751cc8b06)\">\n",
       "     <!-- x4 -->\n",
       "     <g transform=\"translate(107.155313 207.767448)scale(0.12 -0.12)\">\n",
       "      <defs>\n",
       "       <path d=\"M 36.8125 57.421875 \n",
       "L 16.21875 26.90625 \n",
       "L 36.8125 26.90625 \n",
       "z\n",
       "M 33.6875 72.90625 \n",
       "L 54.59375 72.90625 \n",
       "L 54.59375 26.90625 \n",
       "L 64.984375 26.90625 \n",
       "L 64.984375 13.28125 \n",
       "L 54.59375 13.28125 \n",
       "L 54.59375 0 \n",
       "L 36.8125 0 \n",
       "L 36.8125 13.28125 \n",
       "L 4.5 13.28125 \n",
       "L 4.5 29.390625 \n",
       "z\n",
       "\" id=\"DejaVuSans-Bold-52\"/>\n",
       "      </defs>\n",
       "      <use xlink:href=\"#DejaVuSans-Bold-120\"/>\n",
       "      <use x=\"64.501953\" xlink:href=\"#DejaVuSans-Bold-52\"/>\n",
       "     </g>\n",
       "    </g>\n",
       "   </g>\n",
       "  </g>\n",
       " </g>\n",
       " <defs>\n",
       "  <clipPath id=\"p6751cc8b06\">\n",
       "   <rect height=\"216\" width=\"216\" x=\"7.2\" y=\"7.2\"/>\n",
       "  </clipPath>\n",
       " </defs>\n",
       "</svg>\n"
      ],
      "text/plain": [
       "<Figure size 216x216 with 1 Axes>"
      ]
     },
     "metadata": {},
     "output_type": "display_data"
    },
    {
     "name": "stdout",
     "output_type": "stream",
     "text": [
      "CausalDAG with 4 variables [x1,x2,x3,x4] and 4 edges:\n",
      "x1 => x2,x3\n",
      "x2 => x4\n",
      "x3 => x4\n",
      "\n"
     ]
    }
   ],
   "source": [
    "graph = load_graph_file('../causal_graphs/real_data/test_diamond.bif')\n",
    "visualize_graph(graph, show_plot=True, figsize=(3,3))\n",
    "print(graph)"
   ]
  },
  {
   "cell_type": "code",
   "execution_count": 43,
   "metadata": {},
   "outputs": [
    {
     "name": "stdout",
     "output_type": "stream",
     "text": [
      "Parameter containing:\n",
      "tensor([[-9.0000e+15,  0.0000e+00,  0.0000e+00,  0.0000e+00],\n",
      "        [ 0.0000e+00, -9.0000e+15,  0.0000e+00,  0.0000e+00],\n",
      "        [ 0.0000e+00,  0.0000e+00, -9.0000e+15,  0.0000e+00],\n",
      "        [ 0.0000e+00,  0.0000e+00,  0.0000e+00, -9.0000e+15]],\n",
      "       requires_grad=True)\n"
     ]
    }
   ],
   "source": [
    "discovery_module = GraphDiscoveryMatrix(graph=graph, model_iters=1000, lambda_sparse=0.1, batch_size=128, lr_permut=5e-3, lr_gamma=5e-3,\n",
    "                                        N_s=1, C_s=200, gamma_iters=100,\n",
    "                                        order_grads_opt='weight_expect_no_denom_weight_intervention', edge_grads_opt='weight_expect')\n",
    "discovery_module.to(torch.device(\"cuda:0\"))\n",
    "print(discovery_module.gamma)"
   ]
  },
  {
   "cell_type": "code",
   "execution_count": 28,
   "metadata": {},
   "outputs": [
    {
     "data": {
      "text/plain": [
       "'\\ndiscovery_module.gamma.data = torch.FloatTensor([\\n    [-9e+15, 5.0, -5.0, -5.0, -5.0, -5.0],\\n    [-5.0, -9e+15, 5.0, -5.0, -5.0, -5.0],\\n    [5.0, -5.0, -9e+15, 5.0, -5.0, -5.0],\\n    [-5.0, -5.0, -5.0, -9e+15, 5.0, -5.0],\\n    [-5.0, -5.0, -5.0, -5.0, -9e+15, 5.0],\\n    [-5.0, -5.0, -5.0, -5.0, -5.0, -9e+15],\\n])\\ndiscovery_module.theta_matrix.data = torch.FloatTensor([\\n    [0.0, 5.0, 0.0, 0.0, 0.0, 0.0],\\n    [-5.0, 0.0, 5.0, 0.0, 0.0, 0.0],\\n    [0.0, -5.0, 0.0, 5.0, 0.0, 0.0],\\n    [0.0, 0.0, -5.0, 0.0, 5.0, 0.0],\\n    [0.0, 0.0, 0.0, -5.0, 0.0, 5.0],\\n    [0.0, 0.0, 0.0, 0.0, -5.0, 0.0]\\n])\\n'"
      ]
     },
     "execution_count": 28,
     "metadata": {},
     "output_type": "execute_result"
    }
   ],
   "source": [
    "\"\"\"\n",
    "discovery_module.gamma.data = torch.FloatTensor([\n",
    "    [-9e+15, 5.0, -5.0, -5.0, -5.0, -5.0],\n",
    "    [-5.0, -9e+15, 5.0, -5.0, -5.0, -5.0],\n",
    "    [5.0, -5.0, -9e+15, 5.0, -5.0, -5.0],\n",
    "    [-5.0, -5.0, -5.0, -9e+15, 5.0, -5.0],\n",
    "    [-5.0, -5.0, -5.0, -5.0, -9e+15, 5.0],\n",
    "    [-5.0, -5.0, -5.0, -5.0, -5.0, -9e+15],\n",
    "])\n",
    "discovery_module.theta_matrix.data = torch.FloatTensor([\n",
    "    [0.0, 5.0, 0.0, 0.0, 0.0, 0.0],\n",
    "    [-5.0, 0.0, 5.0, 0.0, 0.0, 0.0],\n",
    "    [0.0, -5.0, 0.0, 5.0, 0.0, 0.0],\n",
    "    [0.0, 0.0, -5.0, 0.0, 5.0, 0.0],\n",
    "    [0.0, 0.0, 0.0, -5.0, 0.0, 5.0],\n",
    "    [0.0, 0.0, 0.0, 0.0, -5.0, 0.0]\n",
    "])\n",
    "\"\"\""
   ]
  },
  {
   "cell_type": "code",
   "execution_count": 44,
   "metadata": {},
   "outputs": [],
   "source": [
    "discovery_module.gamma.data = torch.FloatTensor([\n",
    "    [-9e+15, 5.0, 5.0, -5.0],\n",
    "    [0.0, -9e+15, 0.0, -5.0],\n",
    "    [0.0, 0.0, -9e+15, -5.0],\n",
    "    [-5.0, -5.0, -5.0, -9e+15]\n",
    "])"
   ]
  },
  {
   "cell_type": "code",
   "execution_count": 45,
   "metadata": {},
   "outputs": [
    {
     "data": {
      "application/vnd.jupyter.widget-view+json": {
       "model_id": "",
       "version_major": 2,
       "version_minor": 0
      },
      "text/plain": [
       "HBox(children=(FloatProgress(value=0.0, description='Epoch loop', max=20.0, style=ProgressStyle(description_wi…"
      ]
     },
     "metadata": {},
     "output_type": "display_data"
    },
    {
     "data": {
      "application/vnd.jupyter.widget-view+json": {
       "model_id": "",
       "version_major": 2,
       "version_minor": 0
      },
      "text/plain": [
       "HBox(children=(FloatProgress(value=0.0, description='Model update loop', max=1000.0, style=ProgressStyle(descr…"
      ]
     },
     "metadata": {},
     "output_type": "display_data"
    },
    {
     "data": {
      "application/vnd.jupyter.widget-view+json": {
       "model_id": "",
       "version_major": 2,
       "version_minor": 0
      },
      "text/plain": [
       "HBox(children=(FloatProgress(value=0.0, description='Gamma update loop', style=ProgressStyle(description_width…"
      ]
     },
     "metadata": {},
     "output_type": "display_data"
    },
    {
     "name": "stdout",
     "output_type": "stream",
     "text": [
      "Gamma - Recall: 50.00%, Precision: 100.00% (TP=2,FP=0,FN=2,TN=8)\n",
      "Theta - Direction accuracy: 75.00% (TP=3,FN=1) / Soft accuracy: 75.00% (TP=3,FN=1)\n"
     ]
    },
    {
     "data": {
      "application/vnd.jupyter.widget-view+json": {
       "model_id": "",
       "version_major": 2,
       "version_minor": 0
      },
      "text/plain": [
       "HBox(children=(FloatProgress(value=0.0, description='Model update loop', max=1000.0, style=ProgressStyle(descr…"
      ]
     },
     "metadata": {},
     "output_type": "display_data"
    },
    {
     "data": {
      "application/vnd.jupyter.widget-view+json": {
       "model_id": "",
       "version_major": 2,
       "version_minor": 0
      },
      "text/plain": [
       "HBox(children=(FloatProgress(value=0.0, description='Gamma update loop', style=ProgressStyle(description_width…"
      ]
     },
     "metadata": {},
     "output_type": "display_data"
    },
    {
     "name": "stdout",
     "output_type": "stream",
     "text": [
      "Gamma - Recall: 50.00%, Precision: 100.00% (TP=2,FP=0,FN=2,TN=8)\n",
      "Theta - Direction accuracy: 75.00% (TP=3,FN=1) / Soft accuracy: 75.00% (TP=3,FN=1)\n"
     ]
    },
    {
     "data": {
      "application/vnd.jupyter.widget-view+json": {
       "model_id": "",
       "version_major": 2,
       "version_minor": 0
      },
      "text/plain": [
       "HBox(children=(FloatProgress(value=0.0, description='Model update loop', max=1000.0, style=ProgressStyle(descr…"
      ]
     },
     "metadata": {},
     "output_type": "display_data"
    },
    {
     "data": {
      "application/vnd.jupyter.widget-view+json": {
       "model_id": "",
       "version_major": 2,
       "version_minor": 0
      },
      "text/plain": [
       "HBox(children=(FloatProgress(value=0.0, description='Gamma update loop', style=ProgressStyle(description_width…"
      ]
     },
     "metadata": {},
     "output_type": "display_data"
    },
    {
     "name": "stdout",
     "output_type": "stream",
     "text": [
      "Gamma - Recall: 50.00%, Precision: 100.00% (TP=2,FP=0,FN=2,TN=8)\n",
      "Theta - Direction accuracy: 50.00% (TP=2,FN=2) / Soft accuracy: 75.00% (TP=3,FN=1)\n"
     ]
    },
    {
     "data": {
      "application/vnd.jupyter.widget-view+json": {
       "model_id": "",
       "version_major": 2,
       "version_minor": 0
      },
      "text/plain": [
       "HBox(children=(FloatProgress(value=0.0, description='Model update loop', max=1000.0, style=ProgressStyle(descr…"
      ]
     },
     "metadata": {},
     "output_type": "display_data"
    },
    {
     "data": {
      "application/vnd.jupyter.widget-view+json": {
       "model_id": "",
       "version_major": 2,
       "version_minor": 0
      },
      "text/plain": [
       "HBox(children=(FloatProgress(value=0.0, description='Gamma update loop', style=ProgressStyle(description_width…"
      ]
     },
     "metadata": {},
     "output_type": "display_data"
    },
    {
     "name": "stdout",
     "output_type": "stream",
     "text": [
      "Gamma - Recall: 50.00%, Precision: 100.00% (TP=2,FP=0,FN=2,TN=8)\n",
      "Theta - Direction accuracy: 75.00% (TP=3,FN=1) / Soft accuracy: 75.00% (TP=3,FN=1)\n"
     ]
    },
    {
     "data": {
      "application/vnd.jupyter.widget-view+json": {
       "model_id": "",
       "version_major": 2,
       "version_minor": 0
      },
      "text/plain": [
       "HBox(children=(FloatProgress(value=0.0, description='Model update loop', max=1000.0, style=ProgressStyle(descr…"
      ]
     },
     "metadata": {},
     "output_type": "display_data"
    },
    {
     "data": {
      "application/vnd.jupyter.widget-view+json": {
       "model_id": "",
       "version_major": 2,
       "version_minor": 0
      },
      "text/plain": [
       "HBox(children=(FloatProgress(value=0.0, description='Gamma update loop', style=ProgressStyle(description_width…"
      ]
     },
     "metadata": {},
     "output_type": "display_data"
    },
    {
     "name": "stdout",
     "output_type": "stream",
     "text": [
      "Gamma - Recall: 50.00%, Precision: 100.00% (TP=2,FP=0,FN=2,TN=8)\n",
      "Theta - Direction accuracy: 75.00% (TP=3,FN=1) / Soft accuracy: 75.00% (TP=3,FN=1)\n"
     ]
    },
    {
     "data": {
      "application/vnd.jupyter.widget-view+json": {
       "model_id": "",
       "version_major": 2,
       "version_minor": 0
      },
      "text/plain": [
       "HBox(children=(FloatProgress(value=0.0, description='Model update loop', max=1000.0, style=ProgressStyle(descr…"
      ]
     },
     "metadata": {},
     "output_type": "display_data"
    },
    {
     "data": {
      "application/vnd.jupyter.widget-view+json": {
       "model_id": "",
       "version_major": 2,
       "version_minor": 0
      },
      "text/plain": [
       "HBox(children=(FloatProgress(value=0.0, description='Gamma update loop', style=ProgressStyle(description_width…"
      ]
     },
     "metadata": {},
     "output_type": "display_data"
    },
    {
     "name": "stdout",
     "output_type": "stream",
     "text": [
      "Gamma - Recall: 50.00%, Precision: 100.00% (TP=2,FP=0,FN=2,TN=8)\n",
      "Theta - Direction accuracy: 50.00% (TP=2,FN=2) / Soft accuracy: 75.00% (TP=3,FN=1)\n"
     ]
    },
    {
     "data": {
      "application/vnd.jupyter.widget-view+json": {
       "model_id": "",
       "version_major": 2,
       "version_minor": 0
      },
      "text/plain": [
       "HBox(children=(FloatProgress(value=0.0, description='Model update loop', max=1000.0, style=ProgressStyle(descr…"
      ]
     },
     "metadata": {},
     "output_type": "display_data"
    },
    {
     "data": {
      "application/vnd.jupyter.widget-view+json": {
       "model_id": "",
       "version_major": 2,
       "version_minor": 0
      },
      "text/plain": [
       "HBox(children=(FloatProgress(value=0.0, description='Gamma update loop', style=ProgressStyle(description_width…"
      ]
     },
     "metadata": {},
     "output_type": "display_data"
    },
    {
     "name": "stdout",
     "output_type": "stream",
     "text": [
      "Gamma - Recall: 50.00%, Precision: 100.00% (TP=2,FP=0,FN=2,TN=8)\n",
      "Theta - Direction accuracy: 50.00% (TP=2,FN=2) / Soft accuracy: 75.00% (TP=3,FN=1)\n"
     ]
    },
    {
     "data": {
      "application/vnd.jupyter.widget-view+json": {
       "model_id": "",
       "version_major": 2,
       "version_minor": 0
      },
      "text/plain": [
       "HBox(children=(FloatProgress(value=0.0, description='Model update loop', max=1000.0, style=ProgressStyle(descr…"
      ]
     },
     "metadata": {},
     "output_type": "display_data"
    },
    {
     "data": {
      "application/vnd.jupyter.widget-view+json": {
       "model_id": "",
       "version_major": 2,
       "version_minor": 0
      },
      "text/plain": [
       "HBox(children=(FloatProgress(value=0.0, description='Gamma update loop', style=ProgressStyle(description_width…"
      ]
     },
     "metadata": {},
     "output_type": "display_data"
    },
    {
     "name": "stdout",
     "output_type": "stream",
     "text": [
      "Gamma - Recall: 50.00%, Precision: 100.00% (TP=2,FP=0,FN=2,TN=8)\n",
      "Theta - Direction accuracy: 50.00% (TP=2,FN=2) / Soft accuracy: 50.00% (TP=2,FN=2)\n"
     ]
    },
    {
     "data": {
      "application/vnd.jupyter.widget-view+json": {
       "model_id": "",
       "version_major": 2,
       "version_minor": 0
      },
      "text/plain": [
       "HBox(children=(FloatProgress(value=0.0, description='Model update loop', max=1000.0, style=ProgressStyle(descr…"
      ]
     },
     "metadata": {},
     "output_type": "display_data"
    },
    {
     "data": {
      "application/vnd.jupyter.widget-view+json": {
       "model_id": "",
       "version_major": 2,
       "version_minor": 0
      },
      "text/plain": [
       "HBox(children=(FloatProgress(value=0.0, description='Gamma update loop', style=ProgressStyle(description_width…"
      ]
     },
     "metadata": {},
     "output_type": "display_data"
    },
    {
     "name": "stdout",
     "output_type": "stream",
     "text": [
      "Gamma - Recall: 50.00%, Precision: 100.00% (TP=2,FP=0,FN=2,TN=8)\n",
      "Theta - Direction accuracy: 50.00% (TP=2,FN=2) / Soft accuracy: 50.00% (TP=2,FN=2)\n"
     ]
    },
    {
     "data": {
      "application/vnd.jupyter.widget-view+json": {
       "model_id": "",
       "version_major": 2,
       "version_minor": 0
      },
      "text/plain": [
       "HBox(children=(FloatProgress(value=0.0, description='Model update loop', max=1000.0, style=ProgressStyle(descr…"
      ]
     },
     "metadata": {},
     "output_type": "display_data"
    },
    {
     "data": {
      "application/vnd.jupyter.widget-view+json": {
       "model_id": "",
       "version_major": 2,
       "version_minor": 0
      },
      "text/plain": [
       "HBox(children=(FloatProgress(value=0.0, description='Gamma update loop', style=ProgressStyle(description_width…"
      ]
     },
     "metadata": {},
     "output_type": "display_data"
    },
    {
     "name": "stdout",
     "output_type": "stream",
     "text": [
      "Gamma - Recall: 50.00%, Precision: 100.00% (TP=2,FP=0,FN=2,TN=8)\n",
      "Theta - Direction accuracy: 50.00% (TP=2,FN=2) / Soft accuracy: 50.00% (TP=2,FN=2)\n"
     ]
    },
    {
     "data": {
      "application/vnd.jupyter.widget-view+json": {
       "model_id": "",
       "version_major": 2,
       "version_minor": 0
      },
      "text/plain": [
       "HBox(children=(FloatProgress(value=0.0, description='Model update loop', max=1000.0, style=ProgressStyle(descr…"
      ]
     },
     "metadata": {},
     "output_type": "display_data"
    },
    {
     "data": {
      "application/vnd.jupyter.widget-view+json": {
       "model_id": "",
       "version_major": 2,
       "version_minor": 0
      },
      "text/plain": [
       "HBox(children=(FloatProgress(value=0.0, description='Gamma update loop', style=ProgressStyle(description_width…"
      ]
     },
     "metadata": {},
     "output_type": "display_data"
    },
    {
     "name": "stdout",
     "output_type": "stream",
     "text": [
      "Gamma - Recall: 50.00%, Precision: 100.00% (TP=2,FP=0,FN=2,TN=8)\n",
      "Theta - Direction accuracy: 50.00% (TP=2,FN=2) / Soft accuracy: 75.00% (TP=3,FN=1)\n"
     ]
    },
    {
     "data": {
      "application/vnd.jupyter.widget-view+json": {
       "model_id": "",
       "version_major": 2,
       "version_minor": 0
      },
      "text/plain": [
       "HBox(children=(FloatProgress(value=0.0, description='Model update loop', max=1000.0, style=ProgressStyle(descr…"
      ]
     },
     "metadata": {},
     "output_type": "display_data"
    },
    {
     "data": {
      "application/vnd.jupyter.widget-view+json": {
       "model_id": "",
       "version_major": 2,
       "version_minor": 0
      },
      "text/plain": [
       "HBox(children=(FloatProgress(value=0.0, description='Gamma update loop', style=ProgressStyle(description_width…"
      ]
     },
     "metadata": {},
     "output_type": "display_data"
    },
    {
     "name": "stdout",
     "output_type": "stream",
     "text": [
      "Gamma - Recall: 50.00%, Precision: 100.00% (TP=2,FP=0,FN=2,TN=8)\n",
      "Theta - Direction accuracy: 50.00% (TP=2,FN=2) / Soft accuracy: 75.00% (TP=3,FN=1)\n"
     ]
    },
    {
     "data": {
      "application/vnd.jupyter.widget-view+json": {
       "model_id": "",
       "version_major": 2,
       "version_minor": 0
      },
      "text/plain": [
       "HBox(children=(FloatProgress(value=0.0, description='Model update loop', max=1000.0, style=ProgressStyle(descr…"
      ]
     },
     "metadata": {},
     "output_type": "display_data"
    },
    {
     "data": {
      "application/vnd.jupyter.widget-view+json": {
       "model_id": "",
       "version_major": 2,
       "version_minor": 0
      },
      "text/plain": [
       "HBox(children=(FloatProgress(value=0.0, description='Gamma update loop', style=ProgressStyle(description_width…"
      ]
     },
     "metadata": {},
     "output_type": "display_data"
    },
    {
     "name": "stdout",
     "output_type": "stream",
     "text": [
      "Gamma - Recall: 50.00%, Precision: 100.00% (TP=2,FP=0,FN=2,TN=8)\n",
      "Theta - Direction accuracy: 75.00% (TP=3,FN=1) / Soft accuracy: 75.00% (TP=3,FN=1)\n"
     ]
    },
    {
     "data": {
      "application/vnd.jupyter.widget-view+json": {
       "model_id": "",
       "version_major": 2,
       "version_minor": 0
      },
      "text/plain": [
       "HBox(children=(FloatProgress(value=0.0, description='Model update loop', max=1000.0, style=ProgressStyle(descr…"
      ]
     },
     "metadata": {},
     "output_type": "display_data"
    },
    {
     "data": {
      "application/vnd.jupyter.widget-view+json": {
       "model_id": "",
       "version_major": 2,
       "version_minor": 0
      },
      "text/plain": [
       "HBox(children=(FloatProgress(value=0.0, description='Gamma update loop', style=ProgressStyle(description_width…"
      ]
     },
     "metadata": {},
     "output_type": "display_data"
    },
    {
     "name": "stdout",
     "output_type": "stream",
     "text": [
      "Gamma - Recall: 50.00%, Precision: 100.00% (TP=2,FP=0,FN=2,TN=8)\n",
      "Theta - Direction accuracy: 100.00% (TP=4,FN=0) / Soft accuracy: 75.00% (TP=3,FN=1)\n"
     ]
    },
    {
     "data": {
      "application/vnd.jupyter.widget-view+json": {
       "model_id": "",
       "version_major": 2,
       "version_minor": 0
      },
      "text/plain": [
       "HBox(children=(FloatProgress(value=0.0, description='Model update loop', max=1000.0, style=ProgressStyle(descr…"
      ]
     },
     "metadata": {},
     "output_type": "display_data"
    },
    {
     "data": {
      "application/vnd.jupyter.widget-view+json": {
       "model_id": "",
       "version_major": 2,
       "version_minor": 0
      },
      "text/plain": [
       "HBox(children=(FloatProgress(value=0.0, description='Gamma update loop', style=ProgressStyle(description_width…"
      ]
     },
     "metadata": {},
     "output_type": "display_data"
    },
    {
     "name": "stdout",
     "output_type": "stream",
     "text": [
      "Gamma - Recall: 50.00%, Precision: 100.00% (TP=2,FP=0,FN=2,TN=8)\n",
      "Theta - Direction accuracy: 100.00% (TP=4,FN=0) / Soft accuracy: 75.00% (TP=3,FN=1)\n"
     ]
    },
    {
     "data": {
      "application/vnd.jupyter.widget-view+json": {
       "model_id": "",
       "version_major": 2,
       "version_minor": 0
      },
      "text/plain": [
       "HBox(children=(FloatProgress(value=0.0, description='Model update loop', max=1000.0, style=ProgressStyle(descr…"
      ]
     },
     "metadata": {},
     "output_type": "display_data"
    },
    {
     "data": {
      "application/vnd.jupyter.widget-view+json": {
       "model_id": "",
       "version_major": 2,
       "version_minor": 0
      },
      "text/plain": [
       "HBox(children=(FloatProgress(value=0.0, description='Gamma update loop', style=ProgressStyle(description_width…"
      ]
     },
     "metadata": {},
     "output_type": "display_data"
    },
    {
     "name": "stdout",
     "output_type": "stream",
     "text": [
      "Gamma - Recall: 50.00%, Precision: 100.00% (TP=2,FP=0,FN=2,TN=8)\n",
      "Theta - Direction accuracy: 100.00% (TP=4,FN=0) / Soft accuracy: 75.00% (TP=3,FN=1)\n"
     ]
    },
    {
     "data": {
      "application/vnd.jupyter.widget-view+json": {
       "model_id": "",
       "version_major": 2,
       "version_minor": 0
      },
      "text/plain": [
       "HBox(children=(FloatProgress(value=0.0, description='Model update loop', max=1000.0, style=ProgressStyle(descr…"
      ]
     },
     "metadata": {},
     "output_type": "display_data"
    },
    {
     "data": {
      "application/vnd.jupyter.widget-view+json": {
       "model_id": "",
       "version_major": 2,
       "version_minor": 0
      },
      "text/plain": [
       "HBox(children=(FloatProgress(value=0.0, description='Gamma update loop', style=ProgressStyle(description_width…"
      ]
     },
     "metadata": {},
     "output_type": "display_data"
    },
    {
     "name": "stdout",
     "output_type": "stream",
     "text": [
      "Gamma - Recall: 50.00%, Precision: 100.00% (TP=2,FP=0,FN=2,TN=8)\n",
      "Theta - Direction accuracy: 50.00% (TP=2,FN=2) / Soft accuracy: 75.00% (TP=3,FN=1)\n"
     ]
    },
    {
     "data": {
      "application/vnd.jupyter.widget-view+json": {
       "model_id": "",
       "version_major": 2,
       "version_minor": 0
      },
      "text/plain": [
       "HBox(children=(FloatProgress(value=0.0, description='Model update loop', max=1000.0, style=ProgressStyle(descr…"
      ]
     },
     "metadata": {},
     "output_type": "display_data"
    },
    {
     "data": {
      "application/vnd.jupyter.widget-view+json": {
       "model_id": "",
       "version_major": 2,
       "version_minor": 0
      },
      "text/plain": [
       "HBox(children=(FloatProgress(value=0.0, description='Gamma update loop', style=ProgressStyle(description_width…"
      ]
     },
     "metadata": {},
     "output_type": "display_data"
    },
    {
     "name": "stdout",
     "output_type": "stream",
     "text": [
      "Gamma - Recall: 50.00%, Precision: 100.00% (TP=2,FP=0,FN=2,TN=8)\n",
      "Theta - Direction accuracy: 75.00% (TP=3,FN=1) / Soft accuracy: 75.00% (TP=3,FN=1)\n"
     ]
    },
    {
     "data": {
      "application/vnd.jupyter.widget-view+json": {
       "model_id": "",
       "version_major": 2,
       "version_minor": 0
      },
      "text/plain": [
       "HBox(children=(FloatProgress(value=0.0, description='Model update loop', max=1000.0, style=ProgressStyle(descr…"
      ]
     },
     "metadata": {},
     "output_type": "display_data"
    },
    {
     "data": {
      "application/vnd.jupyter.widget-view+json": {
       "model_id": "",
       "version_major": 2,
       "version_minor": 0
      },
      "text/plain": [
       "HBox(children=(FloatProgress(value=0.0, description='Gamma update loop', style=ProgressStyle(description_width…"
      ]
     },
     "metadata": {},
     "output_type": "display_data"
    },
    {
     "name": "stdout",
     "output_type": "stream",
     "text": [
      "Gamma - Recall: 50.00%, Precision: 100.00% (TP=2,FP=0,FN=2,TN=8)\n",
      "Theta - Direction accuracy: 100.00% (TP=4,FN=0) / Soft accuracy: 75.00% (TP=3,FN=1)\n"
     ]
    },
    {
     "data": {
      "application/vnd.jupyter.widget-view+json": {
       "model_id": "",
       "version_major": 2,
       "version_minor": 0
      },
      "text/plain": [
       "HBox(children=(FloatProgress(value=0.0, description='Model update loop', max=1000.0, style=ProgressStyle(descr…"
      ]
     },
     "metadata": {},
     "output_type": "display_data"
    },
    {
     "data": {
      "application/vnd.jupyter.widget-view+json": {
       "model_id": "",
       "version_major": 2,
       "version_minor": 0
      },
      "text/plain": [
       "HBox(children=(FloatProgress(value=0.0, description='Gamma update loop', style=ProgressStyle(description_width…"
      ]
     },
     "metadata": {},
     "output_type": "display_data"
    },
    {
     "name": "stdout",
     "output_type": "stream",
     "text": [
      "Gamma - Recall: 50.00%, Precision: 100.00% (TP=2,FP=0,FN=2,TN=8)\n",
      "Theta - Direction accuracy: 100.00% (TP=4,FN=0) / Soft accuracy: 75.00% (TP=3,FN=1)\n"
     ]
    },
    {
     "data": {
      "text/plain": [
       "Parameter containing:\n",
       "tensor([[-9.0000e+15,  5.5990e+00,  5.6203e+00, -1.3057e+01],\n",
       "        [ 4.1671e-01, -9.0000e+15, -6.5271e+00, -1.3029e+01],\n",
       "        [ 6.5255e-01, -6.5445e+00, -9.0000e+15, -1.2818e+01],\n",
       "        [-1.2817e+01, -1.2749e+01, -1.2709e+01, -9.0000e+15]],\n",
       "       requires_grad=True)"
      ]
     },
     "execution_count": 45,
     "metadata": {},
     "output_type": "execute_result"
    }
   ],
   "source": [
    "discovery_module.discover_graph(num_epochs=20)"
   ]
  },
  {
   "cell_type": "code",
   "execution_count": 46,
   "metadata": {},
   "outputs": [
    {
     "data": {
      "text/plain": [
       "Parameter containing:\n",
       "tensor([[ 0.0000,  3.8466,  3.8614, -0.0842],\n",
       "        [-3.8466,  0.0000, -0.0842,  0.1694],\n",
       "        [-3.8614,  0.0842,  0.0000, -0.0262],\n",
       "        [ 0.0842, -0.1694,  0.0262,  0.0000]], requires_grad=True)"
      ]
     },
     "execution_count": 46,
     "metadata": {},
     "output_type": "execute_result"
    }
   ],
   "source": [
    "discovery_module.theta_matrix"
   ]
  },
  {
   "cell_type": "code",
   "execution_count": 47,
   "metadata": {},
   "outputs": [
    {
     "data": {
      "text/plain": [
       "tensor([[ 0.0000e+00,  3.6574e-04,  0.0000e+00,  2.1444e-07],\n",
       "        [-3.0199e-02,  0.0000e+00,  0.0000e+00,  2.2054e-07],\n",
       "        [ 2.2481e-02,  1.4406e-04,  0.0000e+00,  2.7233e-07],\n",
       "        [ 2.7269e-07,  2.9173e-07,  0.0000e+00,  0.0000e+00]])"
      ]
     },
     "execution_count": 47,
     "metadata": {},
     "output_type": "execute_result"
    }
   ],
   "source": [
    "discovery_module.gamma.grad"
   ]
  },
  {
   "cell_type": "code",
   "execution_count": 48,
   "metadata": {},
   "outputs": [
    {
     "data": {
      "text/plain": [
       "tensor([[50., 98., 98., 48.],\n",
       "        [ 2., 50., 48., 54.],\n",
       "        [ 2., 52., 50., 49.],\n",
       "        [52., 46., 51., 50.]], grad_fn=<RoundBackward>)"
      ]
     },
     "execution_count": 48,
     "metadata": {},
     "output_type": "execute_result"
    }
   ],
   "source": [
    "torch.round(torch.sigmoid(discovery_module.theta_matrix)*100)"
   ]
  },
  {
   "cell_type": "markdown",
   "metadata": {},
   "source": [
    "## Latent confounders"
   ]
  },
  {
   "cell_type": "code",
   "execution_count": 7,
   "metadata": {},
   "outputs": [
    {
     "data": {
      "application/pdf": "[encoded data removed]",
      "image/svg+xml": [
       "<?xml version=\"1.0\" encoding=\"utf-8\" standalone=\"no\"?>\n",
       "<!DOCTYPE svg PUBLIC \"-//W3C//DTD SVG 1.1//EN\"\n",
       "  \"http://www.w3.org/Graphics/SVG/1.1/DTD/svg11.dtd\">\n",
       "<!-- Created with matplotlib (https://matplotlib.org/) -->\n",
       "<svg height=\"302.4pt\" version=\"1.1\" viewBox=\"0 0 302.4 302.4\" width=\"302.4pt\" xmlns=\"http://www.w3.org/2000/svg\" xmlns:xlink=\"http://www.w3.org/1999/xlink\">\n",
       " <metadata>\n",
       "  <rdf:RDF xmlns:cc=\"http://creativecommons.org/ns#\" xmlns:dc=\"http://purl.org/dc/elements/1.1/\" xmlns:rdf=\"http://www.w3.org/1999/02/22-rdf-syntax-ns#\">\n",
       "   <cc:Work>\n",
       "    <dc:type rdf:resource=\"http://purl.org/dc/dcmitype/StillImage\"/>\n",
       "    <dc:date>2021-04-07T12:27:58.067852</dc:date>\n",
       "    <dc:format>image/svg+xml</dc:format>\n",
       "    <dc:creator>\n",
       "     <cc:Agent>\n",
       "      <dc:title>Matplotlib v3.3.3, https://matplotlib.org/</dc:title>\n",
       "     </cc:Agent>\n",
       "    </dc:creator>\n",
       "   </cc:Work>\n",
       "  </rdf:RDF>\n",
       " </metadata>\n",
       " <defs>\n",
       "  <style type=\"text/css\">*{stroke-linecap:butt;stroke-linejoin:round;}</style>\n",
       " </defs>\n",
       " <g id=\"figure_1\">\n",
       "  <g id=\"patch_1\">\n",
       "   <path d=\"M 0 302.4 \n",
       "L 302.4 302.4 \n",
       "L 302.4 0 \n",
       "L 0 0 \n",
       "z\n",
       "\" style=\"fill:#ffffff;\"/>\n",
       "  </g>\n",
       "  <g id=\"axes_1\">\n",
       "   <g id=\"patch_2\">\n",
       "    <path clip-path=\"url(#pc93ac8da51)\" d=\"M 176.651055 43.661099 \n",
       "Q 166.076222 71.860652 155.893958 99.013358 \n",
       "\" style=\"fill:none;stroke:#000000;stroke-linecap:round;\"/>\n",
       "    <path clip-path=\"url(#pc93ac8da51)\" d=\"M 161.137401 94.144446 \n",
       "L 155.893958 99.013358 \n",
       "L 155.144894 91.897256 \n",
       "L 161.137401 94.144446 \n",
       "z\n",
       "\" style=\"stroke:#000000;stroke-linecap:round;\"/>\n",
       "   </g>\n",
       "   <g id=\"patch_3\">\n",
       "    <path clip-path=\"url(#pc93ac8da51)\" d=\"M 185.253077 43.661099 \n",
       "Q 195.82791 71.860652 206.010174 99.013358 \n",
       "\" style=\"fill:none;stroke:#000000;stroke-linecap:round;\"/>\n",
       "    <path clip-path=\"url(#pc93ac8da51)\" d=\"M 206.759238 91.897256 \n",
       "L 206.010174 99.013358 \n",
       "L 200.766731 94.144446 \n",
       "L 206.759238 91.897256 \n",
       "z\n",
       "\" style=\"stroke:#000000;stroke-linecap:round;\"/>\n",
       "   </g>\n",
       "   <g id=\"patch_4\">\n",
       "    <path clip-path=\"url(#pc93ac8da51)\" d=\"M 143.850964 121.329294 \n",
       "Q 121.447733 151.200267 99.715323 180.176814 \n",
       "\" style=\"fill:none;stroke:#000000;stroke-linecap:round;\"/>\n",
       "    <path clip-path=\"url(#pc93ac8da51)\" d=\"M 106.115323 176.976814 \n",
       "L 99.715323 180.176814 \n",
       "L 100.995323 173.136814 \n",
       "L 106.115323 176.976814 \n",
       "z\n",
       "\" style=\"stroke:#000000;stroke-linecap:round;\"/>\n",
       "   </g>\n",
       "   <g id=\"patch_5\">\n",
       "    <path clip-path=\"url(#pc93ac8da51)\" d=\"M 151.2 123.777157 \n",
       "Q 151.2 151.199236 151.2 177.503282 \n",
       "\" style=\"fill:none;stroke:#000000;stroke-linecap:round;\"/>\n",
       "    <path clip-path=\"url(#pc93ac8da51)\" d=\"M 154.4 171.103282 \n",
       "L 151.2 177.503282 \n",
       "L 148 171.103282 \n",
       "L 154.4 171.103282 \n",
       "z\n",
       "\" style=\"stroke:#000000;stroke-linecap:round;\"/>\n",
       "   </g>\n",
       "   <g id=\"patch_6\">\n",
       "    <path clip-path=\"url(#pc93ac8da51)\" d=\"M 210.704132 123.777157 \n",
       "Q 210.704132 151.199236 210.704132 177.503282 \n",
       "\" style=\"fill:none;stroke:#000000;stroke-linecap:round;\"/>\n",
       "    <path clip-path=\"url(#pc93ac8da51)\" d=\"M 213.904132 171.103282 \n",
       "L 210.704132 177.503282 \n",
       "L 207.504132 171.103282 \n",
       "L 213.904132 171.103282 \n",
       "z\n",
       "\" style=\"stroke:#000000;stroke-linecap:round;\"/>\n",
       "   </g>\n",
       "   <g id=\"patch_7\">\n",
       "    <path clip-path=\"url(#pc93ac8da51)\" d=\"M 218.053169 121.329294 \n",
       "Q 240.456399 151.200267 262.188809 180.176814 \n",
       "\" style=\"fill:none;stroke:#000000;stroke-linecap:round;\"/>\n",
       "    <path clip-path=\"url(#pc93ac8da51)\" d=\"M 260.908809 173.136814 \n",
       "L 262.188809 180.176814 \n",
       "L 255.788809 176.976814 \n",
       "L 260.908809 173.136814 \n",
       "z\n",
       "\" style=\"stroke:#000000;stroke-linecap:round;\"/>\n",
       "   </g>\n",
       "   <g id=\"patch_8\">\n",
       "    <path clip-path=\"url(#pc93ac8da51)\" d=\"M 84.346831 200.668137 \n",
       "Q 61.943601 230.53911 40.211191 259.515657 \n",
       "\" style=\"fill:none;stroke:#000000;stroke-linecap:round;\"/>\n",
       "    <path clip-path=\"url(#pc93ac8da51)\" d=\"M 46.611191 256.315657 \n",
       "L 40.211191 259.515657 \n",
       "L 41.491191 252.475657 \n",
       "L 46.611191 256.315657 \n",
       "z\n",
       "\" style=\"stroke:#000000;stroke-linecap:round;\"/>\n",
       "   </g>\n",
       "   <g id=\"patch_9\">\n",
       "    <path clip-path=\"url(#pc93ac8da51)\" d=\"M 91.695868 203.115999 \n",
       "Q 91.695868 230.538079 91.695868 256.842125 \n",
       "\" style=\"fill:none;stroke:#000000;stroke-linecap:round;\"/>\n",
       "    <path clip-path=\"url(#pc93ac8da51)\" d=\"M 94.895868 250.442125 \n",
       "L 91.695868 256.842125 \n",
       "L 88.495868 250.442125 \n",
       "L 94.895868 250.442125 \n",
       "z\n",
       "\" style=\"stroke:#000000;stroke-linecap:round;\"/>\n",
       "   </g>\n",
       "   <g id=\"patch_10\">\n",
       "    <path clip-path=\"url(#pc93ac8da51)\" d=\"M 151.2 203.115999 \n",
       "Q 151.2 230.538079 151.2 256.842125 \n",
       "\" style=\"fill:none;stroke:#000000;stroke-linecap:round;\"/>\n",
       "    <path clip-path=\"url(#pc93ac8da51)\" d=\"M 154.4 250.442125 \n",
       "L 151.2 256.842125 \n",
       "L 148 250.442125 \n",
       "L 154.4 250.442125 \n",
       "z\n",
       "\" style=\"stroke:#000000;stroke-linecap:round;\"/>\n",
       "   </g>\n",
       "   <g id=\"PathCollection_1\">\n",
       "    <defs>\n",
       "     <path d=\"M 0 12.247449 \n",
       "C 3.248061 12.247449 6.363528 10.95698 8.660254 8.660254 \n",
       "C 10.95698 6.363528 12.247449 3.248061 12.247449 0 \n",
       "C 12.247449 -3.248061 10.95698 -6.363528 8.660254 -8.660254 \n",
       "C 6.363528 -10.95698 3.248061 -12.247449 0 -12.247449 \n",
       "C -3.248061 -12.247449 -6.363528 -10.95698 -8.660254 -8.660254 \n",
       "C -10.95698 -6.363528 -12.247449 -3.248061 -12.247449 0 \n",
       "C -12.247449 3.248061 -10.95698 6.363528 -8.660254 8.660254 \n",
       "C -6.363528 10.95698 -3.248061 12.247449 0 12.247449 \n",
       "z\n",
       "\" id=\"m3debd4884a\" style=\"stroke:#000000;\"/>\n",
       "    </defs>\n",
       "    <g clip-path=\"url(#pc93ac8da51)\">\n",
       "     <use style=\"fill:#d3d3d3;stroke:#000000;\" x=\"180.952066\" xlink:href=\"#m3debd4884a\" y=\"32.191736\"/>\n",
       "     <use style=\"fill:#d3d3d3;stroke:#000000;\" x=\"151.2\" xlink:href=\"#m3debd4884a\" y=\"111.530579\"/>\n",
       "     <use style=\"fill:#d3d3d3;stroke:#000000;\" x=\"210.704132\" xlink:href=\"#m3debd4884a\" y=\"111.530579\"/>\n",
       "     <use style=\"fill:#d3d3d3;stroke:#000000;\" x=\"91.695868\" xlink:href=\"#m3debd4884a\" y=\"190.869421\"/>\n",
       "     <use style=\"fill:#d3d3d3;stroke:#000000;\" x=\"151.2\" xlink:href=\"#m3debd4884a\" y=\"190.869421\"/>\n",
       "     <use style=\"fill:#d3d3d3;stroke:#000000;\" x=\"210.704132\" xlink:href=\"#m3debd4884a\" y=\"190.869421\"/>\n",
       "     <use style=\"fill:#d3d3d3;stroke:#000000;\" x=\"270.208264\" xlink:href=\"#m3debd4884a\" y=\"190.869421\"/>\n",
       "     <use style=\"fill:#d3d3d3;stroke:#000000;\" x=\"32.191736\" xlink:href=\"#m3debd4884a\" y=\"270.208264\"/>\n",
       "     <use style=\"fill:#d3d3d3;stroke:#000000;\" x=\"91.695868\" xlink:href=\"#m3debd4884a\" y=\"270.208264\"/>\n",
       "     <use style=\"fill:#d3d3d3;stroke:#000000;\" x=\"151.2\" xlink:href=\"#m3debd4884a\" y=\"270.208264\"/>\n",
       "    </g>\n",
       "   </g>\n",
       "   <g id=\"text_1\">\n",
       "    <g clip-path=\"url(#pc93ac8da51)\">\n",
       "     <!-- H -->\n",
       "     <g transform=\"translate(175.930816 35.502986)scale(0.12 -0.12)\">\n",
       "      <defs>\n",
       "       <path d=\"M 9.1875 72.90625 \n",
       "L 27.984375 72.90625 \n",
       "L 27.984375 45.125 \n",
       "L 55.71875 45.125 \n",
       "L 55.71875 72.90625 \n",
       "L 74.515625 72.90625 \n",
       "L 74.515625 0 \n",
       "L 55.71875 0 \n",
       "L 55.71875 30.90625 \n",
       "L 27.984375 30.90625 \n",
       "L 27.984375 0 \n",
       "L 9.1875 0 \n",
       "z\n",
       "\" id=\"DejaVuSans-Bold-72\"/>\n",
       "      </defs>\n",
       "      <use xlink:href=\"#DejaVuSans-Bold-72\"/>\n",
       "     </g>\n",
       "    </g>\n",
       "   </g>\n",
       "   <g id=\"text_2\">\n",
       "    <g clip-path=\"url(#pc93ac8da51)\">\n",
       "     <!-- D -->\n",
       "     <g transform=\"translate(146.219063 114.841829)scale(0.12 -0.12)\">\n",
       "      <defs>\n",
       "       <path d=\"M 27.984375 58.6875 \n",
       "L 27.984375 14.203125 \n",
       "L 34.71875 14.203125 \n",
       "Q 46.234375 14.203125 52.3125 19.921875 \n",
       "Q 58.40625 25.640625 58.40625 36.53125 \n",
       "Q 58.40625 47.359375 52.34375 53.015625 \n",
       "Q 46.296875 58.6875 34.71875 58.6875 \n",
       "z\n",
       "M 9.1875 72.90625 \n",
       "L 29 72.90625 \n",
       "Q 45.609375 72.90625 53.734375 70.53125 \n",
       "Q 61.859375 68.171875 67.671875 62.5 \n",
       "Q 72.796875 57.5625 75.28125 51.109375 \n",
       "Q 77.78125 44.671875 77.78125 36.53125 \n",
       "Q 77.78125 28.265625 75.28125 21.796875 \n",
       "Q 72.796875 15.328125 67.671875 10.40625 \n",
       "Q 61.8125 4.734375 53.609375 2.359375 \n",
       "Q 45.40625 0 29 0 \n",
       "L 9.1875 0 \n",
       "z\n",
       "\" id=\"DejaVuSans-Bold-68\"/>\n",
       "      </defs>\n",
       "      <use xlink:href=\"#DejaVuSans-Bold-68\"/>\n",
       "     </g>\n",
       "    </g>\n",
       "   </g>\n",
       "   <g id=\"text_3\">\n",
       "    <g clip-path=\"url(#pc93ac8da51)\">\n",
       "     <!-- C -->\n",
       "     <g transform=\"translate(206.300695 114.841829)scale(0.12 -0.12)\">\n",
       "      <defs>\n",
       "       <path d=\"M 67 4 \n",
       "Q 61.8125 1.3125 56.203125 -0.046875 \n",
       "Q 50.59375 -1.421875 44.484375 -1.421875 \n",
       "Q 26.265625 -1.421875 15.625 8.765625 \n",
       "Q 4.984375 18.953125 4.984375 36.375 \n",
       "Q 4.984375 53.859375 15.625 64.03125 \n",
       "Q 26.265625 74.21875 44.484375 74.21875 \n",
       "Q 50.59375 74.21875 56.203125 72.84375 \n",
       "Q 61.8125 71.484375 67 68.796875 \n",
       "L 67 53.71875 \n",
       "Q 61.765625 57.28125 56.6875 58.9375 \n",
       "Q 51.609375 60.59375 46 60.59375 \n",
       "Q 35.9375 60.59375 30.171875 54.140625 \n",
       "Q 24.421875 47.703125 24.421875 36.375 \n",
       "Q 24.421875 25.09375 30.171875 18.640625 \n",
       "Q 35.9375 12.203125 46 12.203125 \n",
       "Q 51.609375 12.203125 56.6875 13.859375 \n",
       "Q 61.765625 15.53125 67 19.09375 \n",
       "z\n",
       "\" id=\"DejaVuSans-Bold-67\"/>\n",
       "      </defs>\n",
       "      <use xlink:href=\"#DejaVuSans-Bold-67\"/>\n",
       "     </g>\n",
       "    </g>\n",
       "   </g>\n",
       "   <g id=\"text_4\">\n",
       "    <g clip-path=\"url(#pc93ac8da51)\">\n",
       "     <!-- I -->\n",
       "     <g transform=\"translate(89.46368 194.180671)scale(0.12 -0.12)\">\n",
       "      <defs>\n",
       "       <path d=\"M 9.1875 72.90625 \n",
       "L 27.984375 72.90625 \n",
       "L 27.984375 0 \n",
       "L 9.1875 0 \n",
       "z\n",
       "\" id=\"DejaVuSans-Bold-73\"/>\n",
       "      </defs>\n",
       "      <use xlink:href=\"#DejaVuSans-Bold-73\"/>\n",
       "     </g>\n",
       "    </g>\n",
       "   </g>\n",
       "   <g id=\"text_5\">\n",
       "    <g clip-path=\"url(#pc93ac8da51)\">\n",
       "     <!-- F -->\n",
       "     <g transform=\"translate(147.10125 194.180671)scale(0.12 -0.12)\">\n",
       "      <defs>\n",
       "       <path d=\"M 9.1875 72.90625 \n",
       "L 59.90625 72.90625 \n",
       "L 59.90625 58.6875 \n",
       "L 27.984375 58.6875 \n",
       "L 27.984375 45.125 \n",
       "L 58.015625 45.125 \n",
       "L 58.015625 30.90625 \n",
       "L 27.984375 30.90625 \n",
       "L 27.984375 0 \n",
       "L 9.1875 0 \n",
       "z\n",
       "\" id=\"DejaVuSans-Bold-70\"/>\n",
       "      </defs>\n",
       "      <use xlink:href=\"#DejaVuSans-Bold-70\"/>\n",
       "     </g>\n",
       "    </g>\n",
       "   </g>\n",
       "   <g id=\"text_6\">\n",
       "    <g clip-path=\"url(#pc93ac8da51)\">\n",
       "     <!-- G -->\n",
       "     <g transform=\"translate(205.779445 194.180671)scale(0.12 -0.12)\">\n",
       "      <defs>\n",
       "       <path d=\"M 74.703125 5.421875 \n",
       "Q 67.671875 2 60.109375 0.28125 \n",
       "Q 52.546875 -1.421875 44.484375 -1.421875 \n",
       "Q 26.265625 -1.421875 15.625 8.765625 \n",
       "Q 4.984375 18.953125 4.984375 36.375 \n",
       "Q 4.984375 54 15.8125 64.109375 \n",
       "Q 26.65625 74.21875 45.515625 74.21875 \n",
       "Q 52.78125 74.21875 59.4375 72.84375 \n",
       "Q 66.109375 71.484375 72.015625 68.796875 \n",
       "L 72.015625 53.71875 \n",
       "Q 65.921875 57.171875 59.890625 58.875 \n",
       "Q 53.859375 60.59375 47.796875 60.59375 \n",
       "Q 36.578125 60.59375 30.5 54.3125 \n",
       "Q 24.421875 48.046875 24.421875 36.375 \n",
       "Q 24.421875 24.8125 30.28125 18.5 \n",
       "Q 36.140625 12.203125 46.921875 12.203125 \n",
       "Q 49.859375 12.203125 52.375 12.5625 \n",
       "Q 54.890625 12.9375 56.890625 13.71875 \n",
       "L 56.890625 27.875 \n",
       "L 45.40625 27.875 \n",
       "L 45.40625 40.484375 \n",
       "L 74.703125 40.484375 \n",
       "z\n",
       "\" id=\"DejaVuSans-Bold-71\"/>\n",
       "      </defs>\n",
       "      <use xlink:href=\"#DejaVuSans-Bold-71\"/>\n",
       "     </g>\n",
       "    </g>\n",
       "   </g>\n",
       "   <g id=\"text_7\">\n",
       "    <g clip-path=\"url(#pc93ac8da51)\">\n",
       "     <!-- J -->\n",
       "     <g transform=\"translate(267.976077 194.180671)scale(0.12 -0.12)\">\n",
       "      <defs>\n",
       "       <path d=\"M 9.1875 72.90625 \n",
       "L 27.984375 72.90625 \n",
       "L 27.984375 7.078125 \n",
       "Q 27.984375 -6.546875 20.578125 -13.28125 \n",
       "Q 13.1875 -20.015625 -1.8125 -20.015625 \n",
       "L -5.609375 -20.015625 \n",
       "L -5.609375 -5.8125 \n",
       "L -2.6875 -5.8125 \n",
       "Q 3.171875 -5.8125 6.171875 -2.53125 \n",
       "Q 9.1875 0.734375 9.1875 7.078125 \n",
       "z\n",
       "\" id=\"DejaVuSans-Bold-74\"/>\n",
       "      </defs>\n",
       "      <use xlink:href=\"#DejaVuSans-Bold-74\"/>\n",
       "     </g>\n",
       "    </g>\n",
       "   </g>\n",
       "   <g id=\"text_8\">\n",
       "    <g clip-path=\"url(#pc93ac8da51)\">\n",
       "     <!-- E -->\n",
       "     <g transform=\"translate(28.092986 273.519514)scale(0.12 -0.12)\">\n",
       "      <defs>\n",
       "       <path d=\"M 9.1875 72.90625 \n",
       "L 59.90625 72.90625 \n",
       "L 59.90625 58.6875 \n",
       "L 27.984375 58.6875 \n",
       "L 27.984375 45.125 \n",
       "L 58.015625 45.125 \n",
       "L 58.015625 30.90625 \n",
       "L 27.984375 30.90625 \n",
       "L 27.984375 14.203125 \n",
       "L 60.984375 14.203125 \n",
       "L 60.984375 0 \n",
       "L 9.1875 0 \n",
       "z\n",
       "\" id=\"DejaVuSans-Bold-69\"/>\n",
       "      </defs>\n",
       "      <use xlink:href=\"#DejaVuSans-Bold-69\"/>\n",
       "     </g>\n",
       "    </g>\n",
       "   </g>\n",
       "   <g id=\"text_9\">\n",
       "    <g clip-path=\"url(#pc93ac8da51)\">\n",
       "     <!-- A -->\n",
       "     <g transform=\"translate(87.05243 273.519514)scale(0.12 -0.12)\">\n",
       "      <defs>\n",
       "       <path d=\"M 53.421875 13.28125 \n",
       "L 24.03125 13.28125 \n",
       "L 19.390625 0 \n",
       "L 0.484375 0 \n",
       "L 27.484375 72.90625 \n",
       "L 49.90625 72.90625 \n",
       "L 76.90625 0 \n",
       "L 58.015625 0 \n",
       "z\n",
       "M 28.71875 26.8125 \n",
       "L 48.6875 26.8125 \n",
       "L 38.71875 55.8125 \n",
       "z\n",
       "\" id=\"DejaVuSans-Bold-65\"/>\n",
       "      </defs>\n",
       "      <use xlink:href=\"#DejaVuSans-Bold-65\"/>\n",
       "     </g>\n",
       "    </g>\n",
       "   </g>\n",
       "   <g id=\"text_10\">\n",
       "    <g clip-path=\"url(#pc93ac8da51)\">\n",
       "     <!-- B -->\n",
       "     <g transform=\"translate(146.626875 273.519514)scale(0.12 -0.12)\">\n",
       "      <defs>\n",
       "       <path d=\"M 38.375 44.671875 \n",
       "Q 42.828125 44.671875 45.109375 46.625 \n",
       "Q 47.40625 48.578125 47.40625 52.390625 \n",
       "Q 47.40625 56.15625 45.109375 58.125 \n",
       "Q 42.828125 60.109375 38.375 60.109375 \n",
       "L 27.984375 60.109375 \n",
       "L 27.984375 44.671875 \n",
       "z\n",
       "M 39.015625 12.796875 \n",
       "Q 44.671875 12.796875 47.53125 15.1875 \n",
       "Q 50.390625 17.578125 50.390625 22.40625 \n",
       "Q 50.390625 27.15625 47.5625 29.515625 \n",
       "Q 44.734375 31.890625 39.015625 31.890625 \n",
       "L 27.984375 31.890625 \n",
       "L 27.984375 12.796875 \n",
       "z\n",
       "M 56.5 39.015625 \n",
       "Q 62.546875 37.25 65.859375 32.515625 \n",
       "Q 69.1875 27.78125 69.1875 20.90625 \n",
       "Q 69.1875 10.359375 62.0625 5.171875 \n",
       "Q 54.9375 0 40.375 0 \n",
       "L 9.1875 0 \n",
       "L 9.1875 72.90625 \n",
       "L 37.40625 72.90625 \n",
       "Q 52.59375 72.90625 59.40625 68.3125 \n",
       "Q 66.21875 63.71875 66.21875 53.609375 \n",
       "Q 66.21875 48.296875 63.71875 44.5625 \n",
       "Q 61.234375 40.828125 56.5 39.015625 \n",
       "z\n",
       "\" id=\"DejaVuSans-Bold-66\"/>\n",
       "      </defs>\n",
       "      <use xlink:href=\"#DejaVuSans-Bold-66\"/>\n",
       "     </g>\n",
       "    </g>\n",
       "   </g>\n",
       "  </g>\n",
       " </g>\n",
       " <defs>\n",
       "  <clipPath id=\"pc93ac8da51\">\n",
       "   <rect height=\"288\" width=\"288\" x=\"7.2\" y=\"7.2\"/>\n",
       "  </clipPath>\n",
       " </defs>\n",
       "</svg>\n"
      ],
      "text/plain": [
       "<Figure size 288x288 with 1 Axes>"
      ]
     },
     "metadata": {},
     "output_type": "display_data"
    },
    {
     "name": "stdout",
     "output_type": "stream",
     "text": [
      "CausalDAG with 10 variables [H,D,C,I,F,G,J,E,A,B] and 9 edges:\n",
      "H => D,C\n",
      "D => I,F\n",
      "C => G,J\n",
      "I => E,A\n",
      "F => B\n",
      "\n"
     ]
    }
   ],
   "source": [
    "NUM_VARS = 10\n",
    "NUM_CATEGS = 10\n",
    "\n",
    "graph = generate_categorical_graph(num_vars=NUM_VARS,\n",
    "                                   min_categs=NUM_CATEGS,\n",
    "                                   max_categs=NUM_CATEGS,\n",
    "                                   graph_func=lambda *args, **kwargs: generate_jungle(*args, **kwargs, num_levels=1),\n",
    "                                   use_nn=True,\n",
    "                                   seed=42)\n",
    "visualize_graph(graph, show_plot=True, figsize=(4, 4), layout=\"graphviz\")\n",
    "print(graph)"
   ]
  },
  {
   "cell_type": "code",
   "execution_count": 9,
   "metadata": {},
   "outputs": [
    {
     "name": "stdout",
     "output_type": "stream",
     "text": [
      "Parameter containing:\n",
      "tensor([[-9.0000e+15,  0.0000e+00,  0.0000e+00,  0.0000e+00,  0.0000e+00,\n",
      "          0.0000e+00,  0.0000e+00,  0.0000e+00,  0.0000e+00,  0.0000e+00],\n",
      "        [ 0.0000e+00, -9.0000e+15,  0.0000e+00,  0.0000e+00,  0.0000e+00,\n",
      "          0.0000e+00,  0.0000e+00,  0.0000e+00,  0.0000e+00,  0.0000e+00],\n",
      "        [ 0.0000e+00,  0.0000e+00, -9.0000e+15,  0.0000e+00,  0.0000e+00,\n",
      "          0.0000e+00,  0.0000e+00,  0.0000e+00,  0.0000e+00,  0.0000e+00],\n",
      "        [ 0.0000e+00,  0.0000e+00,  0.0000e+00, -9.0000e+15,  0.0000e+00,\n",
      "          0.0000e+00,  0.0000e+00,  0.0000e+00,  0.0000e+00,  0.0000e+00],\n",
      "        [ 0.0000e+00,  0.0000e+00,  0.0000e+00,  0.0000e+00, -9.0000e+15,\n",
      "          0.0000e+00,  0.0000e+00,  0.0000e+00,  0.0000e+00,  0.0000e+00],\n",
      "        [ 0.0000e+00,  0.0000e+00,  0.0000e+00,  0.0000e+00,  0.0000e+00,\n",
      "         -9.0000e+15,  0.0000e+00,  0.0000e+00,  0.0000e+00,  0.0000e+00],\n",
      "        [ 0.0000e+00,  0.0000e+00,  0.0000e+00,  0.0000e+00,  0.0000e+00,\n",
      "          0.0000e+00, -9.0000e+15,  0.0000e+00,  0.0000e+00,  0.0000e+00],\n",
      "        [ 0.0000e+00,  0.0000e+00,  0.0000e+00,  0.0000e+00,  0.0000e+00,\n",
      "          0.0000e+00,  0.0000e+00, -9.0000e+15,  0.0000e+00,  0.0000e+00],\n",
      "        [ 0.0000e+00,  0.0000e+00,  0.0000e+00,  0.0000e+00,  0.0000e+00,\n",
      "          0.0000e+00,  0.0000e+00,  0.0000e+00, -9.0000e+15,  0.0000e+00],\n",
      "        [ 0.0000e+00,  0.0000e+00,  0.0000e+00,  0.0000e+00,  0.0000e+00,\n",
      "          0.0000e+00,  0.0000e+00,  0.0000e+00,  0.0000e+00, -9.0000e+15]],\n",
      "       requires_grad=True)\n"
     ]
    }
   ],
   "source": [
    "discovery_module = GraphDiscoveryMatrix(graph=graph, model_iters=1000, lambda_sparse=0.001, batch_size=128, lr_permut=5e-3, lr_gamma=5e-3,\n",
    "                                        N_s=1, C_s=200,\n",
    "                                        order_grads_opt='weight_expect_no_denom_weight_intervention', edge_grads_opt='weight_expect')\n",
    "discovery_module.to(torch.device(\"cuda:0\"))\n",
    "print(discovery_module.gamma)"
   ]
  },
  {
   "cell_type": "code",
   "execution_count": 10,
   "metadata": {},
   "outputs": [
    {
     "name": "stdout",
     "output_type": "stream",
     "text": [
      "Parameter containing:\n",
      "tensor([[-9.0000e+15, -9.0000e+15, -9.0000e+15, -9.0000e+15, -9.0000e+15,\n",
      "         -9.0000e+15, -9.0000e+15, -9.0000e+15, -9.0000e+15, -9.0000e+15],\n",
      "        [-9.0000e+15, -9.0000e+15,  0.0000e+00,  0.0000e+00,  0.0000e+00,\n",
      "          0.0000e+00,  0.0000e+00,  0.0000e+00,  0.0000e+00,  0.0000e+00],\n",
      "        [-9.0000e+15,  0.0000e+00, -9.0000e+15,  0.0000e+00,  0.0000e+00,\n",
      "          0.0000e+00,  0.0000e+00,  0.0000e+00,  0.0000e+00,  0.0000e+00],\n",
      "        [-9.0000e+15,  0.0000e+00,  0.0000e+00, -9.0000e+15,  0.0000e+00,\n",
      "          0.0000e+00,  0.0000e+00,  0.0000e+00,  0.0000e+00,  0.0000e+00],\n",
      "        [-9.0000e+15,  0.0000e+00,  0.0000e+00,  0.0000e+00, -9.0000e+15,\n",
      "          0.0000e+00,  0.0000e+00,  0.0000e+00,  0.0000e+00,  0.0000e+00],\n",
      "        [-9.0000e+15,  0.0000e+00,  0.0000e+00,  0.0000e+00,  0.0000e+00,\n",
      "         -9.0000e+15,  0.0000e+00,  0.0000e+00,  0.0000e+00,  0.0000e+00],\n",
      "        [-9.0000e+15,  0.0000e+00,  0.0000e+00,  0.0000e+00,  0.0000e+00,\n",
      "          0.0000e+00, -9.0000e+15,  0.0000e+00,  0.0000e+00,  0.0000e+00],\n",
      "        [-9.0000e+15,  0.0000e+00,  0.0000e+00,  0.0000e+00,  0.0000e+00,\n",
      "          0.0000e+00,  0.0000e+00, -9.0000e+15,  0.0000e+00,  0.0000e+00],\n",
      "        [-9.0000e+15,  0.0000e+00,  0.0000e+00,  0.0000e+00,  0.0000e+00,\n",
      "          0.0000e+00,  0.0000e+00,  0.0000e+00, -9.0000e+15,  0.0000e+00],\n",
      "        [-9.0000e+15,  0.0000e+00,  0.0000e+00,  0.0000e+00,  0.0000e+00,\n",
      "          0.0000e+00,  0.0000e+00,  0.0000e+00,  0.0000e+00, -9.0000e+15]],\n",
      "       requires_grad=True)\n"
     ]
    }
   ],
   "source": [
    "discovery_module.gamma.data[0,1:] = -9e15\n",
    "discovery_module.gamma.data[1:,0] = -9e15\n",
    "print(discovery_module.gamma)"
   ]
  },
  {
   "cell_type": "code",
   "execution_count": 11,
   "metadata": {},
   "outputs": [
    {
     "data": {
      "application/vnd.jupyter.widget-view+json": {
       "model_id": "",
       "version_major": 2,
       "version_minor": 0
      },
      "text/plain": [
       "HBox(children=(FloatProgress(value=0.0, description='Epoch loop', max=20.0, style=ProgressStyle(description_wi…"
      ]
     },
     "metadata": {},
     "output_type": "display_data"
    },
    {
     "data": {
      "application/vnd.jupyter.widget-view+json": {
       "model_id": "",
       "version_major": 2,
       "version_minor": 0
      },
      "text/plain": [
       "HBox(children=(FloatProgress(value=0.0, description='Model update loop', max=1000.0, style=ProgressStyle(descr…"
      ]
     },
     "metadata": {},
     "output_type": "display_data"
    },
    {
     "data": {
      "application/vnd.jupyter.widget-view+json": {
       "model_id": "",
       "version_major": 2,
       "version_minor": 0
      },
      "text/plain": [
       "HBox(children=(FloatProgress(value=0.0, description='Gamma update loop', style=ProgressStyle(description_width…"
      ]
     },
     "metadata": {},
     "output_type": "display_data"
    },
    {
     "name": "stdout",
     "output_type": "stream",
     "text": [
      "Gamma - Recall: 77.78%, Precision: 46.67% (TP=7,FP=8,FN=2,TN=73)\n",
      "Theta - Direction accuracy: 88.89% (TP=8,FN=1) / Soft accuracy: 88.89% (TP=8,FN=1)\n"
     ]
    },
    {
     "data": {
      "application/vnd.jupyter.widget-view+json": {
       "model_id": "",
       "version_major": 2,
       "version_minor": 0
      },
      "text/plain": [
       "HBox(children=(FloatProgress(value=0.0, description='Model update loop', max=1000.0, style=ProgressStyle(descr…"
      ]
     },
     "metadata": {},
     "output_type": "display_data"
    },
    {
     "data": {
      "application/vnd.jupyter.widget-view+json": {
       "model_id": "",
       "version_major": 2,
       "version_minor": 0
      },
      "text/plain": [
       "HBox(children=(FloatProgress(value=0.0, description='Gamma update loop', style=ProgressStyle(description_width…"
      ]
     },
     "metadata": {},
     "output_type": "display_data"
    },
    {
     "name": "stdout",
     "output_type": "stream",
     "text": [
      "Gamma - Recall: 77.78%, Precision: 50.00% (TP=7,FP=7,FN=2,TN=74)\n",
      "Theta - Direction accuracy: 77.78% (TP=7,FN=2) / Soft accuracy: 88.89% (TP=8,FN=1)\n"
     ]
    },
    {
     "data": {
      "application/vnd.jupyter.widget-view+json": {
       "model_id": "",
       "version_major": 2,
       "version_minor": 0
      },
      "text/plain": [
       "HBox(children=(FloatProgress(value=0.0, description='Model update loop', max=1000.0, style=ProgressStyle(descr…"
      ]
     },
     "metadata": {},
     "output_type": "display_data"
    },
    {
     "data": {
      "application/vnd.jupyter.widget-view+json": {
       "model_id": "",
       "version_major": 2,
       "version_minor": 0
      },
      "text/plain": [
       "HBox(children=(FloatProgress(value=0.0, description='Gamma update loop', style=ProgressStyle(description_width…"
      ]
     },
     "metadata": {},
     "output_type": "display_data"
    },
    {
     "name": "stdout",
     "output_type": "stream",
     "text": [
      "Gamma - Recall: 77.78%, Precision: 53.85% (TP=7,FP=6,FN=2,TN=75)\n",
      "Theta - Direction accuracy: 88.89% (TP=8,FN=1) / Soft accuracy: 88.89% (TP=8,FN=1)\n"
     ]
    },
    {
     "data": {
      "application/vnd.jupyter.widget-view+json": {
       "model_id": "",
       "version_major": 2,
       "version_minor": 0
      },
      "text/plain": [
       "HBox(children=(FloatProgress(value=0.0, description='Model update loop', max=1000.0, style=ProgressStyle(descr…"
      ]
     },
     "metadata": {},
     "output_type": "display_data"
    },
    {
     "data": {
      "application/vnd.jupyter.widget-view+json": {
       "model_id": "",
       "version_major": 2,
       "version_minor": 0
      },
      "text/plain": [
       "HBox(children=(FloatProgress(value=0.0, description='Gamma update loop', style=ProgressStyle(description_width…"
      ]
     },
     "metadata": {},
     "output_type": "display_data"
    },
    {
     "name": "stdout",
     "output_type": "stream",
     "text": [
      "Gamma - Recall: 77.78%, Precision: 53.85% (TP=7,FP=6,FN=2,TN=75)\n",
      "Theta - Direction accuracy: 88.89% (TP=8,FN=1) / Soft accuracy: 100.00% (TP=9,FN=0)\n"
     ]
    },
    {
     "data": {
      "application/vnd.jupyter.widget-view+json": {
       "model_id": "",
       "version_major": 2,
       "version_minor": 0
      },
      "text/plain": [
       "HBox(children=(FloatProgress(value=0.0, description='Model update loop', max=1000.0, style=ProgressStyle(descr…"
      ]
     },
     "metadata": {},
     "output_type": "display_data"
    },
    {
     "data": {
      "application/vnd.jupyter.widget-view+json": {
       "model_id": "",
       "version_major": 2,
       "version_minor": 0
      },
      "text/plain": [
       "HBox(children=(FloatProgress(value=0.0, description='Gamma update loop', style=ProgressStyle(description_width…"
      ]
     },
     "metadata": {},
     "output_type": "display_data"
    },
    {
     "name": "stdout",
     "output_type": "stream",
     "text": [
      "Gamma - Recall: 77.78%, Precision: 53.85% (TP=7,FP=6,FN=2,TN=75)\n",
      "Theta - Direction accuracy: 77.78% (TP=7,FN=2) / Soft accuracy: 100.00% (TP=9,FN=0)\n"
     ]
    },
    {
     "data": {
      "application/vnd.jupyter.widget-view+json": {
       "model_id": "",
       "version_major": 2,
       "version_minor": 0
      },
      "text/plain": [
       "HBox(children=(FloatProgress(value=0.0, description='Model update loop', max=1000.0, style=ProgressStyle(descr…"
      ]
     },
     "metadata": {},
     "output_type": "display_data"
    },
    {
     "data": {
      "application/vnd.jupyter.widget-view+json": {
       "model_id": "",
       "version_major": 2,
       "version_minor": 0
      },
      "text/plain": [
       "HBox(children=(FloatProgress(value=0.0, description='Gamma update loop', style=ProgressStyle(description_width…"
      ]
     },
     "metadata": {},
     "output_type": "display_data"
    },
    {
     "name": "stdout",
     "output_type": "stream",
     "text": [
      "Gamma - Recall: 77.78%, Precision: 53.85% (TP=7,FP=6,FN=2,TN=75)\n",
      "Theta - Direction accuracy: 77.78% (TP=7,FN=2) / Soft accuracy: 88.89% (TP=8,FN=1)\n"
     ]
    },
    {
     "data": {
      "application/vnd.jupyter.widget-view+json": {
       "model_id": "",
       "version_major": 2,
       "version_minor": 0
      },
      "text/plain": [
       "HBox(children=(FloatProgress(value=0.0, description='Model update loop', max=1000.0, style=ProgressStyle(descr…"
      ]
     },
     "metadata": {},
     "output_type": "display_data"
    },
    {
     "data": {
      "application/vnd.jupyter.widget-view+json": {
       "model_id": "",
       "version_major": 2,
       "version_minor": 0
      },
      "text/plain": [
       "HBox(children=(FloatProgress(value=0.0, description='Gamma update loop', style=ProgressStyle(description_width…"
      ]
     },
     "metadata": {},
     "output_type": "display_data"
    },
    {
     "name": "stdout",
     "output_type": "stream",
     "text": [
      "Gamma - Recall: 77.78%, Precision: 50.00% (TP=7,FP=7,FN=2,TN=74)\n",
      "Theta - Direction accuracy: 77.78% (TP=7,FN=2) / Soft accuracy: 88.89% (TP=8,FN=1)\n"
     ]
    },
    {
     "data": {
      "application/vnd.jupyter.widget-view+json": {
       "model_id": "",
       "version_major": 2,
       "version_minor": 0
      },
      "text/plain": [
       "HBox(children=(FloatProgress(value=0.0, description='Model update loop', max=1000.0, style=ProgressStyle(descr…"
      ]
     },
     "metadata": {},
     "output_type": "display_data"
    },
    {
     "data": {
      "application/vnd.jupyter.widget-view+json": {
       "model_id": "",
       "version_major": 2,
       "version_minor": 0
      },
      "text/plain": [
       "HBox(children=(FloatProgress(value=0.0, description='Gamma update loop', style=ProgressStyle(description_width…"
      ]
     },
     "metadata": {},
     "output_type": "display_data"
    },
    {
     "name": "stdout",
     "output_type": "stream",
     "text": [
      "Gamma - Recall: 77.78%, Precision: 53.85% (TP=7,FP=6,FN=2,TN=75)\n",
      "Theta - Direction accuracy: 88.89% (TP=8,FN=1) / Soft accuracy: 88.89% (TP=8,FN=1)\n"
     ]
    },
    {
     "data": {
      "application/vnd.jupyter.widget-view+json": {
       "model_id": "",
       "version_major": 2,
       "version_minor": 0
      },
      "text/plain": [
       "HBox(children=(FloatProgress(value=0.0, description='Model update loop', max=1000.0, style=ProgressStyle(descr…"
      ]
     },
     "metadata": {},
     "output_type": "display_data"
    },
    {
     "data": {
      "application/vnd.jupyter.widget-view+json": {
       "model_id": "",
       "version_major": 2,
       "version_minor": 0
      },
      "text/plain": [
       "HBox(children=(FloatProgress(value=0.0, description='Gamma update loop', style=ProgressStyle(description_width…"
      ]
     },
     "metadata": {},
     "output_type": "display_data"
    },
    {
     "name": "stdout",
     "output_type": "stream",
     "text": [
      "Gamma - Recall: 77.78%, Precision: 53.85% (TP=7,FP=6,FN=2,TN=75)\n",
      "Theta - Direction accuracy: 100.00% (TP=9,FN=0) / Soft accuracy: 88.89% (TP=8,FN=1)\n"
     ]
    },
    {
     "data": {
      "application/vnd.jupyter.widget-view+json": {
       "model_id": "",
       "version_major": 2,
       "version_minor": 0
      },
      "text/plain": [
       "HBox(children=(FloatProgress(value=0.0, description='Model update loop', max=1000.0, style=ProgressStyle(descr…"
      ]
     },
     "metadata": {},
     "output_type": "display_data"
    },
    {
     "data": {
      "application/vnd.jupyter.widget-view+json": {
       "model_id": "",
       "version_major": 2,
       "version_minor": 0
      },
      "text/plain": [
       "HBox(children=(FloatProgress(value=0.0, description='Gamma update loop', style=ProgressStyle(description_width…"
      ]
     },
     "metadata": {},
     "output_type": "display_data"
    },
    {
     "name": "stdout",
     "output_type": "stream",
     "text": [
      "Gamma - Recall: 77.78%, Precision: 53.85% (TP=7,FP=6,FN=2,TN=75)\n",
      "Theta - Direction accuracy: 100.00% (TP=9,FN=0) / Soft accuracy: 88.89% (TP=8,FN=1)\n"
     ]
    },
    {
     "data": {
      "application/vnd.jupyter.widget-view+json": {
       "model_id": "",
       "version_major": 2,
       "version_minor": 0
      },
      "text/plain": [
       "HBox(children=(FloatProgress(value=0.0, description='Model update loop', max=1000.0, style=ProgressStyle(descr…"
      ]
     },
     "metadata": {},
     "output_type": "display_data"
    },
    {
     "data": {
      "application/vnd.jupyter.widget-view+json": {
       "model_id": "",
       "version_major": 2,
       "version_minor": 0
      },
      "text/plain": [
       "HBox(children=(FloatProgress(value=0.0, description='Gamma update loop', style=ProgressStyle(description_width…"
      ]
     },
     "metadata": {},
     "output_type": "display_data"
    },
    {
     "name": "stdout",
     "output_type": "stream",
     "text": [
      "Gamma - Recall: 77.78%, Precision: 53.85% (TP=7,FP=6,FN=2,TN=75)\n",
      "Theta - Direction accuracy: 100.00% (TP=9,FN=0) / Soft accuracy: 88.89% (TP=8,FN=1)\n"
     ]
    },
    {
     "data": {
      "application/vnd.jupyter.widget-view+json": {
       "model_id": "",
       "version_major": 2,
       "version_minor": 0
      },
      "text/plain": [
       "HBox(children=(FloatProgress(value=0.0, description='Model update loop', max=1000.0, style=ProgressStyle(descr…"
      ]
     },
     "metadata": {},
     "output_type": "display_data"
    },
    {
     "data": {
      "application/vnd.jupyter.widget-view+json": {
       "model_id": "",
       "version_major": 2,
       "version_minor": 0
      },
      "text/plain": [
       "HBox(children=(FloatProgress(value=0.0, description='Gamma update loop', style=ProgressStyle(description_width…"
      ]
     },
     "metadata": {},
     "output_type": "display_data"
    },
    {
     "name": "stdout",
     "output_type": "stream",
     "text": [
      "Gamma - Recall: 77.78%, Precision: 58.33% (TP=7,FP=5,FN=2,TN=76)\n",
      "Theta - Direction accuracy: 77.78% (TP=7,FN=2) / Soft accuracy: 88.89% (TP=8,FN=1)\n"
     ]
    },
    {
     "data": {
      "application/vnd.jupyter.widget-view+json": {
       "model_id": "",
       "version_major": 2,
       "version_minor": 0
      },
      "text/plain": [
       "HBox(children=(FloatProgress(value=0.0, description='Model update loop', max=1000.0, style=ProgressStyle(descr…"
      ]
     },
     "metadata": {},
     "output_type": "display_data"
    },
    {
     "data": {
      "application/vnd.jupyter.widget-view+json": {
       "model_id": "",
       "version_major": 2,
       "version_minor": 0
      },
      "text/plain": [
       "HBox(children=(FloatProgress(value=0.0, description='Gamma update loop', style=ProgressStyle(description_width…"
      ]
     },
     "metadata": {},
     "output_type": "display_data"
    },
    {
     "name": "stdout",
     "output_type": "stream",
     "text": [
      "Gamma - Recall: 77.78%, Precision: 58.33% (TP=7,FP=5,FN=2,TN=76)\n",
      "Theta - Direction accuracy: 100.00% (TP=9,FN=0) / Soft accuracy: 88.89% (TP=8,FN=1)\n"
     ]
    },
    {
     "data": {
      "application/vnd.jupyter.widget-view+json": {
       "model_id": "",
       "version_major": 2,
       "version_minor": 0
      },
      "text/plain": [
       "HBox(children=(FloatProgress(value=0.0, description='Model update loop', max=1000.0, style=ProgressStyle(descr…"
      ]
     },
     "metadata": {},
     "output_type": "display_data"
    },
    {
     "data": {
      "application/vnd.jupyter.widget-view+json": {
       "model_id": "",
       "version_major": 2,
       "version_minor": 0
      },
      "text/plain": [
       "HBox(children=(FloatProgress(value=0.0, description='Gamma update loop', style=ProgressStyle(description_width…"
      ]
     },
     "metadata": {},
     "output_type": "display_data"
    },
    {
     "name": "stdout",
     "output_type": "stream",
     "text": [
      "Gamma - Recall: 77.78%, Precision: 63.64% (TP=7,FP=4,FN=2,TN=77)\n",
      "Theta - Direction accuracy: 77.78% (TP=7,FN=2) / Soft accuracy: 88.89% (TP=8,FN=1)\n"
     ]
    },
    {
     "data": {
      "application/vnd.jupyter.widget-view+json": {
       "model_id": "",
       "version_major": 2,
       "version_minor": 0
      },
      "text/plain": [
       "HBox(children=(FloatProgress(value=0.0, description='Model update loop', max=1000.0, style=ProgressStyle(descr…"
      ]
     },
     "metadata": {},
     "output_type": "display_data"
    },
    {
     "data": {
      "application/vnd.jupyter.widget-view+json": {
       "model_id": "",
       "version_major": 2,
       "version_minor": 0
      },
      "text/plain": [
       "HBox(children=(FloatProgress(value=0.0, description='Gamma update loop', style=ProgressStyle(description_width…"
      ]
     },
     "metadata": {},
     "output_type": "display_data"
    },
    {
     "name": "stdout",
     "output_type": "stream",
     "text": [
      "Gamma - Recall: 77.78%, Precision: 63.64% (TP=7,FP=4,FN=2,TN=77)\n",
      "Theta - Direction accuracy: 77.78% (TP=7,FN=2) / Soft accuracy: 88.89% (TP=8,FN=1)\n"
     ]
    },
    {
     "data": {
      "application/vnd.jupyter.widget-view+json": {
       "model_id": "",
       "version_major": 2,
       "version_minor": 0
      },
      "text/plain": [
       "HBox(children=(FloatProgress(value=0.0, description='Model update loop', max=1000.0, style=ProgressStyle(descr…"
      ]
     },
     "metadata": {},
     "output_type": "display_data"
    },
    {
     "data": {
      "application/vnd.jupyter.widget-view+json": {
       "model_id": "",
       "version_major": 2,
       "version_minor": 0
      },
      "text/plain": [
       "HBox(children=(FloatProgress(value=0.0, description='Gamma update loop', style=ProgressStyle(description_width…"
      ]
     },
     "metadata": {},
     "output_type": "display_data"
    },
    {
     "name": "stdout",
     "output_type": "stream",
     "text": [
      "Gamma - Recall: 77.78%, Precision: 63.64% (TP=7,FP=4,FN=2,TN=77)\n",
      "Theta - Direction accuracy: 100.00% (TP=9,FN=0) / Soft accuracy: 100.00% (TP=9,FN=0)\n"
     ]
    },
    {
     "data": {
      "application/vnd.jupyter.widget-view+json": {
       "model_id": "",
       "version_major": 2,
       "version_minor": 0
      },
      "text/plain": [
       "HBox(children=(FloatProgress(value=0.0, description='Model update loop', max=1000.0, style=ProgressStyle(descr…"
      ]
     },
     "metadata": {},
     "output_type": "display_data"
    },
    {
     "data": {
      "application/vnd.jupyter.widget-view+json": {
       "model_id": "",
       "version_major": 2,
       "version_minor": 0
      },
      "text/plain": [
       "HBox(children=(FloatProgress(value=0.0, description='Gamma update loop', style=ProgressStyle(description_width…"
      ]
     },
     "metadata": {},
     "output_type": "display_data"
    },
    {
     "name": "stdout",
     "output_type": "stream",
     "text": [
      "Gamma - Recall: 77.78%, Precision: 70.00% (TP=7,FP=3,FN=2,TN=78)\n",
      "Theta - Direction accuracy: 100.00% (TP=9,FN=0) / Soft accuracy: 88.89% (TP=8,FN=1)\n"
     ]
    },
    {
     "data": {
      "application/vnd.jupyter.widget-view+json": {
       "model_id": "",
       "version_major": 2,
       "version_minor": 0
      },
      "text/plain": [
       "HBox(children=(FloatProgress(value=0.0, description='Model update loop', max=1000.0, style=ProgressStyle(descr…"
      ]
     },
     "metadata": {},
     "output_type": "display_data"
    },
    {
     "data": {
      "application/vnd.jupyter.widget-view+json": {
       "model_id": "",
       "version_major": 2,
       "version_minor": 0
      },
      "text/plain": [
       "HBox(children=(FloatProgress(value=0.0, description='Gamma update loop', style=ProgressStyle(description_width…"
      ]
     },
     "metadata": {},
     "output_type": "display_data"
    },
    {
     "name": "stdout",
     "output_type": "stream",
     "text": [
      "Gamma - Recall: 77.78%, Precision: 70.00% (TP=7,FP=3,FN=2,TN=78)\n",
      "Theta - Direction accuracy: 100.00% (TP=9,FN=0) / Soft accuracy: 88.89% (TP=8,FN=1)\n"
     ]
    },
    {
     "data": {
      "application/vnd.jupyter.widget-view+json": {
       "model_id": "",
       "version_major": 2,
       "version_minor": 0
      },
      "text/plain": [
       "HBox(children=(FloatProgress(value=0.0, description='Model update loop', max=1000.0, style=ProgressStyle(descr…"
      ]
     },
     "metadata": {},
     "output_type": "display_data"
    },
    {
     "data": {
      "application/vnd.jupyter.widget-view+json": {
       "model_id": "",
       "version_major": 2,
       "version_minor": 0
      },
      "text/plain": [
       "HBox(children=(FloatProgress(value=0.0, description='Gamma update loop', style=ProgressStyle(description_width…"
      ]
     },
     "metadata": {},
     "output_type": "display_data"
    },
    {
     "name": "stdout",
     "output_type": "stream",
     "text": [
      "Gamma - Recall: 77.78%, Precision: 70.00% (TP=7,FP=3,FN=2,TN=78)\n",
      "Theta - Direction accuracy: 100.00% (TP=9,FN=0) / Soft accuracy: 88.89% (TP=8,FN=1)\n"
     ]
    },
    {
     "data": {
      "application/vnd.jupyter.widget-view+json": {
       "model_id": "",
       "version_major": 2,
       "version_minor": 0
      },
      "text/plain": [
       "HBox(children=(FloatProgress(value=0.0, description='Model update loop', max=1000.0, style=ProgressStyle(descr…"
      ]
     },
     "metadata": {},
     "output_type": "display_data"
    },
    {
     "data": {
      "application/vnd.jupyter.widget-view+json": {
       "model_id": "",
       "version_major": 2,
       "version_minor": 0
      },
      "text/plain": [
       "HBox(children=(FloatProgress(value=0.0, description='Gamma update loop', style=ProgressStyle(description_width…"
      ]
     },
     "metadata": {},
     "output_type": "display_data"
    },
    {
     "name": "stdout",
     "output_type": "stream",
     "text": [
      "Gamma - Recall: 77.78%, Precision: 70.00% (TP=7,FP=3,FN=2,TN=78)\n",
      "Theta - Direction accuracy: 100.00% (TP=9,FN=0) / Soft accuracy: 88.89% (TP=8,FN=1)\n"
     ]
    },
    {
     "data": {
      "text/plain": [
       "Parameter containing:\n",
       "tensor([[-9.0000e+15, -9.0000e+15, -9.0000e+15, -9.0000e+15, -9.0000e+15,\n",
       "         -9.0000e+15, -9.0000e+15, -9.0000e+15, -9.0000e+15, -9.0000e+15],\n",
       "        [-9.0000e+15, -9.0000e+15,  4.0433e+00,  6.0072e+00,  6.3926e+00,\n",
       "         -1.8531e+00, -1.4259e+00, -2.6743e-01, -4.6605e-01, -1.5678e+00],\n",
       "        [-9.0000e+15,  4.5416e+00, -9.0000e+15, -2.8381e-01, -1.3865e+00,\n",
       "          6.2575e+00,  6.3114e+00, -1.4356e+00, -1.2897e+00, -1.8695e+00],\n",
       "        [-9.0000e+15,  3.0099e+00, -8.3996e-01, -9.0000e+15, -9.9591e-01,\n",
       "         -2.5745e+00, -1.0180e+00,  6.4656e+00,  6.4491e+00, -1.8524e+00],\n",
       "        [-9.0000e+15,  3.4220e+00, -6.3385e-01, -4.0944e-01, -9.0000e+15,\n",
       "         -2.4071e+00, -1.2393e+00, -9.8256e-01, -1.3139e+00,  6.2646e+00],\n",
       "        [-9.0000e+15, -1.1856e+00,  2.9892e+00, -6.9505e-01, -1.2644e+00,\n",
       "         -9.0000e+15, -1.0226e+00, -9.4451e-01, -1.2103e+00, -1.4980e+00],\n",
       "        [-9.0000e+15, -1.4515e+00,  3.5317e+00, -1.0039e+00, -1.2771e+00,\n",
       "          7.8768e-01, -9.0000e+15, -1.2376e+00, -1.1193e+00, -1.5528e+00],\n",
       "        [-9.0000e+15,  2.1416e+00, -1.1807e+00,  3.4077e+00, -9.2496e-01,\n",
       "         -1.8843e+00, -8.8847e-01, -9.0000e+15,  6.6012e-01, -1.3359e+00],\n",
       "        [-9.0000e+15,  1.2218e+00, -5.0146e-01,  3.3080e+00, -8.9922e-01,\n",
       "         -2.3449e+00, -1.1450e+00,  8.0781e-01, -9.0000e+15, -1.7188e+00],\n",
       "        [-9.0000e+15, -6.1453e-01, -7.5183e-01, -8.2786e-01,  3.3192e+00,\n",
       "         -2.0259e+00, -7.1725e-01, -1.1092e+00, -8.6760e-01, -9.0000e+15]],\n",
       "       requires_grad=True)"
      ]
     },
     "execution_count": 11,
     "metadata": {},
     "output_type": "execute_result"
    }
   ],
   "source": [
    "discovery_module.discover_graph(num_epochs=20)"
   ]
  },
  {
   "cell_type": "code",
   "execution_count": 12,
   "metadata": {},
   "outputs": [
    {
     "data": {
      "application/pdf": "[encoded data removed]",
      "image/svg+xml": [
       "<?xml version=\"1.0\" encoding=\"utf-8\" standalone=\"no\"?>\n",
       "<!DOCTYPE svg PUBLIC \"-//W3C//DTD SVG 1.1//EN\"\n",
       "  \"http://www.w3.org/Graphics/SVG/1.1/DTD/svg11.dtd\">\n",
       "<!-- Created with matplotlib (https://matplotlib.org/) -->\n",
       "<svg height=\"302.4pt\" version=\"1.1\" viewBox=\"0 0 302.4 302.4\" width=\"302.4pt\" xmlns=\"http://www.w3.org/2000/svg\" xmlns:xlink=\"http://www.w3.org/1999/xlink\">\n",
       " <metadata>\n",
       "  <rdf:RDF xmlns:cc=\"http://creativecommons.org/ns#\" xmlns:dc=\"http://purl.org/dc/elements/1.1/\" xmlns:rdf=\"http://www.w3.org/1999/02/22-rdf-syntax-ns#\">\n",
       "   <cc:Work>\n",
       "    <dc:type rdf:resource=\"http://purl.org/dc/dcmitype/StillImage\"/>\n",
       "    <dc:date>2021-04-07T12:33:49.605463</dc:date>\n",
       "    <dc:format>image/svg+xml</dc:format>\n",
       "    <dc:creator>\n",
       "     <cc:Agent>\n",
       "      <dc:title>Matplotlib v3.3.3, https://matplotlib.org/</dc:title>\n",
       "     </cc:Agent>\n",
       "    </dc:creator>\n",
       "   </cc:Work>\n",
       "  </rdf:RDF>\n",
       " </metadata>\n",
       " <defs>\n",
       "  <style type=\"text/css\">*{stroke-linecap:butt;stroke-linejoin:round;}</style>\n",
       " </defs>\n",
       " <g id=\"figure_1\">\n",
       "  <g id=\"patch_1\">\n",
       "   <path d=\"M 0 302.4 \n",
       "L 302.4 302.4 \n",
       "L 302.4 0 \n",
       "L 0 0 \n",
       "z\n",
       "\" style=\"fill:#ffffff;\"/>\n",
       "  </g>\n",
       "  <g id=\"axes_1\">\n",
       "   <g id=\"patch_2\">\n",
       "    <path clip-path=\"url(#p1981532e65)\" d=\"M 140.552051 39.975988 \n",
       "Q 101.811899 71.860886 63.934997 103.035292 \n",
       "\" style=\"fill:none;stroke:#000000;stroke-linecap:round;\"/>\n",
       "    <path clip-path=\"url(#p1981532e65)\" d=\"M 70.910074 101.438955 \n",
       "L 63.934997 103.035292 \n",
       "L 66.842974 96.497427 \n",
       "L 70.910074 101.438955 \n",
       "z\n",
       "\" style=\"stroke:#000000;stroke-linecap:round;\"/>\n",
       "   </g>\n",
       "   <g id=\"patch_3\">\n",
       "    <path clip-path=\"url(#p1981532e65)\" d=\"M 150.009917 44.438314 \n",
       "Q 150.009917 71.860393 150.009917 98.164439 \n",
       "\" style=\"fill:none;stroke:#000000;stroke-linecap:round;\"/>\n",
       "    <path clip-path=\"url(#p1981532e65)\" d=\"M 153.209917 91.764439 \n",
       "L 150.009917 98.164439 \n",
       "L 146.809917 91.764439 \n",
       "L 153.209917 91.764439 \n",
       "z\n",
       "\" style=\"stroke:#000000;stroke-linecap:round;\"/>\n",
       "   </g>\n",
       "   <g id=\"patch_4\">\n",
       "    <path clip-path=\"url(#p1981532e65)\" d=\"M 159.888497 39.42879 \n",
       "Q 204.158699 71.861173 247.526998 103.63282 \n",
       "\" style=\"fill:none;stroke:#000000;stroke-linecap:round;\"/>\n",
       "    <path clip-path=\"url(#p1981532e65)\" d=\"M 244.255337 97.269155 \n",
       "L 247.526998 103.63282 \n",
       "L 240.473069 102.43195 \n",
       "L 244.255337 97.269155 \n",
       "z\n",
       "\" style=\"stroke:#000000;stroke-linecap:round;\"/>\n",
       "   </g>\n",
       "   <g id=\"patch_5\">\n",
       "    <path clip-path=\"url(#p1981532e65)\" d=\"M 51.974317 123.670622 \n",
       "Q 42.902571 190.868739 33.980404 256.958872 \n",
       "\" style=\"fill:none;stroke:#000000;stroke-linecap:round;\"/>\n",
       "    <path clip-path=\"url(#p1981532e65)\" d=\"M 38.007869 251.044523 \n",
       "L 33.980404 256.958872 \n",
       "L 31.665404 250.18829 \n",
       "L 38.007869 251.044523 \n",
       "z\n",
       "\" style=\"stroke:#000000;stroke-linecap:round;\"/>\n",
       "   </g>\n",
       "   <g id=\"patch_6\">\n",
       "    <path clip-path=\"url(#p1981532e65)\" d=\"M 53.613223 123.777157 \n",
       "Q 53.613223 151.199236 53.613223 177.503282 \n",
       "\" style=\"fill:none;stroke:#000000;stroke-linecap:round;\"/>\n",
       "    <path clip-path=\"url(#p1981532e65)\" d=\"M 56.813223 171.103282 \n",
       "L 53.613223 177.503282 \n",
       "L 50.413223 171.103282 \n",
       "L 56.813223 171.103282 \n",
       "z\n",
       "\" style=\"stroke:#000000;stroke-linecap:round;\"/>\n",
       "   </g>\n",
       "   <g id=\"patch_7\">\n",
       "    <path clip-path=\"url(#p1981532e65)\" d=\"M 149.276285 123.757787 \n",
       "Q 145.249478 190.871239 141.289632 256.868664 \n",
       "\" style=\"fill:none;stroke:#000000;stroke-linecap:round;\"/>\n",
       "    <path clip-path=\"url(#p1981532e65)\" d=\"M 144.867198 250.671808 \n",
       "L 141.289632 256.868664 \n",
       "L 138.478687 250.288498 \n",
       "L 144.867198 250.671808 \n",
       "z\n",
       "\" style=\"stroke:#000000;stroke-linecap:round;\"/>\n",
       "   </g>\n",
       "   <g id=\"patch_8\">\n",
       "    <path clip-path=\"url(#p1981532e65)\" d=\"M 154.895873 122.762661 \n",
       "Q 167.267046 151.202139 179.192242 178.616382 \n",
       "\" style=\"fill:none;stroke:#000000;stroke-linecap:round;\"/>\n",
       "    <path clip-path=\"url(#p1981532e65)\" d=\"M 179.573713 171.471141 \n",
       "L 179.192242 178.616382 \n",
       "L 173.704931 174.024061 \n",
       "L 179.573713 171.471141 \n",
       "z\n",
       "\" style=\"stroke:#000000;stroke-linecap:round;\"/>\n",
       "   </g>\n",
       "   <g id=\"patch_9\">\n",
       "    <path clip-path=\"url(#p1981532e65)\" d=\"M 260.124086 123.641568 \n",
       "Q 264.258021 151.201131 268.226106 177.655029 \n",
       "\" style=\"fill:none;stroke:#000000;stroke-linecap:round;\"/>\n",
       "    <path clip-path=\"url(#p1981532e65)\" d=\"M 270.441323 170.851147 \n",
       "L 268.226106 177.655029 \n",
       "L 264.11213 171.800526 \n",
       "L 270.441323 170.851147 \n",
       "z\n",
       "\" style=\"stroke:#000000;stroke-linecap:round;\"/>\n",
       "   </g>\n",
       "   <g id=\"patch_10\">\n",
       "    <path clip-path=\"url(#p1981532e65)\" d=\"M 50.42105 202.692284 \n",
       "Q 42.902459 230.538917 35.675302 257.306168 \n",
       "\" style=\"fill:none;stroke:#000000;stroke-linecap:round;\"/>\n",
       "    <path clip-path=\"url(#p1981532e65)\" d=\"M 40.432936 251.961552 \n",
       "L 35.675302 257.306168 \n",
       "L 34.25419 250.293291 \n",
       "L 40.432936 251.961552 \n",
       "z\n",
       "\" style=\"stroke:#000000;stroke-linecap:round;\"/>\n",
       "   </g>\n",
       "   <g id=\"patch_11\">\n",
       "    <path clip-path=\"url(#p1981532e65)\" d=\"M 178.578765 201.578519 \n",
       "Q 162.506266 230.537976 146.976318 258.519865 \n",
       "\" style=\"fill:none;stroke:#000000;stroke-linecap:round;\"/>\n",
       "    <path clip-path=\"url(#p1981532e65)\" d=\"M 152.88002 254.476809 \n",
       "L 146.976318 258.519865 \n",
       "L 147.284094 251.37107 \n",
       "L 152.88002 254.476809 \n",
       "z\n",
       "\" style=\"stroke:#000000;stroke-linecap:round;\"/>\n",
       "   </g>\n",
       "   <g id=\"PathCollection_1\">\n",
       "    <defs>\n",
       "     <path d=\"M 0 12.247449 \n",
       "C 3.248061 12.247449 6.363528 10.95698 8.660254 8.660254 \n",
       "C 10.95698 6.363528 12.247449 3.248061 12.247449 0 \n",
       "C 12.247449 -3.248061 10.95698 -6.363528 8.660254 -8.660254 \n",
       "C 6.363528 -10.95698 3.248061 -12.247449 0 -12.247449 \n",
       "C -3.248061 -12.247449 -6.363528 -10.95698 -8.660254 -8.660254 \n",
       "C -10.95698 -6.363528 -12.247449 -3.248061 -12.247449 0 \n",
       "C -12.247449 3.248061 -10.95698 6.363528 -8.660254 8.660254 \n",
       "C -6.363528 10.95698 -3.248061 12.247449 0 12.247449 \n",
       "z\n",
       "\" id=\"m55b47bba25\" style=\"stroke:#000000;\"/>\n",
       "    </defs>\n",
       "    <g clip-path=\"url(#p1981532e65)\">\n",
       "     <use style=\"fill:#d3d3d3;stroke:#000000;\" x=\"64.323967\" xlink:href=\"#m55b47bba25\" y=\"32.191736\"/>\n",
       "     <use style=\"fill:#d3d3d3;stroke:#000000;\" x=\"150.009917\" xlink:href=\"#m55b47bba25\" y=\"32.191736\"/>\n",
       "     <use style=\"fill:#d3d3d3;stroke:#000000;\" x=\"53.613223\" xlink:href=\"#m55b47bba25\" y=\"111.530579\"/>\n",
       "     <use style=\"fill:#d3d3d3;stroke:#000000;\" x=\"150.009917\" xlink:href=\"#m55b47bba25\" y=\"111.530579\"/>\n",
       "     <use style=\"fill:#d3d3d3;stroke:#000000;\" x=\"258.307438\" xlink:href=\"#m55b47bba25\" y=\"111.530579\"/>\n",
       "     <use style=\"fill:#d3d3d3;stroke:#000000;\" x=\"32.191736\" xlink:href=\"#m55b47bba25\" y=\"270.208264\"/>\n",
       "     <use style=\"fill:#d3d3d3;stroke:#000000;\" x=\"53.613223\" xlink:href=\"#m55b47bba25\" y=\"190.869421\"/>\n",
       "     <use style=\"fill:#d3d3d3;stroke:#000000;\" x=\"140.489256\" xlink:href=\"#m55b47bba25\" y=\"270.208264\"/>\n",
       "     <use style=\"fill:#d3d3d3;stroke:#000000;\" x=\"184.522314\" xlink:href=\"#m55b47bba25\" y=\"190.869421\"/>\n",
       "     <use style=\"fill:#d3d3d3;stroke:#000000;\" x=\"270.208264\" xlink:href=\"#m55b47bba25\" y=\"190.869421\"/>\n",
       "    </g>\n",
       "   </g>\n",
       "   <g id=\"text_1\">\n",
       "    <g clip-path=\"url(#p1981532e65)\">\n",
       "     <!-- H -->\n",
       "     <g transform=\"translate(59.302717 35.502986)scale(0.12 -0.12)\">\n",
       "      <defs>\n",
       "       <path d=\"M 9.1875 72.90625 \n",
       "L 27.984375 72.90625 \n",
       "L 27.984375 45.125 \n",
       "L 55.71875 45.125 \n",
       "L 55.71875 72.90625 \n",
       "L 74.515625 72.90625 \n",
       "L 74.515625 0 \n",
       "L 55.71875 0 \n",
       "L 55.71875 30.90625 \n",
       "L 27.984375 30.90625 \n",
       "L 27.984375 0 \n",
       "L 9.1875 0 \n",
       "z\n",
       "\" id=\"DejaVuSans-Bold-72\"/>\n",
       "      </defs>\n",
       "      <use xlink:href=\"#DejaVuSans-Bold-72\"/>\n",
       "     </g>\n",
       "    </g>\n",
       "   </g>\n",
       "   <g id=\"text_2\">\n",
       "    <g clip-path=\"url(#p1981532e65)\">\n",
       "     <!-- D -->\n",
       "     <g transform=\"translate(145.02898 35.502986)scale(0.12 -0.12)\">\n",
       "      <defs>\n",
       "       <path d=\"M 27.984375 58.6875 \n",
       "L 27.984375 14.203125 \n",
       "L 34.71875 14.203125 \n",
       "Q 46.234375 14.203125 52.3125 19.921875 \n",
       "Q 58.40625 25.640625 58.40625 36.53125 \n",
       "Q 58.40625 47.359375 52.34375 53.015625 \n",
       "Q 46.296875 58.6875 34.71875 58.6875 \n",
       "z\n",
       "M 9.1875 72.90625 \n",
       "L 29 72.90625 \n",
       "Q 45.609375 72.90625 53.734375 70.53125 \n",
       "Q 61.859375 68.171875 67.671875 62.5 \n",
       "Q 72.796875 57.5625 75.28125 51.109375 \n",
       "Q 77.78125 44.671875 77.78125 36.53125 \n",
       "Q 77.78125 28.265625 75.28125 21.796875 \n",
       "Q 72.796875 15.328125 67.671875 10.40625 \n",
       "Q 61.8125 4.734375 53.609375 2.359375 \n",
       "Q 45.40625 0 29 0 \n",
       "L 9.1875 0 \n",
       "z\n",
       "\" id=\"DejaVuSans-Bold-68\"/>\n",
       "      </defs>\n",
       "      <use xlink:href=\"#DejaVuSans-Bold-68\"/>\n",
       "     </g>\n",
       "    </g>\n",
       "   </g>\n",
       "   <g id=\"text_3\">\n",
       "    <g clip-path=\"url(#p1981532e65)\">\n",
       "     <!-- C -->\n",
       "     <g transform=\"translate(49.209786 114.841829)scale(0.12 -0.12)\">\n",
       "      <defs>\n",
       "       <path d=\"M 67 4 \n",
       "Q 61.8125 1.3125 56.203125 -0.046875 \n",
       "Q 50.59375 -1.421875 44.484375 -1.421875 \n",
       "Q 26.265625 -1.421875 15.625 8.765625 \n",
       "Q 4.984375 18.953125 4.984375 36.375 \n",
       "Q 4.984375 53.859375 15.625 64.03125 \n",
       "Q 26.265625 74.21875 44.484375 74.21875 \n",
       "Q 50.59375 74.21875 56.203125 72.84375 \n",
       "Q 61.8125 71.484375 67 68.796875 \n",
       "L 67 53.71875 \n",
       "Q 61.765625 57.28125 56.6875 58.9375 \n",
       "Q 51.609375 60.59375 46 60.59375 \n",
       "Q 35.9375 60.59375 30.171875 54.140625 \n",
       "Q 24.421875 47.703125 24.421875 36.375 \n",
       "Q 24.421875 25.09375 30.171875 18.640625 \n",
       "Q 35.9375 12.203125 46 12.203125 \n",
       "Q 51.609375 12.203125 56.6875 13.859375 \n",
       "Q 61.765625 15.53125 67 19.09375 \n",
       "z\n",
       "\" id=\"DejaVuSans-Bold-67\"/>\n",
       "      </defs>\n",
       "      <use xlink:href=\"#DejaVuSans-Bold-67\"/>\n",
       "     </g>\n",
       "    </g>\n",
       "   </g>\n",
       "   <g id=\"text_4\">\n",
       "    <g clip-path=\"url(#p1981532e65)\">\n",
       "     <!-- I -->\n",
       "     <g transform=\"translate(147.77773 114.841829)scale(0.12 -0.12)\">\n",
       "      <defs>\n",
       "       <path d=\"M 9.1875 72.90625 \n",
       "L 27.984375 72.90625 \n",
       "L 27.984375 0 \n",
       "L 9.1875 0 \n",
       "z\n",
       "\" id=\"DejaVuSans-Bold-73\"/>\n",
       "      </defs>\n",
       "      <use xlink:href=\"#DejaVuSans-Bold-73\"/>\n",
       "     </g>\n",
       "    </g>\n",
       "   </g>\n",
       "   <g id=\"text_5\">\n",
       "    <g clip-path=\"url(#p1981532e65)\">\n",
       "     <!-- F -->\n",
       "     <g transform=\"translate(254.208688 114.841829)scale(0.12 -0.12)\">\n",
       "      <defs>\n",
       "       <path d=\"M 9.1875 72.90625 \n",
       "L 59.90625 72.90625 \n",
       "L 59.90625 58.6875 \n",
       "L 27.984375 58.6875 \n",
       "L 27.984375 45.125 \n",
       "L 58.015625 45.125 \n",
       "L 58.015625 30.90625 \n",
       "L 27.984375 30.90625 \n",
       "L 27.984375 0 \n",
       "L 9.1875 0 \n",
       "z\n",
       "\" id=\"DejaVuSans-Bold-70\"/>\n",
       "      </defs>\n",
       "      <use xlink:href=\"#DejaVuSans-Bold-70\"/>\n",
       "     </g>\n",
       "    </g>\n",
       "   </g>\n",
       "   <g id=\"text_6\">\n",
       "    <g clip-path=\"url(#p1981532e65)\">\n",
       "     <!-- G -->\n",
       "     <g transform=\"translate(27.267048 273.519514)scale(0.12 -0.12)\">\n",
       "      <defs>\n",
       "       <path d=\"M 74.703125 5.421875 \n",
       "Q 67.671875 2 60.109375 0.28125 \n",
       "Q 52.546875 -1.421875 44.484375 -1.421875 \n",
       "Q 26.265625 -1.421875 15.625 8.765625 \n",
       "Q 4.984375 18.953125 4.984375 36.375 \n",
       "Q 4.984375 54 15.8125 64.109375 \n",
       "Q 26.65625 74.21875 45.515625 74.21875 \n",
       "Q 52.78125 74.21875 59.4375 72.84375 \n",
       "Q 66.109375 71.484375 72.015625 68.796875 \n",
       "L 72.015625 53.71875 \n",
       "Q 65.921875 57.171875 59.890625 58.875 \n",
       "Q 53.859375 60.59375 47.796875 60.59375 \n",
       "Q 36.578125 60.59375 30.5 54.3125 \n",
       "Q 24.421875 48.046875 24.421875 36.375 \n",
       "Q 24.421875 24.8125 30.28125 18.5 \n",
       "Q 36.140625 12.203125 46.921875 12.203125 \n",
       "Q 49.859375 12.203125 52.375 12.5625 \n",
       "Q 54.890625 12.9375 56.890625 13.71875 \n",
       "L 56.890625 27.875 \n",
       "L 45.40625 27.875 \n",
       "L 45.40625 40.484375 \n",
       "L 74.703125 40.484375 \n",
       "z\n",
       "\" id=\"DejaVuSans-Bold-71\"/>\n",
       "      </defs>\n",
       "      <use xlink:href=\"#DejaVuSans-Bold-71\"/>\n",
       "     </g>\n",
       "    </g>\n",
       "   </g>\n",
       "   <g id=\"text_7\">\n",
       "    <g clip-path=\"url(#p1981532e65)\">\n",
       "     <!-- J -->\n",
       "     <g transform=\"translate(51.381036 194.180671)scale(0.12 -0.12)\">\n",
       "      <defs>\n",
       "       <path d=\"M 9.1875 72.90625 \n",
       "L 27.984375 72.90625 \n",
       "L 27.984375 7.078125 \n",
       "Q 27.984375 -6.546875 20.578125 -13.28125 \n",
       "Q 13.1875 -20.015625 -1.8125 -20.015625 \n",
       "L -5.609375 -20.015625 \n",
       "L -5.609375 -5.8125 \n",
       "L -2.6875 -5.8125 \n",
       "Q 3.171875 -5.8125 6.171875 -2.53125 \n",
       "Q 9.1875 0.734375 9.1875 7.078125 \n",
       "z\n",
       "\" id=\"DejaVuSans-Bold-74\"/>\n",
       "      </defs>\n",
       "      <use xlink:href=\"#DejaVuSans-Bold-74\"/>\n",
       "     </g>\n",
       "    </g>\n",
       "   </g>\n",
       "   <g id=\"text_8\">\n",
       "    <g clip-path=\"url(#p1981532e65)\">\n",
       "     <!-- E -->\n",
       "     <g transform=\"translate(136.390506 273.519514)scale(0.12 -0.12)\">\n",
       "      <defs>\n",
       "       <path d=\"M 9.1875 72.90625 \n",
       "L 59.90625 72.90625 \n",
       "L 59.90625 58.6875 \n",
       "L 27.984375 58.6875 \n",
       "L 27.984375 45.125 \n",
       "L 58.015625 45.125 \n",
       "L 58.015625 30.90625 \n",
       "L 27.984375 30.90625 \n",
       "L 27.984375 14.203125 \n",
       "L 60.984375 14.203125 \n",
       "L 60.984375 0 \n",
       "L 9.1875 0 \n",
       "z\n",
       "\" id=\"DejaVuSans-Bold-69\"/>\n",
       "      </defs>\n",
       "      <use xlink:href=\"#DejaVuSans-Bold-69\"/>\n",
       "     </g>\n",
       "    </g>\n",
       "   </g>\n",
       "   <g id=\"text_9\">\n",
       "    <g clip-path=\"url(#p1981532e65)\">\n",
       "     <!-- A -->\n",
       "     <g transform=\"translate(179.878877 194.180671)scale(0.12 -0.12)\">\n",
       "      <defs>\n",
       "       <path d=\"M 53.421875 13.28125 \n",
       "L 24.03125 13.28125 \n",
       "L 19.390625 0 \n",
       "L 0.484375 0 \n",
       "L 27.484375 72.90625 \n",
       "L 49.90625 72.90625 \n",
       "L 76.90625 0 \n",
       "L 58.015625 0 \n",
       "z\n",
       "M 28.71875 26.8125 \n",
       "L 48.6875 26.8125 \n",
       "L 38.71875 55.8125 \n",
       "z\n",
       "\" id=\"DejaVuSans-Bold-65\"/>\n",
       "      </defs>\n",
       "      <use xlink:href=\"#DejaVuSans-Bold-65\"/>\n",
       "     </g>\n",
       "    </g>\n",
       "   </g>\n",
       "   <g id=\"text_10\">\n",
       "    <g clip-path=\"url(#p1981532e65)\">\n",
       "     <!-- B -->\n",
       "     <g transform=\"translate(265.635139 194.180671)scale(0.12 -0.12)\">\n",
       "      <defs>\n",
       "       <path d=\"M 38.375 44.671875 \n",
       "Q 42.828125 44.671875 45.109375 46.625 \n",
       "Q 47.40625 48.578125 47.40625 52.390625 \n",
       "Q 47.40625 56.15625 45.109375 58.125 \n",
       "Q 42.828125 60.109375 38.375 60.109375 \n",
       "L 27.984375 60.109375 \n",
       "L 27.984375 44.671875 \n",
       "z\n",
       "M 39.015625 12.796875 \n",
       "Q 44.671875 12.796875 47.53125 15.1875 \n",
       "Q 50.390625 17.578125 50.390625 22.40625 \n",
       "Q 50.390625 27.15625 47.5625 29.515625 \n",
       "Q 44.734375 31.890625 39.015625 31.890625 \n",
       "L 27.984375 31.890625 \n",
       "L 27.984375 12.796875 \n",
       "z\n",
       "M 56.5 39.015625 \n",
       "Q 62.546875 37.25 65.859375 32.515625 \n",
       "Q 69.1875 27.78125 69.1875 20.90625 \n",
       "Q 69.1875 10.359375 62.0625 5.171875 \n",
       "Q 54.9375 0 40.375 0 \n",
       "L 9.1875 0 \n",
       "L 9.1875 72.90625 \n",
       "L 37.40625 72.90625 \n",
       "Q 52.59375 72.90625 59.40625 68.3125 \n",
       "Q 66.21875 63.71875 66.21875 53.609375 \n",
       "Q 66.21875 48.296875 63.71875 44.5625 \n",
       "Q 61.234375 40.828125 56.5 39.015625 \n",
       "z\n",
       "\" id=\"DejaVuSans-Bold-66\"/>\n",
       "      </defs>\n",
       "      <use xlink:href=\"#DejaVuSans-Bold-66\"/>\n",
       "     </g>\n",
       "    </g>\n",
       "   </g>\n",
       "  </g>\n",
       " </g>\n",
       " <defs>\n",
       "  <clipPath id=\"p1981532e65\">\n",
       "   <rect height=\"288\" width=\"288\" x=\"7.2\" y=\"7.2\"/>\n",
       "  </clipPath>\n",
       " </defs>\n",
       "</svg>\n"
      ],
      "text/plain": [
       "<Figure size 288x288 with 1 Axes>"
      ]
     },
     "metadata": {},
     "output_type": "display_data"
    }
   ],
   "source": [
    "pred_graph = deepcopy(graph)\n",
    "pred_graph.adj_matrix = discovery_module.get_binary_adjmatrix().detach().cpu().numpy()\n",
    "pred_graph.edges = adj_matrix_to_edges(pred_graph.adj_matrix)\n",
    "visualize_graph(pred_graph, \n",
    "                show_plot=True,\n",
    "                figsize=(4, 4), \n",
    "                layout=\"graphviz\")"
   ]
  },
  {
   "cell_type": "code",
   "execution_count": 13,
   "metadata": {},
   "outputs": [
    {
     "data": {
      "text/plain": [
       "Parameter containing:\n",
       "tensor([[ 0.0000, -0.0846,  0.0390,  0.2922,  0.0451,  0.0347,  0.0523,  0.3693,\n",
       "         -0.1546, -0.0890],\n",
       "        [ 0.0846,  0.0000,  0.1969,  3.3089,  3.2453,  0.3295, -0.2387,  1.8393,\n",
       "          0.8350,  1.5097],\n",
       "        [-0.0390, -0.1969,  0.0000, -0.2489, -0.2501,  3.2319,  3.2029,  0.3575,\n",
       "          0.2153,  0.4009],\n",
       "        [-0.2922, -3.3089,  0.2489,  0.0000, -0.1177,  0.0835, -0.2939,  3.1931,\n",
       "          3.1903,  0.2438],\n",
       "        [-0.0451, -3.2453,  0.2501,  0.1177,  0.0000,  0.3777,  0.0417, -0.2005,\n",
       "         -0.1015,  3.0567],\n",
       "        [-0.0347, -0.3295, -3.2319, -0.0835, -0.3777,  0.0000, -0.3675,  0.0736,\n",
       "         -0.4475, -0.1174],\n",
       "        [-0.0523,  0.2387, -3.2029,  0.2939, -0.0417,  0.3675,  0.0000,  0.0633,\n",
       "          0.0879,  0.3350],\n",
       "        [-0.3693, -1.8393, -0.3575, -3.1931,  0.2005, -0.0736, -0.0633,  0.0000,\n",
       "         -0.3532, -0.1736],\n",
       "        [ 0.1546, -0.8350, -0.2153, -3.1903,  0.1015,  0.4475, -0.0879,  0.3532,\n",
       "          0.0000, -0.4312],\n",
       "        [ 0.0890, -1.5097, -0.4009, -0.2438, -3.0567,  0.1174, -0.3350,  0.1736,\n",
       "          0.4312,  0.0000]], requires_grad=True)"
      ]
     },
     "execution_count": 13,
     "metadata": {},
     "output_type": "execute_result"
    }
   ],
   "source": [
    "discovery_module.theta_matrix"
   ]
  },
  {
   "cell_type": "code",
   "execution_count": null,
   "metadata": {},
   "outputs": [],
   "source": []
  }
 ],
 "metadata": {
  "kernelspec": {
   "display_name": "Python 3",
   "language": "python",
   "name": "python3"
  },
  "language_info": {
   "codemirror_mode": {
    "name": "ipython",
    "version": 3
   },
   "file_extension": ".py",
   "mimetype": "text/x-python",
   "name": "python",
   "nbconvert_exporter": "python",
   "pygments_lexer": "ipython3",
   "version": "3.7.3"
  }
 },
 "nbformat": 4,
 "nbformat_minor": 4
}
