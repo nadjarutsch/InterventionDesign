{
 "cells": [
  {
   "cell_type": "markdown",
   "metadata": {},
   "source": [
    "# Testing different utilities \n",
    "## Testing Adam Theta optimizer"
   ]
  },
  {
   "cell_type": "code",
   "execution_count": 1,
   "metadata": {},
   "outputs": [],
   "source": [
    "import torch\n",
    "import torch.nn as nn\n",
    "import numpy as np"
   ]
  },
  {
   "cell_type": "code",
   "execution_count": 2,
   "metadata": {},
   "outputs": [],
   "source": [
    "from adam_theta import AdamTheta"
   ]
  },
  {
   "cell_type": "code",
   "execution_count": 3,
   "metadata": {},
   "outputs": [],
   "source": [
    "NUM_VARS = 10\n",
    "theta = nn.Parameter(torch.zeros(NUM_VARS, NUM_VARS))\n",
    "optim = AdamTheta(theta, lr=2e-2)"
   ]
  },
  {
   "cell_type": "code",
   "execution_count": 4,
   "metadata": {},
   "outputs": [],
   "source": [
    "theta.grad = torch.ones_like(theta.data)"
   ]
  },
  {
   "cell_type": "code",
   "execution_count": 5,
   "metadata": {},
   "outputs": [],
   "source": [
    "mask = torch.zeros_like(theta)\n",
    "mask[1,:] = 1\n",
    "mask[:,1] = 1"
   ]
  },
  {
   "cell_type": "code",
   "execution_count": 6,
   "metadata": {},
   "outputs": [],
   "source": [
    "optim.step(mask)"
   ]
  },
  {
   "cell_type": "code",
   "execution_count": 7,
   "metadata": {},
   "outputs": [
    {
     "data": {
      "text/plain": [
       "Parameter containing:\n",
       "tensor([[ 0.0000, -0.0200,  0.0000,  0.0000,  0.0000,  0.0000,  0.0000,  0.0000,\n",
       "          0.0000,  0.0000],\n",
       "        [-0.0200, -0.0200, -0.0200, -0.0200, -0.0200, -0.0200, -0.0200, -0.0200,\n",
       "         -0.0200, -0.0200],\n",
       "        [ 0.0000, -0.0200,  0.0000,  0.0000,  0.0000,  0.0000,  0.0000,  0.0000,\n",
       "          0.0000,  0.0000],\n",
       "        [ 0.0000, -0.0200,  0.0000,  0.0000,  0.0000,  0.0000,  0.0000,  0.0000,\n",
       "          0.0000,  0.0000],\n",
       "        [ 0.0000, -0.0200,  0.0000,  0.0000,  0.0000,  0.0000,  0.0000,  0.0000,\n",
       "          0.0000,  0.0000],\n",
       "        [ 0.0000, -0.0200,  0.0000,  0.0000,  0.0000,  0.0000,  0.0000,  0.0000,\n",
       "          0.0000,  0.0000],\n",
       "        [ 0.0000, -0.0200,  0.0000,  0.0000,  0.0000,  0.0000,  0.0000,  0.0000,\n",
       "          0.0000,  0.0000],\n",
       "        [ 0.0000, -0.0200,  0.0000,  0.0000,  0.0000,  0.0000,  0.0000,  0.0000,\n",
       "          0.0000,  0.0000],\n",
       "        [ 0.0000, -0.0200,  0.0000,  0.0000,  0.0000,  0.0000,  0.0000,  0.0000,\n",
       "          0.0000,  0.0000],\n",
       "        [ 0.0000, -0.0200,  0.0000,  0.0000,  0.0000,  0.0000,  0.0000,  0.0000,\n",
       "          0.0000,  0.0000]], requires_grad=True)"
      ]
     },
     "execution_count": 7,
     "metadata": {},
     "output_type": "execute_result"
    }
   ],
   "source": [
    "theta"
   ]
  },
  {
   "cell_type": "code",
   "execution_count": 8,
   "metadata": {},
   "outputs": [
    {
     "data": {
      "text/plain": [
       "tensor([[0., 1., 0., 0., 0., 0., 0., 0., 0., 0.],\n",
       "        [1., 1., 1., 1., 1., 1., 1., 1., 1., 1.],\n",
       "        [0., 1., 0., 0., 0., 0., 0., 0., 0., 0.],\n",
       "        [0., 1., 0., 0., 0., 0., 0., 0., 0., 0.],\n",
       "        [0., 1., 0., 0., 0., 0., 0., 0., 0., 0.],\n",
       "        [0., 1., 0., 0., 0., 0., 0., 0., 0., 0.],\n",
       "        [0., 1., 0., 0., 0., 0., 0., 0., 0., 0.],\n",
       "        [0., 1., 0., 0., 0., 0., 0., 0., 0., 0.],\n",
       "        [0., 1., 0., 0., 0., 0., 0., 0., 0., 0.],\n",
       "        [0., 1., 0., 0., 0., 0., 0., 0., 0., 0.]])"
      ]
     },
     "execution_count": 8,
     "metadata": {},
     "output_type": "execute_result"
    }
   ],
   "source": [
    "optim.param_step"
   ]
  },
  {
   "cell_type": "code",
   "execution_count": 9,
   "metadata": {},
   "outputs": [
    {
     "data": {
      "text/plain": [
       "tensor([[0.0000, 0.1000, 0.0000, 0.0000, 0.0000, 0.0000, 0.0000, 0.0000, 0.0000,\n",
       "         0.0000],\n",
       "        [0.1000, 0.1000, 0.1000, 0.1000, 0.1000, 0.1000, 0.1000, 0.1000, 0.1000,\n",
       "         0.1000],\n",
       "        [0.0000, 0.1000, 0.0000, 0.0000, 0.0000, 0.0000, 0.0000, 0.0000, 0.0000,\n",
       "         0.0000],\n",
       "        [0.0000, 0.1000, 0.0000, 0.0000, 0.0000, 0.0000, 0.0000, 0.0000, 0.0000,\n",
       "         0.0000],\n",
       "        [0.0000, 0.1000, 0.0000, 0.0000, 0.0000, 0.0000, 0.0000, 0.0000, 0.0000,\n",
       "         0.0000],\n",
       "        [0.0000, 0.1000, 0.0000, 0.0000, 0.0000, 0.0000, 0.0000, 0.0000, 0.0000,\n",
       "         0.0000],\n",
       "        [0.0000, 0.1000, 0.0000, 0.0000, 0.0000, 0.0000, 0.0000, 0.0000, 0.0000,\n",
       "         0.0000],\n",
       "        [0.0000, 0.1000, 0.0000, 0.0000, 0.0000, 0.0000, 0.0000, 0.0000, 0.0000,\n",
       "         0.0000],\n",
       "        [0.0000, 0.1000, 0.0000, 0.0000, 0.0000, 0.0000, 0.0000, 0.0000, 0.0000,\n",
       "         0.0000],\n",
       "        [0.0000, 0.1000, 0.0000, 0.0000, 0.0000, 0.0000, 0.0000, 0.0000, 0.0000,\n",
       "         0.0000]])"
      ]
     },
     "execution_count": 9,
     "metadata": {},
     "output_type": "execute_result"
    }
   ],
   "source": [
    "optim.param_momentum"
   ]
  },
  {
   "cell_type": "code",
   "execution_count": 10,
   "metadata": {},
   "outputs": [
    {
     "data": {
      "text/plain": [
       "tensor([[0.0000, 0.0010, 0.0000, 0.0000, 0.0000, 0.0000, 0.0000, 0.0000, 0.0000,\n",
       "         0.0000],\n",
       "        [0.0010, 0.0010, 0.0010, 0.0010, 0.0010, 0.0010, 0.0010, 0.0010, 0.0010,\n",
       "         0.0010],\n",
       "        [0.0000, 0.0010, 0.0000, 0.0000, 0.0000, 0.0000, 0.0000, 0.0000, 0.0000,\n",
       "         0.0000],\n",
       "        [0.0000, 0.0010, 0.0000, 0.0000, 0.0000, 0.0000, 0.0000, 0.0000, 0.0000,\n",
       "         0.0000],\n",
       "        [0.0000, 0.0010, 0.0000, 0.0000, 0.0000, 0.0000, 0.0000, 0.0000, 0.0000,\n",
       "         0.0000],\n",
       "        [0.0000, 0.0010, 0.0000, 0.0000, 0.0000, 0.0000, 0.0000, 0.0000, 0.0000,\n",
       "         0.0000],\n",
       "        [0.0000, 0.0010, 0.0000, 0.0000, 0.0000, 0.0000, 0.0000, 0.0000, 0.0000,\n",
       "         0.0000],\n",
       "        [0.0000, 0.0010, 0.0000, 0.0000, 0.0000, 0.0000, 0.0000, 0.0000, 0.0000,\n",
       "         0.0000],\n",
       "        [0.0000, 0.0010, 0.0000, 0.0000, 0.0000, 0.0000, 0.0000, 0.0000, 0.0000,\n",
       "         0.0000],\n",
       "        [0.0000, 0.0010, 0.0000, 0.0000, 0.0000, 0.0000, 0.0000, 0.0000, 0.0000,\n",
       "         0.0000]])"
      ]
     },
     "execution_count": 10,
     "metadata": {},
     "output_type": "execute_result"
    }
   ],
   "source": [
    "optim.param_2nd_momentum"
   ]
  },
  {
   "cell_type": "markdown",
   "metadata": {},
   "source": [
    "## Test logging"
   ]
  },
  {
   "cell_type": "code",
   "execution_count": 11,
   "metadata": {},
   "outputs": [],
   "source": [
    "from utils import update_stats, get_final_stats"
   ]
  },
  {
   "cell_type": "code",
   "execution_count": 17,
   "metadata": {},
   "outputs": [
    {
     "name": "stdout",
     "output_type": "stream",
     "text": [
      "Mean tensor([[-0.2113,  0.1445],\n",
      "        [ 0.0186,  0.9273]])\n",
      "Var tensor([[0.3106, 0.7867],\n",
      "        [0.4735, 0.5212]])\n"
     ]
    }
   ],
   "source": [
    "torch.manual_seed(42)\n",
    "vals = torch.randn(5, 2, 2)\n",
    "vals[0] = 0.\n",
    "vals[4] = 0.\n",
    "print(\"Mean\", torch.mean(vals[1:-1], dim=0))\n",
    "print(\"Var\", torch.var(vals[1:-1], dim=0))"
   ]
  },
  {
   "cell_type": "code",
   "execution_count": 18,
   "metadata": {},
   "outputs": [
    {
     "name": "stdout",
     "output_type": "stream",
     "text": [
      "Stats dict at iter 1:\n",
      "{'mean': tensor([[0., 0.],\n",
      "        [0., 0.]]), 'var': tensor([[0., 0.],\n",
      "        [0., 0.]]), 'max': tensor([[-9.0000e+15, -9.0000e+15],\n",
      "        [-9.0000e+15, -9.0000e+15]]), 'min': tensor([[9.0000e+15, 9.0000e+15],\n",
      "        [9.0000e+15, 9.0000e+15]]), 'count': tensor([[0., 0.],\n",
      "        [0., 0.]])}\n",
      "Stats dict at iter 2:\n",
      "{'mean': tensor([[-0.7581,  1.0783],\n",
      "        [ 0.8008,  1.6806]]), 'var': tensor([[0., 0.],\n",
      "        [0., 0.]]), 'max': tensor([[-0.7581,  1.0783],\n",
      "        [ 0.8008,  1.6806]]), 'min': tensor([[-0.7581,  1.0783],\n",
      "        [ 0.8008,  1.6806]]), 'count': tensor([[1., 1.],\n",
      "        [1., 1.]])}\n",
      "Stats dict at iter 3:\n",
      "{'mean': tensor([[-0.2011,  0.1958],\n",
      "        [ 0.1537,  0.9611]]), 'var': tensor([[0.6205, 1.5575],\n",
      "        [0.8374, 1.0356]]), 'max': tensor([[0.3559, 1.0783],\n",
      "        [0.8008, 1.6806]]), 'min': tensor([[-0.7581, -0.6866],\n",
      "        [-0.4934,  0.2415]]), 'count': tensor([[2., 2.],\n",
      "        [2., 2.]])}\n",
      "Stats dict at iter 4:\n",
      "{'mean': tensor([[-0.2113,  0.1445],\n",
      "        [ 0.0186,  0.9273]]), 'var': tensor([[0.6211, 1.5733],\n",
      "        [0.9469, 1.0424]]), 'max': tensor([[0.3559, 1.0783],\n",
      "        [0.8008, 1.6806]]), 'min': tensor([[-0.7581, -0.6866],\n",
      "        [-0.4934,  0.2415]]), 'count': tensor([[3., 3.],\n",
      "        [3., 3.]])}\n",
      "Stats dict at iter 5:\n",
      "{'mean': tensor([[-0.2113,  0.1445],\n",
      "        [ 0.0186,  0.9273]]), 'var': tensor([[0.6211, 1.5733],\n",
      "        [0.9469, 1.0424]]), 'max': tensor([[0.3559, 1.0783],\n",
      "        [0.8008, 1.6806]]), 'min': tensor([[-0.7581, -0.6866],\n",
      "        [-0.4934,  0.2415]]), 'count': tensor([[3., 3.],\n",
      "        [3., 3.]])}\n",
      "Final metrics\n",
      "Mean: tensor([[-0.2113,  0.1445],\n",
      "        [ 0.0186,  0.9273]])\n",
      "Var: tensor([[0.3106, 0.7867],\n",
      "        [0.4735, 0.5212]])\n",
      "Min: tensor([[-0.7581, -0.6866],\n",
      "        [-0.4934,  0.2415]])\n",
      "Max: tensor([[0.3559, 1.0783],\n",
      "        [0.8008, 1.6806]])\n"
     ]
    }
   ],
   "source": [
    "stats_dict = {}\n",
    "for i in range(vals.shape[0]):\n",
    "    update_stats(stats_dict, vals[i])\n",
    "    print(\"Stats dict at iter %i:\\n\" % (i+1) + str(stats_dict))\n",
    "final_metrics = get_final_stats(stats_dict)\n",
    "print(\"Final metrics\")\n",
    "print(\"Mean:\", final_metrics[...,0])\n",
    "print(\"Var:\", final_metrics[...,1])\n",
    "print(\"Min:\", final_metrics[...,2])\n",
    "print(\"Max:\", final_metrics[...,3])"
   ]
  },
  {
   "cell_type": "code",
   "execution_count": null,
   "metadata": {},
   "outputs": [],
   "source": []
  }
 ],
 "metadata": {
  "kernelspec": {
   "display_name": "Python 3",
   "language": "python",
   "name": "python3"
  },
  "language_info": {
   "codemirror_mode": {
    "name": "ipython",
    "version": 3
   },
   "file_extension": ".py",
   "mimetype": "text/x-python",
   "name": "python",
   "nbconvert_exporter": "python",
   "pygments_lexer": "ipython3",
   "version": "3.7.3"
  }
 },
 "nbformat": 4,
 "nbformat_minor": 4
}
